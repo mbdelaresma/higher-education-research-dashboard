{
 "cells": [
  {
   "cell_type": "code",
   "execution_count": null,
   "id": "867c5c01",
   "metadata": {},
   "outputs": [],
   "source": [
    "import pandas as pd \n",
    "import re \n",
    "import numpy as np\n",
    "from collections import Counter\n",
    "from wordcloud import WordCloud\n",
    "import matplotlib.pyplot as plt\n",
    "import fim\n",
    "\n",
    "import nltk\n",
    "from nltk.stem import WordNetLemmatizer\n",
    "from nltk.corpus import stopwords\n",
    "# Download nltk requirements\n",
    "# nltk.download('punkt')\n",
    "# nltk.download('wordnet')\n",
    "# nltk.download('stopwords')\n",
    "\n",
    "from sklearn.feature_extraction.text import TfidfVectorizer\n",
    "from sklearn.decomposition import TruncatedSVD\n",
    "\n",
    "from tqdm import tqdm"
   ]
  },
  {
   "cell_type": "markdown",
   "id": "5d17c44c",
   "metadata": {},
   "source": [
    "# Data Cleaning"
   ]
  },
  {
   "cell_type": "code",
   "execution_count": null,
   "id": "7a315724",
   "metadata": {},
   "outputs": [],
   "source": [
    "df = pd.read_excel('data_cleaned/Data_Dump_4_9_2022_v2.xlsx', sheet_name=None)"
   ]
  },
  {
   "cell_type": "code",
   "execution_count": null,
   "id": "e46bcc49",
   "metadata": {},
   "outputs": [],
   "source": [
    "res_prop = df['Research Profile'].copy()\n",
    "x = (res_prop['Author'].str.replace(r'\\(.*?\\)', r'', regex=True)\n",
    "                   .str.replace(r'\\n', r';', regex=True)\n",
    "                   .str.split(';')).explode()\n",
    "\n",
    "# weird author\n",
    "display(x[x.str.len() > 40])"
   ]
  },
  {
   "cell_type": "code",
   "execution_count": null,
   "id": "0f2e4754",
   "metadata": {},
   "outputs": [],
   "source": [
    "def check_names(names):\n",
    "    \"\"\" check the consistency and fix author names\n",
    "    \n",
    "    Parameters\n",
    "    ----------\n",
    "    names     :    list\n",
    "                   list of names\n",
    "    \n",
    "    Returns\n",
    "    ----------\n",
    "    new_names :    list\n",
    "                   list of checked names\n",
    "    \"\"\"\n",
    "    new_names = []\n",
    "    for name in names:\n",
    "        char_counter = Counter(name)\n",
    "        name = name.strip()\n",
    "        name = name.title()\n",
    "        if char_counter[','] > 1:\n",
    "            name = (name[:name.find(',') + 1] \n",
    "                    + name[name.find(',') + 1:].replace(',', ''))\n",
    "        new_names.append(name)\n",
    "    \n",
    "    return ';'.join(new_names)\n",
    "\n",
    "res_prop['Author'] = (res_prop['Author'].str.replace(r'\\(.*?\\)', r'', \n",
    "                                                     regex=True)\n",
    "                           .str.replace(r'\\n', r';', regex=True)\n",
    "                           .str.split(';')).apply(lambda x: check_names(x))"
   ]
  },
  {
   "cell_type": "code",
   "execution_count": null,
   "id": "0515fa2c",
   "metadata": {},
   "outputs": [],
   "source": [
    "res_prop['Keywords'] = (res_prop['Keywords'].str.replace(',', ';')\n",
    "                                 .str.lower()\n",
    "                                 .str.split(';')\n",
    "                                 .apply(lambda x: ';'.join([i.strip() \n",
    "                                                            if x else None \n",
    "                            for i in x]) if isinstance(x, list) else None))"
   ]
  },
  {
   "cell_type": "code",
   "execution_count": null,
   "id": "a272855d",
   "metadata": {},
   "outputs": [],
   "source": [
    "out_fname = 'research_profile.xlsx'\n",
    "writer = pd.ExcelWriter(out_fname)\n",
    "\n",
    "\n",
    "res_prop.to_excel(writer, \n",
    "                  sheet_name='Research Profile', \n",
    "                  index=False)\n",
    "\n",
    "writer.save()"
   ]
  }
 ],
 "metadata": {
  "hide_input": false,
  "kernelspec": {
   "display_name": "Python 3 (ipykernel)",
   "language": "python",
   "name": "python3"
  },
  "language_info": {
   "codemirror_mode": {
    "name": "ipython",
    "version": 3
   },
   "file_extension": ".py",
   "mimetype": "text/x-python",
   "name": "python",
   "nbconvert_exporter": "python",
   "pygments_lexer": "ipython3",
   "version": "3.9.7"
  },
  "varInspector": {
   "cols": {
    "lenName": 16,
    "lenType": 16,
    "lenVar": 40
   },
   "kernels_config": {
    "python": {
     "delete_cmd_postfix": "",
     "delete_cmd_prefix": "del ",
     "library": "var_list.py",
     "varRefreshCmd": "print(var_dic_list())"
    },
    "r": {
     "delete_cmd_postfix": ") ",
     "delete_cmd_prefix": "rm(",
     "library": "var_list.r",
     "varRefreshCmd": "cat(var_dic_list()) "
    }
   },
   "types_to_exclude": [
    "module",
    "function",
    "builtin_function_or_method",
    "instance",
    "_Feature"
   ],
   "window_display": false
  }
 },
 "nbformat": 4,
 "nbformat_minor": 5
}
