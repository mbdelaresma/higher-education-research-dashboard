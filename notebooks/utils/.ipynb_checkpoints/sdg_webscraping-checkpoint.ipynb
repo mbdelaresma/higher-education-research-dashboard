{
 "cells": [
  {
   "cell_type": "code",
   "execution_count": null,
   "id": "d039b501",
   "metadata": {},
   "outputs": [],
   "source": [
    "from selenium import webdriver\n",
    "import time\n",
    "import pandas as pd"
   ]
  },
  {
   "cell_type": "code",
   "execution_count": null,
   "id": "a08c0613",
   "metadata": {},
   "outputs": [],
   "source": [
    "driver = webdriver.Firefox(executable_path=r'geckodriver.exe')"
   ]
  },
  {
   "cell_type": "code",
   "execution_count": null,
   "id": "8708f3aa",
   "metadata": {},
   "outputs": [],
   "source": [
    "sdg_links = pd.read_excel('sdg_mapping.xlsx')\n",
    "sdg_links['abstract'] = None"
   ]
  },
  {
   "cell_type": "code",
   "execution_count": null,
   "id": "4f67ae12",
   "metadata": {},
   "outputs": [],
   "source": [
    "sdg_df = sdg_links.copy()"
   ]
  },
  {
   "cell_type": "code",
   "execution_count": null,
   "id": "d8e7a853",
   "metadata": {},
   "outputs": [],
   "source": [
    "counter = 0\n",
    "for idx in sdg_df[sdg_df['abstract'].isnull() == True].index:\n",
    "    try:\n",
    "        eid = sdg_df.loc[idx]['eid']\n",
    "        abstract_page = driver.get(f'https://www.scopus.com/record/display.uri?eid={eid}&origin=inward&featureToggles=FEATURE_NEW_DOC_DETAILS_EXPORT:1')\n",
    "        abstract = driver.find_elements_by_id(\"abstractSection\")\n",
    "        sdg_df.loc[idx] = [sdg_df.loc[idx]['eid'], sdg_df.loc[idx]['sdg_id'], abstract[0].text]\n",
    "        time.sleep(1)\n",
    "        \n",
    "        counter = counter + 1\n",
    "        if counter == 100:\n",
    "            sdg_df.to_excel('sgd_scraped.xlsx')\n",
    "            counter = 0\n",
    "            \n",
    "    except:\n",
    "        driver.get('https://www.scopus.com/authid/detail.uri?authorId=22949984600')\n",
    "        continue"
   ]
  }
 ],
 "metadata": {
  "kernelspec": {
   "display_name": "Python 3 (ipykernel)",
   "language": "python",
   "name": "python3"
  },
  "language_info": {
   "codemirror_mode": {
    "name": "ipython",
    "version": 3
   },
   "file_extension": ".py",
   "mimetype": "text/x-python",
   "name": "python",
   "nbconvert_exporter": "python",
   "pygments_lexer": "ipython3",
   "version": "3.9.7"
  },
  "toc": {
   "base_numbering": 1,
   "nav_menu": {},
   "number_sections": true,
   "sideBar": true,
   "skip_h1_title": false,
   "title_cell": "Table of Contents",
   "title_sidebar": "Contents",
   "toc_cell": false,
   "toc_position": {},
   "toc_section_display": true,
   "toc_window_display": false
  }
 },
 "nbformat": 4,
 "nbformat_minor": 5
}
