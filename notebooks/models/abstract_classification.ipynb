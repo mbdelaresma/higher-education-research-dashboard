{
 "cells": [
  {
   "cell_type": "code",
   "execution_count": 6,
   "id": "0c747a9c",
   "metadata": {
    "ExecuteTime": {
     "end_time": "2022-06-08T09:38:40.691531Z",
     "start_time": "2022-06-08T09:38:40.683157Z"
    }
   },
   "outputs": [],
   "source": [
    "import pickle\n",
    "import json\n",
    "from sentence_transformers import util"
   ]
  },
  {
   "cell_type": "code",
   "execution_count": 8,
   "id": "6a6da3af",
   "metadata": {
    "ExecuteTime": {
     "end_time": "2022-06-08T09:38:49.141101Z",
     "start_time": "2022-06-08T09:38:49.122833Z"
    }
   },
   "outputs": [],
   "source": [
    "def abstract_classification(abstract_text):\n",
    "    \"\"\" Predict the school given abstract\n",
    "    \n",
    "    Parameters\n",
    "    ----------\n",
    "    abstract_text   :   str\n",
    "                        proposed abstract of the research\n",
    "    \n",
    "    Returns\n",
    "    --------\n",
    "    abstract_analysis  :  json\n",
    "                          predicted values\n",
    "    \"\"\"\n",
    "    school_mapping = {\n",
    "        0 : 'Abra State Institute of Science and Technology (ASIST-Main)',\n",
    "        1 : 'Abra State Institute of Science and Technology (ASIST-Bangued)',\n",
    "        2 : 'Agusan del Sur State College of Agriculture and Technology (ASSCAT-Main)',\n",
    "        3 : 'Benguet State University (BSU-Main)',\n",
    "        4 : 'Benguet State University (BSU-La Trinidad)',\n",
    "        5 : 'Bulacan State University (BulSU-Main)', \n",
    "        6 : 'Davao del Norte State College (DNSC-Main)', \n",
    "        7 : 'Mindoro State University (MinSU-Calapan)',\n",
    "        8 : 'Mindoro State University (MinSU-Main)', \n",
    "        9 : 'Romblon State University (RSU-Main)', \n",
    "        10 : 'University of the Philippines Baguio (UP-Baguio)'\n",
    "    }\n",
    "    \n",
    "    topic_mapping = {\n",
    "       -1 : 'Outliers',\n",
    "        0 : 'COVID-19 PANDEMIC',      \n",
    "        1 : 'EDUCATION',\n",
    "        2 : 'BIODIVERSITY / CONSERVATIONISM',\n",
    "        3 : 'AQUACULTURE / FISHERIES',\n",
    "        4 : 'LIVESTOCK AGRICULTURE',\n",
    "        5 : 'CROP CULTIVATION',\n",
    "        6 : 'DATA SCIENCE / COMPUTER VISION',\n",
    "        7 : 'UTILITIES / TRANSPORTATION',\n",
    "        8 : 'GOVERNANCE / POLICY',\n",
    "        9 : 'INDIGENOUS PEOPLE / TRADITION AND HISTORY'\n",
    "    }\n",
    "    \n",
    "    # embeddings\n",
    "    with open('models/specter.pickle', 'rb') as f:\n",
    "        encoder = pickle.load(f)\n",
    "\n",
    "    # classifier (school)\n",
    "    with open('models/research_spec.pickle', 'rb') as f:\n",
    "        research_spec = pickle.load(f)   \n",
    "        \n",
    "    # tfid vectorizer (keyphrase generation)\n",
    "    with open('models/tfidf_vectorizer_keyphrase.pkl', 'rb') as f:\n",
    "        tfidf_vect = pickle.load(f)    \n",
    "\n",
    "    # classifier (sdg)\n",
    "    with open('models/sdg_lr.pkl', 'rb') as f:\n",
    "        sdg_lr = pickle.load(f)  \n",
    "    \n",
    "    # classifier (school)\n",
    "    with open('models/topics.pickle', 'rb') as f:\n",
    "        topics = pickle.load(f)   \n",
    "        \n",
    "    # keybert (keyphrase generation)\n",
    "    with open('models/kw_model_keyphrase.pkl', 'rb') as f:\n",
    "        keybert = pickle.load(f)\n",
    "    \n",
    "    # tfid vectorizer (keyphrase generation)\n",
    "    with open('models/tfidf_vectorizer_keyphrase.pkl', 'rb') as f:\n",
    "        tfidf_vect = pickle.load(f)\n",
    "    \n",
    "    # dataframe db for similarity\n",
    "    author_sim_db = pd.read_csv('author_sim_db.csv')   \n",
    "    # embeddings db for similarity\n",
    "    with open('abs_embed_db.pickle', 'rb') as f:\n",
    "        abs_embed_db = pickle.load(f)    \n",
    "        \n",
    "    # uncased since encoder is pretrained uncased\n",
    "    abstract_text= (abstract_text.lower()\n",
    "                          .replace('“', '')\n",
    "                          .replace(':', '')\n",
    "                          .replace('(', '')\n",
    "                          .replace(')', ''))\n",
    "    \n",
    "    \n",
    "    embeddings = encoder.encode(abstract_text)\n",
    "    pred_research_spec = research_spec.predict(embeddings.reshape(1, -1))\n",
    "    predicted_school = school_mapping[pred_research_spec[0]]\n",
    "    \n",
    "    tfidf_vect.fit_transform([abstract_text]).toarray()\n",
    "    predicted_keyphrase = keybert.extract_keywords(docs=[abstract_text], \n",
    "                                                   vectorizer=tfidf_vect)\n",
    "    predicted_keyphrase = (\", \").join([phrase[0] for phrase \n",
    "                                       in predicted_keyphrase[0]])\n",
    "    \n",
    "    predicted_sdg = str(sdg_lr.predict(embeddings.reshape(1, -1))[0])\n",
    "    \n",
    "    predicted_topic = topics.predict(embeddings.reshape(1, -1))[0]\n",
    "    predicted_topic = topic_mapping[predicted_topic]\n",
    "    \n",
    "    scores = util.cos_sim(abs_emb, abs_embed_db).numpy()\n",
    "    arg_scores = scores[0].argsort(kind='mergesort')[::-1]\n",
    "    top_n_sim = author_sim_db.iloc[arg_scores[:1], :]\n",
    "    \n",
    "    sim_research = top_n_sim['Research Title'].values[0]\n",
    "    sim_author = top_n_sim.Author.values[0]\n",
    "    \n",
    "    return json.dumps({'predicted_school': predicted_school, \n",
    "                       'predicted_keyphrase': predicted_keyphrase,\n",
    "                       'predicted_topic' : predicted_topic.title(),\n",
    "                       'predicted_sdg' : predicted_sdg,\n",
    "                       'similar_research' : sim_research,  \n",
    "                       'author_with_similar_research' : sim_author})\n",
    "\n",
    "abstract_text = \"\"\"\n",
    "'a common goal for science educators is to engage students in inquiry. policy makers present inquiry as a continuum and several researchers extrapolate that this continuum is represented by a figure that moves from more to less guidance. thus inquiry activities are labeled from more structure low - level inquiry to less structure high - level inquiry. this study characterized the level of inquiry in the undergraduate science education laboratory in a state university in the cordillera administrative region. the implication of the result to the preparation of teachers in the k – 12 levels was also discussed. ten laboratory manuals in three fields of science were analyzed. all of these manuals are utilized by science education majors. from these ten laboratory manuals, 147 exercises or activities were evaluated. each of the laboratory activities was rated from level 1 – confirmatory, level 2 – structured inquiry, level 3 – guided inquiry, level 4 – open inquiry, and level 5 – authentic inquiry. the ratings made were compared with those of two other evaluators and the inter-rater reliability index was determined. results showed that majority of the exercises are confirmatory in nature. very few less than 10% of the exercises were higher than the guided inquiry level. there were limited activities involving open inquiry and no exercise involved authentic inquiry. results indicate that there is a need for professors handling science education majors to focus on less-structured forms of inquiry in their laboratory activities. it is a part of the instructor’s responsibility to plant the seeds of real inquiry to the minds of future science teachers in order to better prepare them to handle science in the k – 12 levels.'\n",
    "\"\"\"\n",
    "\n",
    "\n",
    "# test code\n",
    "abstract_classification(abstract_text)"
   ]
  },
  {
   "cell_type": "code",
   "execution_count": null,
   "id": "08be7f48",
   "metadata": {},
   "outputs": [],
   "source": []
  }
 ],
 "metadata": {
  "hide_input": false,
  "kernelspec": {
   "display_name": "Python 3 (ipykernel)",
   "language": "python",
   "name": "python3"
  },
  "language_info": {
   "codemirror_mode": {
    "name": "ipython",
    "version": 3
   },
   "file_extension": ".py",
   "mimetype": "text/x-python",
   "name": "python",
   "nbconvert_exporter": "python",
   "pygments_lexer": "ipython3",
   "version": "3.9.7"
  },
  "varInspector": {
   "cols": {
    "lenName": 16,
    "lenType": 16,
    "lenVar": 40
   },
   "kernels_config": {
    "python": {
     "delete_cmd_postfix": "",
     "delete_cmd_prefix": "del ",
     "library": "var_list.py",
     "varRefreshCmd": "print(var_dic_list())"
    },
    "r": {
     "delete_cmd_postfix": ") ",
     "delete_cmd_prefix": "rm(",
     "library": "var_list.r",
     "varRefreshCmd": "cat(var_dic_list()) "
    }
   },
   "types_to_exclude": [
    "module",
    "function",
    "builtin_function_or_method",
    "instance",
    "_Feature"
   ],
   "window_display": false
  }
 },
 "nbformat": 4,
 "nbformat_minor": 5
}
