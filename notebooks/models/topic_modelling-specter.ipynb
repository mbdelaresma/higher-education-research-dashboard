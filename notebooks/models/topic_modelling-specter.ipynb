{
 "cells": [
  {
   "cell_type": "code",
   "execution_count": 2,
   "id": "9ebf948a-5c6e-4492-8c09-2ded28bd4346",
   "metadata": {
    "execution": {
     "iopub.execute_input": "2022-05-23T04:46:10.109706Z",
     "iopub.status.busy": "2022-05-23T04:46:10.109145Z",
     "iopub.status.idle": "2022-05-23T04:46:26.203067Z",
     "shell.execute_reply": "2022-05-23T04:46:26.201003Z",
     "shell.execute_reply.started": "2022-05-23T04:46:10.109645Z"
    },
    "tags": []
   },
   "outputs": [
    {
     "name": "stderr",
     "output_type": "stream",
     "text": [
      "Matplotlib created a temporary config/cache directory at /tmp/matplotlib-bakmodio because the default path (/home/casoriano/.cache/matplotlib) is not a writable directory; it is highly recommended to set the MPLCONFIGDIR environment variable to a writable directory, in particular to speed up the import of Matplotlib and to better support multiprocessing.\n"
     ]
    }
   ],
   "source": [
    "import os\n",
    "import re\n",
    "import time\n",
    "import string\n",
    "\n",
    "import pandas as pd\n",
    "import numpy as np\n",
    "import matplotlib.pyplot as plt\n",
    "\n",
    "import torch\n",
    "from sentence_transformers import SentenceTransformer, util\n",
    "import umap.umap_ as umap\n",
    "import hdbscan\n",
    "\n",
    "import os\n",
    "os.environ['XDG_CACHE_HOME'] = 'home/msds2022/casoriano/ .cache'"
   ]
  },
  {
   "cell_type": "markdown",
   "id": "84ad99c6-c19b-4033-9a55-9a40a7fd6adc",
   "metadata": {},
   "source": [
    "### Abstract Preprocessing"
   ]
  },
  {
   "cell_type": "code",
   "execution_count": 3,
   "id": "8ccc8408-707b-45e1-832b-460e58266903",
   "metadata": {
    "execution": {
     "iopub.execute_input": "2022-05-23T04:46:26.208948Z",
     "iopub.status.busy": "2022-05-23T04:46:26.208268Z",
     "iopub.status.idle": "2022-05-23T04:46:26.754349Z",
     "shell.execute_reply": "2022-05-23T04:46:26.753392Z",
     "shell.execute_reply.started": "2022-05-23T04:46:26.208860Z"
    },
    "tags": []
   },
   "outputs": [
    {
     "data": {
      "text/plain": [
       "0    the ched phernet-admu program has been conduct...\n",
       "1    the warm tropical climate of the philippines a...\n",
       "2    the study was conducted to determine the green...\n",
       "3    this study aimed to establish a solid waste ma...\n",
       "4    farming systems refers to the utilization of t...\n",
       "Name: Abstract, dtype: object"
      ]
     },
     "execution_count": 3,
     "metadata": {},
     "output_type": "execute_result"
    }
   ],
   "source": [
    "df = pd.read_excel('research_profile_v1.xlsx').drop([112, 167, 638, 648, 663, 787, 1138, 1204])\n",
    "docs = df['Abstract'].copy().dropna()#.reset_index(drop=True)\n",
    "\n",
    "length = docs.str.split(' ').apply(lambda x: np.log(len(x)))\n",
    "docs = docs[abs((length - length.mean())/length.std()) < 3]\n",
    "docs = docs.apply(lambda x: re.sub(r'[^a-zA-Z0-9- ]', '', x)).str.lower()\n",
    "\n",
    "docs.head()"
   ]
  },
  {
   "cell_type": "code",
   "execution_count": 4,
   "id": "5b88c2cd-1d30-4f25-a559-0901b7d7bae4",
   "metadata": {
    "execution": {
     "iopub.execute_input": "2022-05-22T13:31:41.836674Z",
     "iopub.status.busy": "2022-05-22T13:31:41.836324Z",
     "iopub.status.idle": "2022-05-22T13:31:41.979121Z",
     "shell.execute_reply": "2022-05-22T13:31:41.978303Z",
     "shell.execute_reply.started": "2022-05-22T13:31:41.836649Z"
    },
    "tags": []
   },
   "outputs": [
    {
     "data": {
      "image/png": "[encoded data removed]",
      "text/plain": [
       "<Figure size 432x288 with 1 Axes>"
      ]
     },
     "metadata": {
      "needs_background": "light"
     },
     "output_type": "display_data"
    }
   ],
   "source": [
    "docs.str.split(' ').apply(lambda x: len(x)).hist();"
   ]
  },
  {
   "cell_type": "markdown",
   "id": "a512bd96-78e3-4dbb-8fcc-ff60635b7b1d",
   "metadata": {},
   "source": [
    "### Document Embeddings"
   ]
  },
  {
   "cell_type": "code",
   "execution_count": 4,
   "id": "962398cf-bfdc-48e4-997b-f3af9851639c",
   "metadata": {
    "execution": {
     "iopub.execute_input": "2022-05-23T04:46:40.761255Z",
     "iopub.status.busy": "2022-05-23T04:46:40.760552Z",
     "iopub.status.idle": "2022-05-23T04:46:51.771640Z",
     "shell.execute_reply": "2022-05-23T04:46:51.770881Z",
     "shell.execute_reply.started": "2022-05-23T04:46:40.761191Z"
    },
    "tags": []
   },
   "outputs": [
    {
     "name": "stderr",
     "output_type": "stream",
     "text": [
      "WARNING:root:No sentence-transformers model found with name home/msds2022/casoriano/ .cache/torch/sentence_transformers/allenai_specter. Creating a new one with MEAN pooling.\n"
     ]
    }
   ],
   "source": [
    "model = SentenceTransformer('allenai/specter')\n",
    "model.max_seq_length = 512"
   ]
  },
  {
   "cell_type": "code",
   "execution_count": 5,
   "id": "a613a9c2-9e8e-4e20-9023-b739bf4eebea",
   "metadata": {
    "execution": {
     "iopub.execute_input": "2022-05-23T04:46:51.773435Z",
     "iopub.status.busy": "2022-05-23T04:46:51.773071Z",
     "iopub.status.idle": "2022-05-23T04:47:02.020396Z",
     "shell.execute_reply": "2022-05-23T04:47:02.019803Z",
     "shell.execute_reply.started": "2022-05-23T04:46:51.773412Z"
    },
    "tags": []
   },
   "outputs": [
    {
     "name": "stdout",
     "output_type": "stream",
     "text": [
      "Time for computing embeddings: 10.194308757781982\n"
     ]
    },
    {
     "data": {
      "text/html": [
       "<div>\n",
       "<style scoped>\n",
       "    .dataframe tbody tr th:only-of-type {\n",
       "        vertical-align: middle;\n",
       "    }\n",
       "\n",
       "    .dataframe tbody tr th {\n",
       "        vertical-align: top;\n",
       "    }\n",
       "\n",
       "    .dataframe thead th {\n",
       "        text-align: right;\n",
       "    }\n",
       "</style>\n",
       "<table border=\"1\" class=\"dataframe\">\n",
       "  <thead>\n",
       "    <tr style=\"text-align: right;\">\n",
       "      <th></th>\n",
       "      <th>0</th>\n",
       "      <th>1</th>\n",
       "      <th>2</th>\n",
       "      <th>3</th>\n",
       "      <th>4</th>\n",
       "      <th>5</th>\n",
       "      <th>6</th>\n",
       "      <th>7</th>\n",
       "      <th>8</th>\n",
       "      <th>9</th>\n",
       "      <th>...</th>\n",
       "      <th>758</th>\n",
       "      <th>759</th>\n",
       "      <th>760</th>\n",
       "      <th>761</th>\n",
       "      <th>762</th>\n",
       "      <th>763</th>\n",
       "      <th>764</th>\n",
       "      <th>765</th>\n",
       "      <th>766</th>\n",
       "      <th>767</th>\n",
       "    </tr>\n",
       "  </thead>\n",
       "  <tbody>\n",
       "    <tr>\n",
       "      <th>0</th>\n",
       "      <td>-0.367278</td>\n",
       "      <td>0.446500</td>\n",
       "      <td>0.319726</td>\n",
       "      <td>-0.698154</td>\n",
       "      <td>-0.476773</td>\n",
       "      <td>-0.158669</td>\n",
       "      <td>0.073073</td>\n",
       "      <td>0.268992</td>\n",
       "      <td>0.352473</td>\n",
       "      <td>1.087897</td>\n",
       "      <td>...</td>\n",
       "      <td>0.481664</td>\n",
       "      <td>0.107410</td>\n",
       "      <td>0.987301</td>\n",
       "      <td>0.914397</td>\n",
       "      <td>-0.070303</td>\n",
       "      <td>-0.735920</td>\n",
       "      <td>-0.051531</td>\n",
       "      <td>0.494734</td>\n",
       "      <td>0.646963</td>\n",
       "      <td>0.570346</td>\n",
       "    </tr>\n",
       "    <tr>\n",
       "      <th>1</th>\n",
       "      <td>-0.108545</td>\n",
       "      <td>0.612939</td>\n",
       "      <td>0.535368</td>\n",
       "      <td>0.213604</td>\n",
       "      <td>-0.435395</td>\n",
       "      <td>-0.058225</td>\n",
       "      <td>-0.800363</td>\n",
       "      <td>-0.199306</td>\n",
       "      <td>-0.348939</td>\n",
       "      <td>0.962904</td>\n",
       "      <td>...</td>\n",
       "      <td>0.102022</td>\n",
       "      <td>0.129303</td>\n",
       "      <td>1.033372</td>\n",
       "      <td>0.853780</td>\n",
       "      <td>-0.167301</td>\n",
       "      <td>-0.255200</td>\n",
       "      <td>-0.078423</td>\n",
       "      <td>0.402345</td>\n",
       "      <td>0.437901</td>\n",
       "      <td>0.298196</td>\n",
       "    </tr>\n",
       "    <tr>\n",
       "      <th>2</th>\n",
       "      <td>-0.997458</td>\n",
       "      <td>0.409005</td>\n",
       "      <td>0.277808</td>\n",
       "      <td>-0.478699</td>\n",
       "      <td>-0.532011</td>\n",
       "      <td>-0.521333</td>\n",
       "      <td>0.056212</td>\n",
       "      <td>0.015039</td>\n",
       "      <td>-0.094822</td>\n",
       "      <td>0.660898</td>\n",
       "      <td>...</td>\n",
       "      <td>0.051799</td>\n",
       "      <td>-0.030300</td>\n",
       "      <td>1.008335</td>\n",
       "      <td>0.727391</td>\n",
       "      <td>-0.524004</td>\n",
       "      <td>-0.384851</td>\n",
       "      <td>-0.019957</td>\n",
       "      <td>0.748829</td>\n",
       "      <td>0.636491</td>\n",
       "      <td>0.336037</td>\n",
       "    </tr>\n",
       "    <tr>\n",
       "      <th>3</th>\n",
       "      <td>-0.694803</td>\n",
       "      <td>0.594741</td>\n",
       "      <td>0.447962</td>\n",
       "      <td>-0.234862</td>\n",
       "      <td>-0.869753</td>\n",
       "      <td>-0.118493</td>\n",
       "      <td>-0.410902</td>\n",
       "      <td>0.525824</td>\n",
       "      <td>-0.032186</td>\n",
       "      <td>0.721736</td>\n",
       "      <td>...</td>\n",
       "      <td>0.158341</td>\n",
       "      <td>0.616047</td>\n",
       "      <td>0.780993</td>\n",
       "      <td>0.547096</td>\n",
       "      <td>-0.478923</td>\n",
       "      <td>-0.328133</td>\n",
       "      <td>-0.000795</td>\n",
       "      <td>0.666931</td>\n",
       "      <td>0.693948</td>\n",
       "      <td>-0.108173</td>\n",
       "    </tr>\n",
       "    <tr>\n",
       "      <th>4</th>\n",
       "      <td>-0.391576</td>\n",
       "      <td>0.501825</td>\n",
       "      <td>-0.570256</td>\n",
       "      <td>-0.291601</td>\n",
       "      <td>-1.244321</td>\n",
       "      <td>0.483091</td>\n",
       "      <td>-1.043804</td>\n",
       "      <td>0.007342</td>\n",
       "      <td>-0.057918</td>\n",
       "      <td>0.771143</td>\n",
       "      <td>...</td>\n",
       "      <td>0.374886</td>\n",
       "      <td>0.085463</td>\n",
       "      <td>0.565957</td>\n",
       "      <td>1.276083</td>\n",
       "      <td>-0.558830</td>\n",
       "      <td>-0.327890</td>\n",
       "      <td>0.278374</td>\n",
       "      <td>0.046977</td>\n",
       "      <td>0.196731</td>\n",
       "      <td>-0.150847</td>\n",
       "    </tr>\n",
       "    <tr>\n",
       "      <th>...</th>\n",
       "      <td>...</td>\n",
       "      <td>...</td>\n",
       "      <td>...</td>\n",
       "      <td>...</td>\n",
       "      <td>...</td>\n",
       "      <td>...</td>\n",
       "      <td>...</td>\n",
       "      <td>...</td>\n",
       "      <td>...</td>\n",
       "      <td>...</td>\n",
       "      <td>...</td>\n",
       "      <td>...</td>\n",
       "      <td>...</td>\n",
       "      <td>...</td>\n",
       "      <td>...</td>\n",
       "      <td>...</td>\n",
       "      <td>...</td>\n",
       "      <td>...</td>\n",
       "      <td>...</td>\n",
       "      <td>...</td>\n",
       "      <td>...</td>\n",
       "    </tr>\n",
       "    <tr>\n",
       "      <th>711</th>\n",
       "      <td>-0.420018</td>\n",
       "      <td>0.370974</td>\n",
       "      <td>-0.387536</td>\n",
       "      <td>-0.528355</td>\n",
       "      <td>-1.042832</td>\n",
       "      <td>0.039290</td>\n",
       "      <td>-1.220826</td>\n",
       "      <td>-0.368853</td>\n",
       "      <td>0.217233</td>\n",
       "      <td>1.266508</td>\n",
       "      <td>...</td>\n",
       "      <td>0.686647</td>\n",
       "      <td>0.260706</td>\n",
       "      <td>0.370555</td>\n",
       "      <td>1.263869</td>\n",
       "      <td>-0.510141</td>\n",
       "      <td>-0.506912</td>\n",
       "      <td>0.325203</td>\n",
       "      <td>-0.019186</td>\n",
       "      <td>0.100607</td>\n",
       "      <td>-0.408220</td>\n",
       "    </tr>\n",
       "    <tr>\n",
       "      <th>712</th>\n",
       "      <td>-0.662184</td>\n",
       "      <td>0.715052</td>\n",
       "      <td>0.405479</td>\n",
       "      <td>-0.351547</td>\n",
       "      <td>-1.267767</td>\n",
       "      <td>-0.050714</td>\n",
       "      <td>0.018628</td>\n",
       "      <td>0.217659</td>\n",
       "      <td>0.212043</td>\n",
       "      <td>0.881130</td>\n",
       "      <td>...</td>\n",
       "      <td>0.722220</td>\n",
       "      <td>-0.059985</td>\n",
       "      <td>0.686017</td>\n",
       "      <td>1.004132</td>\n",
       "      <td>0.004198</td>\n",
       "      <td>0.155933</td>\n",
       "      <td>0.335847</td>\n",
       "      <td>0.614836</td>\n",
       "      <td>0.318907</td>\n",
       "      <td>-0.101132</td>\n",
       "    </tr>\n",
       "    <tr>\n",
       "      <th>713</th>\n",
       "      <td>-0.792260</td>\n",
       "      <td>0.289158</td>\n",
       "      <td>0.525411</td>\n",
       "      <td>-0.082245</td>\n",
       "      <td>-1.051845</td>\n",
       "      <td>0.108599</td>\n",
       "      <td>-0.893857</td>\n",
       "      <td>0.590328</td>\n",
       "      <td>0.182516</td>\n",
       "      <td>0.861393</td>\n",
       "      <td>...</td>\n",
       "      <td>1.061466</td>\n",
       "      <td>0.434379</td>\n",
       "      <td>0.549747</td>\n",
       "      <td>0.941730</td>\n",
       "      <td>-0.249641</td>\n",
       "      <td>-0.932843</td>\n",
       "      <td>-0.297525</td>\n",
       "      <td>0.348355</td>\n",
       "      <td>0.502012</td>\n",
       "      <td>-0.426852</td>\n",
       "    </tr>\n",
       "    <tr>\n",
       "      <th>714</th>\n",
       "      <td>-0.581676</td>\n",
       "      <td>0.217078</td>\n",
       "      <td>0.027812</td>\n",
       "      <td>-0.576196</td>\n",
       "      <td>-0.823438</td>\n",
       "      <td>0.043948</td>\n",
       "      <td>-0.611694</td>\n",
       "      <td>-0.462973</td>\n",
       "      <td>0.161373</td>\n",
       "      <td>0.620844</td>\n",
       "      <td>...</td>\n",
       "      <td>0.776629</td>\n",
       "      <td>-0.140010</td>\n",
       "      <td>0.562174</td>\n",
       "      <td>1.047250</td>\n",
       "      <td>-0.310835</td>\n",
       "      <td>-0.397593</td>\n",
       "      <td>-0.049942</td>\n",
       "      <td>-0.332041</td>\n",
       "      <td>0.489083</td>\n",
       "      <td>0.204366</td>\n",
       "    </tr>\n",
       "    <tr>\n",
       "      <th>715</th>\n",
       "      <td>-0.404977</td>\n",
       "      <td>0.159111</td>\n",
       "      <td>0.181019</td>\n",
       "      <td>-0.053822</td>\n",
       "      <td>-0.757857</td>\n",
       "      <td>-0.067754</td>\n",
       "      <td>-0.601388</td>\n",
       "      <td>0.568044</td>\n",
       "      <td>0.041416</td>\n",
       "      <td>1.154866</td>\n",
       "      <td>...</td>\n",
       "      <td>0.279931</td>\n",
       "      <td>0.190207</td>\n",
       "      <td>0.683202</td>\n",
       "      <td>0.485743</td>\n",
       "      <td>-0.575412</td>\n",
       "      <td>-0.961378</td>\n",
       "      <td>-0.113348</td>\n",
       "      <td>0.436557</td>\n",
       "      <td>0.205161</td>\n",
       "      <td>-0.052794</td>\n",
       "    </tr>\n",
       "  </tbody>\n",
       "</table>\n",
       "<p>716 rows × 768 columns</p>\n",
       "</div>"
      ],
      "text/plain": [
       "          0         1         2         3         4         5         6    \\\n",
       "0   -0.367278  0.446500  0.319726 -0.698154 -0.476773 -0.158669  0.073073   \n",
       "1   -0.108545  0.612939  0.535368  0.213604 -0.435395 -0.058225 -0.800363   \n",
       "2   -0.997458  0.409005  0.277808 -0.478699 -0.532011 -0.521333  0.056212   \n",
       "3   -0.694803  0.594741  0.447962 -0.234862 -0.869753 -0.118493 -0.410902   \n",
       "4   -0.391576  0.501825 -0.570256 -0.291601 -1.244321  0.483091 -1.043804   \n",
       "..        ...       ...       ...       ...       ...       ...       ...   \n",
       "711 -0.420018  0.370974 -0.387536 -0.528355 -1.042832  0.039290 -1.220826   \n",
       "712 -0.662184  0.715052  0.405479 -0.351547 -1.267767 -0.050714  0.018628   \n",
       "713 -0.792260  0.289158  0.525411 -0.082245 -1.051845  0.108599 -0.893857   \n",
       "714 -0.581676  0.217078  0.027812 -0.576196 -0.823438  0.043948 -0.611694   \n",
       "715 -0.404977  0.159111  0.181019 -0.053822 -0.757857 -0.067754 -0.601388   \n",
       "\n",
       "          7         8         9    ...       758       759       760  \\\n",
       "0    0.268992  0.352473  1.087897  ...  0.481664  0.107410  0.987301   \n",
       "1   -0.199306 -0.348939  0.962904  ...  0.102022  0.129303  1.033372   \n",
       "2    0.015039 -0.094822  0.660898  ...  0.051799 -0.030300  1.008335   \n",
       "3    0.525824 -0.032186  0.721736  ...  0.158341  0.616047  0.780993   \n",
       "4    0.007342 -0.057918  0.771143  ...  0.374886  0.085463  0.565957   \n",
       "..        ...       ...       ...  ...       ...       ...       ...   \n",
       "711 -0.368853  0.217233  1.266508  ...  0.686647  0.260706  0.370555   \n",
       "712  0.217659  0.212043  0.881130  ...  0.722220 -0.059985  0.686017   \n",
       "713  0.590328  0.182516  0.861393  ...  1.061466  0.434379  0.549747   \n",
       "714 -0.462973  0.161373  0.620844  ...  0.776629 -0.140010  0.562174   \n",
       "715  0.568044  0.041416  1.154866  ...  0.279931  0.190207  0.683202   \n",
       "\n",
       "          761       762       763       764       765       766       767  \n",
       "0    0.914397 -0.070303 -0.735920 -0.051531  0.494734  0.646963  0.570346  \n",
       "1    0.853780 -0.167301 -0.255200 -0.078423  0.402345  0.437901  0.298196  \n",
       "2    0.727391 -0.524004 -0.384851 -0.019957  0.748829  0.636491  0.336037  \n",
       "3    0.547096 -0.478923 -0.328133 -0.000795  0.666931  0.693948 -0.108173  \n",
       "4    1.276083 -0.558830 -0.327890  0.278374  0.046977  0.196731 -0.150847  \n",
       "..        ...       ...       ...       ...       ...       ...       ...  \n",
       "711  1.263869 -0.510141 -0.506912  0.325203 -0.019186  0.100607 -0.408220  \n",
       "712  1.004132  0.004198  0.155933  0.335847  0.614836  0.318907 -0.101132  \n",
       "713  0.941730 -0.249641 -0.932843 -0.297525  0.348355  0.502012 -0.426852  \n",
       "714  1.047250 -0.310835 -0.397593 -0.049942 -0.332041  0.489083  0.204366  \n",
       "715  0.485743 -0.575412 -0.961378 -0.113348  0.436557  0.205161 -0.052794  \n",
       "\n",
       "[716 rows x 768 columns]"
      ]
     },
     "execution_count": 5,
     "metadata": {},
     "output_type": "execute_result"
    }
   ],
   "source": [
    "start = time.time()\n",
    "embeddings = model.encode(docs.tolist(), convert_to_tensor=True)\n",
    "print(\"Time for computing embeddings:\", time.time()-start)\n",
    "embeddings = pd.DataFrame(embeddings.cpu().numpy())\n",
    "embeddings"
   ]
  },
  {
   "cell_type": "markdown",
   "id": "a9c6e3c8-9b67-41e8-b932-c262146934e4",
   "metadata": {},
   "source": [
    "### Clustering"
   ]
  },
  {
   "cell_type": "markdown",
   "id": "16f2ee0b-8eba-4288-99c9-43f6b77d0053",
   "metadata": {},
   "source": [
    "#### kmeans"
   ]
  },
  {
   "cell_type": "code",
   "execution_count": 7,
   "id": "6aa9a532-4f3e-49b2-b11c-095091d1e39f",
   "metadata": {
    "execution": {
     "iopub.execute_input": "2022-05-22T13:33:44.117693Z",
     "iopub.status.busy": "2022-05-22T13:33:44.116606Z",
     "iopub.status.idle": "2022-05-22T13:35:09.980143Z",
     "shell.execute_reply": "2022-05-22T13:35:09.978626Z",
     "shell.execute_reply.started": "2022-05-22T13:33:44.117595Z"
    },
    "tags": []
   },
   "outputs": [],
   "source": [
    "from sklearn.cluster import KMeans\n",
    "from sklearn.metrics import calinski_harabasz_score, silhouette_score, davies_bouldin_score\n",
    "\n",
    "inertias = []\n",
    "ci_scores = []\n",
    "silh_scores = []\n",
    "db_scores = []\n",
    "for k in range(2, 21):\n",
    "    clusterer = KMeans(n_clusters=k, random_state=42).fit(embeddings)\n",
    "    labels = clusterer.labels_\n",
    "    inertias.append(clusterer.inertia_)\n",
    "    ci_scores.append(calinski_harabasz_score(embeddings, labels))\n",
    "    silh_scores.append(silhouette_score(embeddings, labels, metric='cosine'))\n",
    "    db_scores.append(davies_bouldin_score(embeddings, labels))"
   ]
  },
  {
   "cell_type": "code",
   "execution_count": 8,
   "id": "6d48cc8c-83d0-4fd1-89c9-ac82810974a7",
   "metadata": {
    "execution": {
     "iopub.execute_input": "2022-05-22T13:35:10.061489Z",
     "iopub.status.busy": "2022-05-22T13:35:10.060746Z",
     "iopub.status.idle": "2022-05-22T13:35:10.915012Z",
     "shell.execute_reply": "2022-05-22T13:35:10.914553Z",
     "shell.execute_reply.started": "2022-05-22T13:35:10.061413Z"
    },
    "tags": []
   },
   "outputs": [
    {
     "data": {
      "image/png": "[encoded data removed]",
      "text/plain": [
       "<Figure size 432x288 with 1 Axes>"
      ]
     },
     "metadata": {
      "needs_background": "light"
     },
     "output_type": "display_data"
    },
    {
     "data": {
      "image/png": "[encoded data removed]",
      "text/plain": [
       "<Figure size 432x288 with 1 Axes>"
      ]
     },
     "metadata": {
      "needs_background": "light"
     },
     "output_type": "display_data"
    },
    {
     "data": {
      "image/png": "[encoded data removed]",
      "text/plain": [
       "<Figure size 432x288 with 1 Axes>"
      ]
     },
     "metadata": {
      "needs_background": "light"
     },
     "output_type": "display_data"
    },
    {
     "data": {
      "image/png": "[encoded data removed]",
      "text/plain": [
       "<Figure size 432x288 with 1 Axes>"
      ]
     },
     "metadata": {
      "needs_background": "light"
     },
     "output_type": "display_data"
    }
   ],
   "source": [
    "plt.plot(range(2, 21), inertias, label='SSE')\n",
    "plt.legend()\n",
    "plt.show()\n",
    "plt.plot(range(2, 21), ci_scores, label='CI')\n",
    "plt.legend()\n",
    "plt.show()\n",
    "plt.plot(range(2, 21), silh_scores, label='Silhouette')\n",
    "plt.legend()\n",
    "plt.show()\n",
    "plt.plot(range(2, 21), db_scores, label='DB')\n",
    "plt.legend()\n",
    "plt.show()"
   ]
  },
  {
   "cell_type": "code",
   "execution_count": 10,
   "id": "970e0cf5-2581-4db0-bbda-02b60ef8102a",
   "metadata": {
    "execution": {
     "iopub.execute_input": "2022-05-23T02:37:34.007899Z",
     "iopub.status.busy": "2022-05-23T02:37:34.007265Z",
     "iopub.status.idle": "2022-05-23T02:37:36.880009Z",
     "shell.execute_reply": "2022-05-23T02:37:36.878426Z",
     "shell.execute_reply.started": "2022-05-23T02:37:34.007818Z"
    },
    "tags": []
   },
   "outputs": [],
   "source": [
    "clusterer = KMeans(n_clusters=7, random_state=42).fit(embeddings)\n",
    "labels = clusterer.labels_\n",
    "\n",
    "n_clusters_ = len(set(labels)) - (1 if -1 in labels else 0)\n",
    "n_noise_ = list(labels).count(-1)\n",
    "\n",
    "print('Estimated number of clusters: %d' % n_clusters_)\n",
    "print('Estimated number of noise points: %d' % n_noise_)\n",
    "print(\"CI Coefficient: %0.5f\"\n",
    "      % calinski_harabasz_score(embeddings, labels))\n",
    "print(\"Silhouette Coefficient: %0.5f\"\n",
    "      % silhouette_score(embeddings, labels))\n",
    "print(\"DB Coefficient: %0.5f\"\n",
    "      % davies_bouldin_score(embeddings, labels))"
   ]
  },
  {
   "cell_type": "markdown",
   "id": "5cd2fb7f-9d83-4d66-864e-3f65bdc232be",
   "metadata": {},
   "source": [
    "#### DBSCAN"
   ]
  },
  {
   "cell_type": "code",
   "execution_count": 10,
   "id": "f0d4340d-9ee7-4c56-8609-d8553ec83662",
   "metadata": {
    "execution": {
     "iopub.execute_input": "2022-05-22T13:35:26.282354Z",
     "iopub.status.busy": "2022-05-22T13:35:26.281794Z",
     "iopub.status.idle": "2022-05-22T13:35:26.636032Z",
     "shell.execute_reply": "2022-05-22T13:35:26.635178Z",
     "shell.execute_reply.started": "2022-05-22T13:35:26.282293Z"
    },
    "tags": []
   },
   "outputs": [
    {
     "data": {
      "image/png": "[encoded data removed]",
      "text/plain": [
       "<Figure size 432x288 with 1 Axes>"
      ]
     },
     "metadata": {
      "needs_background": "light"
     },
     "output_type": "display_data"
    }
   ],
   "source": [
    "from sklearn.neighbors import NearestNeighbors\n",
    "\n",
    "nbrs = NearestNeighbors(n_neighbors=2, metric='cosine').fit(embeddings)\n",
    "distances, indices = nbrs.kneighbors(embeddings)\n",
    "\n",
    "dist_desc = sorted(distances[:,-1], reverse=True)\n",
    "plt.plot(list(range(1,len(dist_desc)+1)), dist_desc)\n",
    "plt.xlabel(\"index\")\n",
    "plt.ylabel(\"distance\")\n",
    "plt.show()"
   ]
  },
  {
   "cell_type": "code",
   "execution_count": 14,
   "id": "40cc4100-45f3-448d-9736-85d04522d17d",
   "metadata": {
    "execution": {
     "iopub.execute_input": "2022-05-22T13:36:00.161764Z",
     "iopub.status.busy": "2022-05-22T13:36:00.161098Z",
     "iopub.status.idle": "2022-05-22T13:36:00.859343Z",
     "shell.execute_reply": "2022-05-22T13:36:00.857706Z",
     "shell.execute_reply.started": "2022-05-22T13:36:00.161689Z"
    },
    "tags": []
   },
   "outputs": [
    {
     "name": "stdout",
     "output_type": "stream",
     "text": [
      "Estimated number of clusters: 12\n",
      "Estimated number of noise points: 30\n",
      "CI Coefficient: 4.33707\n",
      "Silhouette Coefficient: 0.01235\n",
      "DB Coefficient: 2.24356\n"
     ]
    }
   ],
   "source": [
    "from sklearn.cluster import DBSCAN\n",
    "\n",
    "db = DBSCAN(eps=0.150, min_samples=2, metric='cosine', n_jobs=-1).fit(embeddings)\n",
    "core_samples_mask = np.zeros_like(db.labels_, dtype=bool)\n",
    "core_samples_mask[db.core_sample_indices_] = True\n",
    "labels = db.labels_\n",
    "\n",
    "n_clusters_ = len(set(labels)) - (1 if -1 in labels else 0)\n",
    "n_noise_ = list(labels).count(-1)\n",
    "\n",
    "print('Estimated number of clusters: %d' % n_clusters_)\n",
    "print('Estimated number of noise points: %d' % n_noise_)\n",
    "print(\"CI Coefficient: %0.5f\"\n",
    "      % calinski_harabasz_score(embeddings, labels))\n",
    "print(\"Silhouette Coefficient: %0.5f\"\n",
    "      % silhouette_score(embeddings, labels))\n",
    "print(\"DB Coefficient: %0.5f\"\n",
    "      % davies_bouldin_score(embeddings, labels))"
   ]
  },
  {
   "cell_type": "markdown",
   "id": "8c9982d2-ea75-4906-bca8-16b36f7a2cfd",
   "metadata": {},
   "source": [
    "#### Agglomerative Clustering - Complete"
   ]
  },
  {
   "cell_type": "code",
   "execution_count": 13,
   "id": "c9911ab2-b763-4c2a-86ff-0c451e96935f",
   "metadata": {
    "execution": {
     "iopub.execute_input": "2022-05-22T13:35:47.544668Z",
     "iopub.status.busy": "2022-05-22T13:35:47.544084Z",
     "iopub.status.idle": "2022-05-22T13:35:49.902422Z",
     "shell.execute_reply": "2022-05-22T13:35:49.901137Z",
     "shell.execute_reply.started": "2022-05-22T13:35:47.544605Z"
    },
    "tags": []
   },
   "outputs": [
    {
     "data": {
      "image/png": "[encoded data removed]",
      "text/plain": [
       "<Figure size 432x288 with 1 Axes>"
      ]
     },
     "metadata": {
      "needs_background": "light"
     },
     "output_type": "display_data"
    }
   ],
   "source": [
    "from scipy.cluster.hierarchy import linkage, dendrogram\n",
    "\n",
    "def plot_tree(Z, ylabel='$\\Delta$'):\n",
    "    fig, ax = plt.subplots()\n",
    "    dn = dendrogram(Z, ax=ax, truncate_mode='level', p=5)\n",
    "    ax.set_ylabel(f'{ylabel}')\n",
    "\n",
    "Z = linkage(embeddings, method='complete', metric='cosine', optimal_ordering=True)\n",
    "plot_tree(Z)\n",
    "# plt.axhline(0.33, color='red')\n",
    "plt.show()"
   ]
  },
  {
   "cell_type": "code",
   "execution_count": 15,
   "id": "2d2cfa23-85a0-43e5-8fde-b4637009bb0f",
   "metadata": {
    "execution": {
     "iopub.execute_input": "2022-05-22T13:36:16.709141Z",
     "iopub.status.busy": "2022-05-22T13:36:16.708595Z",
     "iopub.status.idle": "2022-05-22T13:36:17.115798Z",
     "shell.execute_reply": "2022-05-22T13:36:17.114529Z",
     "shell.execute_reply.started": "2022-05-22T13:36:16.709080Z"
    },
    "tags": []
   },
   "outputs": [
    {
     "data": {
      "image/png": "[encoded data removed]",
      "text/plain": [
       "<Figure size 432x288 with 1 Axes>"
      ]
     },
     "metadata": {
      "needs_background": "light"
     },
     "output_type": "display_data"
    }
   ],
   "source": [
    "Z = linkage(embeddings, method='average', metric='cosine', optimal_ordering=True)\n",
    "plot_tree(Z)"
   ]
  },
  {
   "cell_type": "code",
   "execution_count": 16,
   "id": "f75b9e18-5ff6-41af-8f32-cc741a3e4f27",
   "metadata": {
    "execution": {
     "iopub.execute_input": "2022-05-22T13:36:18.307653Z",
     "iopub.status.busy": "2022-05-22T13:36:18.306908Z",
     "iopub.status.idle": "2022-05-22T13:36:18.643804Z",
     "shell.execute_reply": "2022-05-22T13:36:18.642642Z",
     "shell.execute_reply.started": "2022-05-22T13:36:18.307588Z"
    },
    "tags": []
   },
   "outputs": [
    {
     "data": {
      "image/png": "[encoded data removed]",
      "text/plain": [
       "<Figure size 432x288 with 1 Axes>"
      ]
     },
     "metadata": {
      "needs_background": "light"
     },
     "output_type": "display_data"
    }
   ],
   "source": [
    "Z = linkage(embeddings, method='single', metric='cosine', optimal_ordering=True)\n",
    "plot_tree(Z)"
   ]
  },
  {
   "cell_type": "code",
   "execution_count": 17,
   "id": "6e7c9750-0e71-4792-8a32-df77b4617e01",
   "metadata": {
    "execution": {
     "iopub.execute_input": "2022-05-22T13:36:19.487510Z",
     "iopub.status.busy": "2022-05-22T13:36:19.486927Z",
     "iopub.status.idle": "2022-05-22T13:36:22.382553Z",
     "shell.execute_reply": "2022-05-22T13:36:22.381953Z",
     "shell.execute_reply.started": "2022-05-22T13:36:19.487448Z"
    },
    "tags": []
   },
   "outputs": [
    {
     "data": {
      "image/png": "[encoded data removed]",
      "text/plain": [
       "<Figure size 432x288 with 1 Axes>"
      ]
     },
     "metadata": {
      "needs_background": "light"
     },
     "output_type": "display_data"
    }
   ],
   "source": [
    "Z = linkage(embeddings, method='ward', metric='euclidean', optimal_ordering=True)\n",
    "plot_tree(Z)"
   ]
  },
  {
   "cell_type": "code",
   "execution_count": 18,
   "id": "38c54598-85cd-4d99-8817-4cedd2b662ae",
   "metadata": {
    "execution": {
     "iopub.execute_input": "2022-05-22T13:36:25.830819Z",
     "iopub.status.busy": "2022-05-22T13:36:25.830267Z",
     "iopub.status.idle": "2022-05-22T13:36:28.166226Z",
     "shell.execute_reply": "2022-05-22T13:36:28.163832Z",
     "shell.execute_reply.started": "2022-05-22T13:36:25.830758Z"
    },
    "tags": []
   },
   "outputs": [
    {
     "name": "stdout",
     "output_type": "stream",
     "text": [
      "Estimated number of clusters: 37\n",
      "Estimated number of noise points: 0\n",
      "CI Coefficient: 14.82755\n",
      "Silhouette Coefficient: 0.06216\n",
      "DB Coefficient: 2.16020\n"
     ]
    }
   ],
   "source": [
    "from sklearn.cluster import AgglomerativeClustering\n",
    "from scipy.cluster.hierarchy import fcluster\n",
    "\n",
    "Z = linkage(embeddings, method='complete', metric='cosine', optimal_ordering=True)\n",
    "labels = fcluster(Z, t=0.33, criterion='distance')\n",
    "\n",
    "n_clusters_ = len(set(labels)) - (1 if -1 in labels else 0)\n",
    "n_noise_ = list(labels).count(-1)\n",
    "\n",
    "print('Estimated number of clusters: %d' % n_clusters_)\n",
    "print('Estimated number of noise points: %d' % n_noise_)\n",
    "print(\"CI Coefficient: %0.5f\"\n",
    "      % calinski_harabasz_score(embeddings, labels))\n",
    "print(\"Silhouette Coefficient: %0.5f\"\n",
    "      % silhouette_score(embeddings, labels))\n",
    "print(\"DB Coefficient: %0.5f\"\n",
    "      % davies_bouldin_score(embeddings, labels))"
   ]
  },
  {
   "cell_type": "markdown",
   "id": "488dca17-865d-4473-b2be-e5e506cc1ef2",
   "metadata": {},
   "source": [
    "#### Spectral Co-Clustering"
   ]
  },
  {
   "cell_type": "code",
   "execution_count": 19,
   "id": "b2306dc0-9393-4d06-8f22-5c3d747d3e0c",
   "metadata": {
    "execution": {
     "iopub.execute_input": "2022-05-22T13:36:33.805772Z",
     "iopub.status.busy": "2022-05-22T13:36:33.804907Z",
     "iopub.status.idle": "2022-05-22T13:36:48.481025Z",
     "shell.execute_reply": "2022-05-22T13:36:48.478952Z",
     "shell.execute_reply.started": "2022-05-22T13:36:33.805683Z"
    },
    "tags": []
   },
   "outputs": [
    {
     "data": {
      "text/html": [
       "<div>\n",
       "<style scoped>\n",
       "    .dataframe tbody tr th:only-of-type {\n",
       "        vertical-align: middle;\n",
       "    }\n",
       "\n",
       "    .dataframe tbody tr th {\n",
       "        vertical-align: top;\n",
       "    }\n",
       "\n",
       "    .dataframe thead th {\n",
       "        text-align: right;\n",
       "    }\n",
       "</style>\n",
       "<table border=\"1\" class=\"dataframe\">\n",
       "  <thead>\n",
       "    <tr style=\"text-align: right;\">\n",
       "      <th></th>\n",
       "      <th>run_time</th>\n",
       "      <th>CI Coefficient</th>\n",
       "      <th>Silhouette Coefficient</th>\n",
       "      <th>DB Coefficient</th>\n",
       "    </tr>\n",
       "  </thead>\n",
       "  <tbody>\n",
       "    <tr>\n",
       "      <th>2</th>\n",
       "      <td>0.138648</td>\n",
       "      <td>1.733169</td>\n",
       "      <td>0.002805</td>\n",
       "      <td>19.784811</td>\n",
       "    </tr>\n",
       "    <tr>\n",
       "      <th>3</th>\n",
       "      <td>0.424296</td>\n",
       "      <td>78.330525</td>\n",
       "      <td>0.104145</td>\n",
       "      <td>3.092773</td>\n",
       "    </tr>\n",
       "    <tr>\n",
       "      <th>4</th>\n",
       "      <td>0.450614</td>\n",
       "      <td>57.419522</td>\n",
       "      <td>0.073447</td>\n",
       "      <td>4.023137</td>\n",
       "    </tr>\n",
       "    <tr>\n",
       "      <th>5</th>\n",
       "      <td>0.479636</td>\n",
       "      <td>54.777649</td>\n",
       "      <td>0.049462</td>\n",
       "      <td>3.591812</td>\n",
       "    </tr>\n",
       "    <tr>\n",
       "      <th>6</th>\n",
       "      <td>0.500303</td>\n",
       "      <td>46.019446</td>\n",
       "      <td>0.033587</td>\n",
       "      <td>4.004596</td>\n",
       "    </tr>\n",
       "    <tr>\n",
       "      <th>7</th>\n",
       "      <td>0.587949</td>\n",
       "      <td>41.132257</td>\n",
       "      <td>0.032704</td>\n",
       "      <td>3.985253</td>\n",
       "    </tr>\n",
       "    <tr>\n",
       "      <th>8</th>\n",
       "      <td>0.469463</td>\n",
       "      <td>38.278080</td>\n",
       "      <td>0.035412</td>\n",
       "      <td>4.147631</td>\n",
       "    </tr>\n",
       "    <tr>\n",
       "      <th>9</th>\n",
       "      <td>0.572665</td>\n",
       "      <td>37.648581</td>\n",
       "      <td>0.048141</td>\n",
       "      <td>3.436047</td>\n",
       "    </tr>\n",
       "    <tr>\n",
       "      <th>10</th>\n",
       "      <td>0.612122</td>\n",
       "      <td>34.607004</td>\n",
       "      <td>0.043296</td>\n",
       "      <td>3.374239</td>\n",
       "    </tr>\n",
       "    <tr>\n",
       "      <th>11</th>\n",
       "      <td>0.539433</td>\n",
       "      <td>32.625823</td>\n",
       "      <td>0.038315</td>\n",
       "      <td>3.404174</td>\n",
       "    </tr>\n",
       "    <tr>\n",
       "      <th>12</th>\n",
       "      <td>0.521969</td>\n",
       "      <td>29.721296</td>\n",
       "      <td>0.032940</td>\n",
       "      <td>3.496785</td>\n",
       "    </tr>\n",
       "    <tr>\n",
       "      <th>13</th>\n",
       "      <td>0.579898</td>\n",
       "      <td>28.177943</td>\n",
       "      <td>0.038393</td>\n",
       "      <td>3.366937</td>\n",
       "    </tr>\n",
       "    <tr>\n",
       "      <th>14</th>\n",
       "      <td>0.606761</td>\n",
       "      <td>26.041797</td>\n",
       "      <td>0.028476</td>\n",
       "      <td>3.249514</td>\n",
       "    </tr>\n",
       "    <tr>\n",
       "      <th>15</th>\n",
       "      <td>0.586714</td>\n",
       "      <td>24.772497</td>\n",
       "      <td>0.022647</td>\n",
       "      <td>3.592406</td>\n",
       "    </tr>\n",
       "    <tr>\n",
       "      <th>16</th>\n",
       "      <td>0.610741</td>\n",
       "      <td>24.588754</td>\n",
       "      <td>0.017961</td>\n",
       "      <td>3.586327</td>\n",
       "    </tr>\n",
       "    <tr>\n",
       "      <th>17</th>\n",
       "      <td>0.694180</td>\n",
       "      <td>24.249525</td>\n",
       "      <td>0.042155</td>\n",
       "      <td>3.206962</td>\n",
       "    </tr>\n",
       "    <tr>\n",
       "      <th>18</th>\n",
       "      <td>0.636452</td>\n",
       "      <td>22.989016</td>\n",
       "      <td>0.035881</td>\n",
       "      <td>3.272557</td>\n",
       "    </tr>\n",
       "    <tr>\n",
       "      <th>19</th>\n",
       "      <td>0.783491</td>\n",
       "      <td>22.099520</td>\n",
       "      <td>0.044408</td>\n",
       "      <td>3.098431</td>\n",
       "    </tr>\n",
       "    <tr>\n",
       "      <th>20</th>\n",
       "      <td>0.633365</td>\n",
       "      <td>20.978210</td>\n",
       "      <td>0.032307</td>\n",
       "      <td>3.167055</td>\n",
       "    </tr>\n",
       "  </tbody>\n",
       "</table>\n",
       "</div>"
      ],
      "text/plain": [
       "    run_time  CI Coefficient  Silhouette Coefficient  DB Coefficient\n",
       "2   0.138648        1.733169                0.002805       19.784811\n",
       "3   0.424296       78.330525                0.104145        3.092773\n",
       "4   0.450614       57.419522                0.073447        4.023137\n",
       "5   0.479636       54.777649                0.049462        3.591812\n",
       "6   0.500303       46.019446                0.033587        4.004596\n",
       "7   0.587949       41.132257                0.032704        3.985253\n",
       "8   0.469463       38.278080                0.035412        4.147631\n",
       "9   0.572665       37.648581                0.048141        3.436047\n",
       "10  0.612122       34.607004                0.043296        3.374239\n",
       "11  0.539433       32.625823                0.038315        3.404174\n",
       "12  0.521969       29.721296                0.032940        3.496785\n",
       "13  0.579898       28.177943                0.038393        3.366937\n",
       "14  0.606761       26.041797                0.028476        3.249514\n",
       "15  0.586714       24.772497                0.022647        3.592406\n",
       "16  0.610741       24.588754                0.017961        3.586327\n",
       "17  0.694180       24.249525                0.042155        3.206962\n",
       "18  0.636452       22.989016                0.035881        3.272557\n",
       "19  0.783491       22.099520                0.044408        3.098431\n",
       "20  0.633365       20.978210                0.032307        3.167055"
      ]
     },
     "execution_count": 19,
     "metadata": {},
     "output_type": "execute_result"
    }
   ],
   "source": [
    "from sklearn.cluster import SpectralCoclustering\n",
    "\n",
    "scoring = ['run_time', 'CI Coefficient', 'Silhouette Coefficient', 'DB Coefficient']\n",
    "results = pd.DataFrame(columns=scoring)\n",
    "for i in range(2, 21):\n",
    "    start_time = time.time()\n",
    "    scc = SpectralCoclustering(n_clusters=i, svd_method='arpack', random_state=42).fit(embeddings)\n",
    "    labels = scc.row_labels_\n",
    "    results.loc[i] = {\"run_time\": time.time() - start_time,\n",
    "                                    'CI Coefficient': calinski_harabasz_score(embeddings, labels),\n",
    "                                    'Silhouette Coefficient': silhouette_score(embeddings, labels),\n",
    "                                    'DB Coefficient': davies_bouldin_score(embeddings, labels)}\n",
    "results"
   ]
  },
  {
   "cell_type": "code",
   "execution_count": 20,
   "id": "dc4d503e-059b-4bbe-89d5-fa701371d336",
   "metadata": {
    "execution": {
     "iopub.execute_input": "2022-05-22T13:36:48.485819Z",
     "iopub.status.busy": "2022-05-22T13:36:48.485310Z",
     "iopub.status.idle": "2022-05-22T13:36:48.721582Z",
     "shell.execute_reply": "2022-05-22T13:36:48.720790Z",
     "shell.execute_reply.started": "2022-05-22T13:36:48.485723Z"
    },
    "tags": []
   },
   "outputs": [
    {
     "data": {
      "text/plain": [
       "<AxesSubplot:>"
      ]
     },
     "execution_count": 20,
     "metadata": {},
     "output_type": "execute_result"
    },
    {
     "data": {
      "image/png": "[encoded data removed]",
      "text/plain": [
       "<Figure size 432x288 with 1 Axes>"
      ]
     },
     "metadata": {
      "needs_background": "light"
     },
     "output_type": "display_data"
    }
   ],
   "source": [
    "results[['CI Coefficient', 'DB Coefficient']].plot()"
   ]
  },
  {
   "cell_type": "markdown",
   "id": "5a660ff1-1bab-4acb-9369-bed1427e065e",
   "metadata": {},
   "source": [
    "#### HDBSCAN w/o UMAP"
   ]
  },
  {
   "cell_type": "code",
   "execution_count": 9,
   "id": "985301af-43e4-4a16-b1da-8a9c66ecc258",
   "metadata": {
    "execution": {
     "iopub.execute_input": "2022-05-22T13:35:24.202370Z",
     "iopub.status.busy": "2022-05-22T13:35:24.201807Z",
     "iopub.status.idle": "2022-05-22T13:35:24.657552Z",
     "shell.execute_reply": "2022-05-22T13:35:24.577890Z",
     "shell.execute_reply.started": "2022-05-22T13:35:24.202307Z"
    },
    "tags": []
   },
   "outputs": [
    {
     "name": "stdout",
     "output_type": "stream",
     "text": [
      "Estimated number of clusters: 2\n",
      "Estimated number of noise points: 72\n",
      "CI Coefficient: 12.44814\n",
      "Silhouette Coefficient: 0.05840\n",
      "DB Coefficient: 3.59198\n"
     ]
    }
   ],
   "source": [
    "from sklearn.metrics.pairwise import cosine_distances\n",
    "\n",
    "cos_dist = cosine_distances(embeddings).astype('double')\n",
    "\n",
    "clusterer = hdbscan.HDBSCAN(min_cluster_size=10,\n",
    "                          min_samples=2,\n",
    "                          metric='precomputed').fit(cos_dist)\n",
    "labels = clusterer.labels_\n",
    "\n",
    "n_clusters_ = len(set(labels)) - (1 if -1 in labels else 0)\n",
    "n_noise_ = list(labels).count(-1)\n",
    "\n",
    "print('Estimated number of clusters: %d' % n_clusters_)\n",
    "print('Estimated number of noise points: %d' % n_noise_)\n",
    "print(\"CI Coefficient: %0.5f\"\n",
    "      % calinski_harabasz_score(embeddings, labels))\n",
    "print(\"Silhouette Coefficient: %0.5f\"\n",
    "      % silhouette_score(embeddings, labels))\n",
    "print(\"DB Coefficient: %0.5f\"\n",
    "      % davies_bouldin_score(embeddings, labels))"
   ]
  },
  {
   "cell_type": "markdown",
   "id": "be7801a6-e94b-4d6d-b2fd-4a29da3e9fcc",
   "metadata": {},
   "source": [
    "#### HDBSCAN with UMAP"
   ]
  },
  {
   "cell_type": "code",
   "execution_count": 15,
   "id": "caf6cf64-ed2a-4dfe-8b0e-7b3b24824ecb",
   "metadata": {
    "execution": {
     "iopub.execute_input": "2022-05-23T04:54:38.458919Z",
     "iopub.status.busy": "2022-05-23T04:54:38.458372Z",
     "iopub.status.idle": "2022-05-23T04:54:53.790896Z",
     "shell.execute_reply": "2022-05-23T04:54:53.789082Z",
     "shell.execute_reply.started": "2022-05-23T04:54:38.458857Z"
    },
    "tags": []
   },
   "outputs": [],
   "source": [
    "umap_embeddings = umap.UMAP(n_neighbors=20, \n",
    "                            n_components=10, \n",
    "                            metric='cosine').fit_transform(embeddings)"
   ]
  },
  {
   "cell_type": "code",
   "execution_count": 22,
   "id": "07b9300f-3587-4845-b554-13581b375462",
   "metadata": {
    "execution": {
     "iopub.execute_input": "2022-05-22T13:37:22.290265Z",
     "iopub.status.busy": "2022-05-22T13:37:22.290021Z",
     "iopub.status.idle": "2022-05-22T13:37:36.500234Z",
     "shell.execute_reply": "2022-05-22T13:37:36.498633Z",
     "shell.execute_reply.started": "2022-05-22T13:37:22.290237Z"
    },
    "tags": []
   },
   "outputs": [],
   "source": [
    "temp = umap.UMAP(n_neighbors=20, n_components=2, metric='cosine').fit_transform(embeddings)"
   ]
  },
  {
   "cell_type": "code",
   "execution_count": 23,
   "id": "5d4b96e1-0216-42a0-a8bd-533cc5cdddb9",
   "metadata": {
    "execution": {
     "iopub.execute_input": "2022-05-22T13:37:36.502628Z",
     "iopub.status.busy": "2022-05-22T13:37:36.502352Z",
     "iopub.status.idle": "2022-05-22T13:37:36.621806Z",
     "shell.execute_reply": "2022-05-22T13:37:36.620715Z",
     "shell.execute_reply.started": "2022-05-22T13:37:36.502590Z"
    },
    "tags": []
   },
   "outputs": [
    {
     "data": {
      "image/png": "[encoded data removed]",
      "text/plain": [
       "<Figure size 432x288 with 1 Axes>"
      ]
     },
     "metadata": {
      "needs_background": "light"
     },
     "output_type": "display_data"
    }
   ],
   "source": [
    "result = pd.DataFrame(temp, columns=['x', 'y'])\n",
    "\n",
    "plt.scatter(result.x, result.y);"
   ]
  },
  {
   "cell_type": "code",
   "execution_count": 26,
   "id": "4d66c81e-fc0a-4400-84d8-5297d37381ed",
   "metadata": {
    "execution": {
     "iopub.execute_input": "2022-05-22T13:38:20.270648Z",
     "iopub.status.busy": "2022-05-22T13:38:20.270077Z",
     "iopub.status.idle": "2022-05-22T13:39:46.062279Z",
     "shell.execute_reply": "2022-05-22T13:39:46.059553Z",
     "shell.execute_reply.started": "2022-05-22T13:38:20.270586Z"
    },
    "tags": []
   },
   "outputs": [],
   "source": [
    "results = []\n",
    "\n",
    "for i in range(2, 21):\n",
    "    for j in range(2, 21):\n",
    "        clusterer = hdbscan.HDBSCAN(min_cluster_size=i,\n",
    "                                    min_samples=j,\n",
    "                                    metric='euclidean').fit(umap_embeddings)\n",
    "        labels = clusterer.labels_\n",
    "\n",
    "        n_clusters_ = len(set(labels)) - (1 if -1 in labels else 0)\n",
    "        n_noise_ = list(labels).count(-1)\n",
    "        \n",
    "        results.append([i, j, n_clusters_, n_noise_,\n",
    "                        calinski_harabasz_score(umap_embeddings, labels),\n",
    "                        silhouette_score(umap_embeddings, labels),\n",
    "                        davies_bouldin_score(umap_embeddings, labels)])"
   ]
  },
  {
   "cell_type": "code",
   "execution_count": 32,
   "id": "6c83dffc-d5d6-4d45-9e23-3ec0f4cbacbb",
   "metadata": {
    "execution": {
     "iopub.execute_input": "2022-05-22T13:42:28.405672Z",
     "iopub.status.busy": "2022-05-22T13:42:28.405120Z",
     "iopub.status.idle": "2022-05-22T13:42:28.438447Z",
     "shell.execute_reply": "2022-05-22T13:42:28.437658Z",
     "shell.execute_reply.started": "2022-05-22T13:42:28.405608Z"
    },
    "tags": []
   },
   "outputs": [
    {
     "data": {
      "text/html": [
       "<div>\n",
       "<style scoped>\n",
       "    .dataframe tbody tr th:only-of-type {\n",
       "        vertical-align: middle;\n",
       "    }\n",
       "\n",
       "    .dataframe tbody tr th {\n",
       "        vertical-align: top;\n",
       "    }\n",
       "\n",
       "    .dataframe thead th {\n",
       "        text-align: right;\n",
       "    }\n",
       "</style>\n",
       "<table border=\"1\" class=\"dataframe\">\n",
       "  <thead>\n",
       "    <tr style=\"text-align: right;\">\n",
       "      <th></th>\n",
       "      <th>min_cluster_size</th>\n",
       "      <th>min_samples</th>\n",
       "      <th>clusters</th>\n",
       "      <th>noise</th>\n",
       "      <th>CI</th>\n",
       "      <th>Silh</th>\n",
       "      <th>DB</th>\n",
       "    </tr>\n",
       "  </thead>\n",
       "  <tbody>\n",
       "    <tr>\n",
       "      <th>190</th>\n",
       "      <td>12</td>\n",
       "      <td>2</td>\n",
       "      <td>10</td>\n",
       "      <td>25</td>\n",
       "      <td>567.458040</td>\n",
       "      <td>0.369350</td>\n",
       "      <td>1.258355</td>\n",
       "    </tr>\n",
       "    <tr>\n",
       "      <th>209</th>\n",
       "      <td>13</td>\n",
       "      <td>2</td>\n",
       "      <td>10</td>\n",
       "      <td>25</td>\n",
       "      <td>567.458040</td>\n",
       "      <td>0.369350</td>\n",
       "      <td>1.258355</td>\n",
       "    </tr>\n",
       "    <tr>\n",
       "      <th>228</th>\n",
       "      <td>14</td>\n",
       "      <td>2</td>\n",
       "      <td>10</td>\n",
       "      <td>25</td>\n",
       "      <td>567.458040</td>\n",
       "      <td>0.369350</td>\n",
       "      <td>1.258355</td>\n",
       "    </tr>\n",
       "    <tr>\n",
       "      <th>247</th>\n",
       "      <td>15</td>\n",
       "      <td>2</td>\n",
       "      <td>10</td>\n",
       "      <td>25</td>\n",
       "      <td>567.458040</td>\n",
       "      <td>0.369350</td>\n",
       "      <td>1.258355</td>\n",
       "    </tr>\n",
       "    <tr>\n",
       "      <th>171</th>\n",
       "      <td>11</td>\n",
       "      <td>2</td>\n",
       "      <td>11</td>\n",
       "      <td>36</td>\n",
       "      <td>527.241029</td>\n",
       "      <td>0.359497</td>\n",
       "      <td>1.251552</td>\n",
       "    </tr>\n",
       "    <tr>\n",
       "      <th>343</th>\n",
       "      <td>20</td>\n",
       "      <td>3</td>\n",
       "      <td>11</td>\n",
       "      <td>61</td>\n",
       "      <td>587.534709</td>\n",
       "      <td>0.418539</td>\n",
       "      <td>1.514613</td>\n",
       "    </tr>\n",
       "    <tr>\n",
       "      <th>305</th>\n",
       "      <td>18</td>\n",
       "      <td>3</td>\n",
       "      <td>12</td>\n",
       "      <td>61</td>\n",
       "      <td>566.798726</td>\n",
       "      <td>0.409749</td>\n",
       "      <td>1.453678</td>\n",
       "    </tr>\n",
       "    <tr>\n",
       "      <th>324</th>\n",
       "      <td>19</td>\n",
       "      <td>3</td>\n",
       "      <td>12</td>\n",
       "      <td>61</td>\n",
       "      <td>566.798726</td>\n",
       "      <td>0.409749</td>\n",
       "      <td>1.453678</td>\n",
       "    </tr>\n",
       "    <tr>\n",
       "      <th>267</th>\n",
       "      <td>16</td>\n",
       "      <td>3</td>\n",
       "      <td>13</td>\n",
       "      <td>61</td>\n",
       "      <td>548.094340</td>\n",
       "      <td>0.420760</td>\n",
       "      <td>1.415748</td>\n",
       "    </tr>\n",
       "    <tr>\n",
       "      <th>286</th>\n",
       "      <td>17</td>\n",
       "      <td>3</td>\n",
       "      <td>13</td>\n",
       "      <td>61</td>\n",
       "      <td>548.094340</td>\n",
       "      <td>0.420760</td>\n",
       "      <td>1.415748</td>\n",
       "    </tr>\n",
       "    <tr>\n",
       "      <th>229</th>\n",
       "      <td>14</td>\n",
       "      <td>3</td>\n",
       "      <td>14</td>\n",
       "      <td>62</td>\n",
       "      <td>512.352918</td>\n",
       "      <td>0.422889</td>\n",
       "      <td>1.396100</td>\n",
       "    </tr>\n",
       "    <tr>\n",
       "      <th>248</th>\n",
       "      <td>15</td>\n",
       "      <td>3</td>\n",
       "      <td>14</td>\n",
       "      <td>62</td>\n",
       "      <td>512.352918</td>\n",
       "      <td>0.422889</td>\n",
       "      <td>1.396100</td>\n",
       "    </tr>\n",
       "    <tr>\n",
       "      <th>152</th>\n",
       "      <td>10</td>\n",
       "      <td>2</td>\n",
       "      <td>17</td>\n",
       "      <td>68</td>\n",
       "      <td>404.862639</td>\n",
       "      <td>0.397836</td>\n",
       "      <td>1.470791</td>\n",
       "    </tr>\n",
       "    <tr>\n",
       "      <th>191</th>\n",
       "      <td>12</td>\n",
       "      <td>3</td>\n",
       "      <td>15</td>\n",
       "      <td>73</td>\n",
       "      <td>462.639920</td>\n",
       "      <td>0.405907</td>\n",
       "      <td>1.300306</td>\n",
       "    </tr>\n",
       "    <tr>\n",
       "      <th>210</th>\n",
       "      <td>13</td>\n",
       "      <td>3</td>\n",
       "      <td>15</td>\n",
       "      <td>73</td>\n",
       "      <td>462.639920</td>\n",
       "      <td>0.405907</td>\n",
       "      <td>1.300306</td>\n",
       "    </tr>\n",
       "  </tbody>\n",
       "</table>\n",
       "</div>"
      ],
      "text/plain": [
       "     min_cluster_size  min_samples  clusters  noise          CI      Silh  \\\n",
       "190                12            2        10     25  567.458040  0.369350   \n",
       "209                13            2        10     25  567.458040  0.369350   \n",
       "228                14            2        10     25  567.458040  0.369350   \n",
       "247                15            2        10     25  567.458040  0.369350   \n",
       "171                11            2        11     36  527.241029  0.359497   \n",
       "343                20            3        11     61  587.534709  0.418539   \n",
       "305                18            3        12     61  566.798726  0.409749   \n",
       "324                19            3        12     61  566.798726  0.409749   \n",
       "267                16            3        13     61  548.094340  0.420760   \n",
       "286                17            3        13     61  548.094340  0.420760   \n",
       "229                14            3        14     62  512.352918  0.422889   \n",
       "248                15            3        14     62  512.352918  0.422889   \n",
       "152                10            2        17     68  404.862639  0.397836   \n",
       "191                12            3        15     73  462.639920  0.405907   \n",
       "210                13            3        15     73  462.639920  0.405907   \n",
       "\n",
       "           DB  \n",
       "266  1.387798  \n",
       "285  1.387798  \n",
       "304  1.387798  \n",
       "323  1.387798  \n",
       "342  1.387798  \n",
       "190  1.258355  \n",
       "209  1.258355  \n",
       "228  1.258355  \n",
       "247  1.258355  \n",
       "171  1.251552  \n",
       "343  1.514613  \n",
       "305  1.453678  \n",
       "324  1.453678  \n",
       "267  1.415748  \n",
       "286  1.415748  \n",
       "229  1.396100  \n",
       "248  1.396100  \n",
       "152  1.470791  \n",
       "191  1.300306  \n",
       "210  1.300306  "
      ]
     },
     "execution_count": 32,
     "metadata": {},
     "output_type": "execute_result"
    }
   ],
   "source": [
    "temp = pd.DataFrame(results, columns=['min_cluster_size', 'min_samples', 'clusters',\n",
    "                                      'noise', 'CI', 'Silh', 'DB'])\n",
    "temp[(temp['clusters'] < 20) & (temp['clusters'] > 6)].sort_values(['noise', 'CI', 'Silh', 'DB'], ascending=[True, False, False, True]).head(20)"
   ]
  },
  {
   "cell_type": "markdown",
   "id": "707d5c00-1dd1-46f6-998d-d0eb8acb2f86",
   "metadata": {},
   "source": [
    "### c-TFIDF"
   ]
  },
  {
   "cell_type": "code",
   "execution_count": 81,
   "id": "07e9af9f-81de-45c4-acd2-d18685f540c0",
   "metadata": {
    "execution": {
     "iopub.execute_input": "2022-05-22T14:10:27.106946Z",
     "iopub.status.busy": "2022-05-22T14:10:27.106382Z",
     "iopub.status.idle": "2022-05-22T14:10:27.167003Z",
     "shell.execute_reply": "2022-05-22T14:10:27.166095Z",
     "shell.execute_reply.started": "2022-05-22T14:10:27.106881Z"
    },
    "tags": []
   },
   "outputs": [],
   "source": [
    "clusterer = hdbscan.HDBSCAN(min_cluster_size=15,\n",
    "                            min_samples=2,\n",
    "                            metric='euclidean').fit(umap_embeddings)\n",
    "labels = clusterer.labels_"
   ]
  },
  {
   "cell_type": "code",
   "execution_count": 95,
   "id": "68f62477-57ff-4755-a078-945195675ebd",
   "metadata": {
    "execution": {
     "iopub.execute_input": "2022-05-22T14:13:36.308376Z",
     "iopub.status.busy": "2022-05-22T14:13:36.307825Z",
     "iopub.status.idle": "2022-05-22T14:13:36.327728Z",
     "shell.execute_reply": "2022-05-22T14:13:36.326540Z",
     "shell.execute_reply.started": "2022-05-22T14:13:36.308315Z"
    },
    "tags": []
   },
   "outputs": [],
   "source": [
    "docs_df = pd.DataFrame(docs.tolist(), columns=[\"Doc\"])\n",
    "docs_df['Topic'] = labels\n",
    "docs_df['index'] = docs.index\n",
    "docs_per_topic = docs_df.groupby(['Topic'], as_index = False).agg({'Doc': ' '.join})"
   ]
  },
  {
   "cell_type": "code",
   "execution_count": 85,
   "id": "22a3e7b4-9de3-4892-bb55-c79b86963834",
   "metadata": {
    "execution": {
     "iopub.execute_input": "2022-05-22T14:10:44.699867Z",
     "iopub.status.busy": "2022-05-22T14:10:44.699282Z",
     "iopub.status.idle": "2022-05-22T14:10:47.209063Z",
     "shell.execute_reply": "2022-05-22T14:10:47.208262Z",
     "shell.execute_reply.started": "2022-05-22T14:10:44.699805Z"
    },
    "tags": []
   },
   "outputs": [],
   "source": [
    "import numpy as np\n",
    "from sklearn.feature_extraction.text import CountVectorizer\n",
    "\n",
    "def c_tf_idf(documents, m, ngram_range=(1, 6)):\n",
    "    count = CountVectorizer(ngram_range=ngram_range, stop_words=\"english\").fit(documents)\n",
    "    t = count.transform(documents).toarray()\n",
    "    w = t.sum(axis=1)\n",
    "    tf = np.divide(t.T, w)\n",
    "    sum_t = t.sum(axis=0)\n",
    "    idf = np.log(np.divide(m, sum_t)).reshape(-1, 1)\n",
    "    tf_idf = np.multiply(tf, idf)\n",
    "\n",
    "    return tf_idf, count\n",
    "\n",
    "tf_idf, count = c_tf_idf(docs_per_topic.Doc.values, m=len(docs.tolist()))"
   ]
  },
  {
   "cell_type": "code",
   "execution_count": 86,
   "id": "9d49fae9-bf83-4176-81f8-9bca6342d5a4",
   "metadata": {
    "execution": {
     "iopub.execute_input": "2022-05-22T14:10:47.212182Z",
     "iopub.status.busy": "2022-05-22T14:10:47.211595Z",
     "iopub.status.idle": "2022-05-22T14:10:47.780011Z",
     "shell.execute_reply": "2022-05-22T14:10:47.778657Z",
     "shell.execute_reply.started": "2022-05-22T14:10:47.212119Z"
    },
    "tags": []
   },
   "outputs": [
    {
     "data": {
      "text/html": [
       "<div>\n",
       "<style scoped>\n",
       "    .dataframe tbody tr th:only-of-type {\n",
       "        vertical-align: middle;\n",
       "    }\n",
       "\n",
       "    .dataframe tbody tr th {\n",
       "        vertical-align: top;\n",
       "    }\n",
       "\n",
       "    .dataframe thead th {\n",
       "        text-align: right;\n",
       "    }\n",
       "</style>\n",
       "<table border=\"1\" class=\"dataframe\">\n",
       "  <thead>\n",
       "    <tr style=\"text-align: right;\">\n",
       "      <th></th>\n",
       "      <th>Topic</th>\n",
       "      <th>Size</th>\n",
       "      <th>Names</th>\n",
       "    </tr>\n",
       "  </thead>\n",
       "  <tbody>\n",
       "    <tr>\n",
       "      <th>2</th>\n",
       "      <td>1</td>\n",
       "      <td>239</td>\n",
       "      <td>EDUCATION</td>\n",
       "    </tr>\n",
       "    <tr>\n",
       "      <th>6</th>\n",
       "      <td>5</td>\n",
       "      <td>203</td>\n",
       "      <td>CROP CULTIVATION</td>\n",
       "    </tr>\n",
       "    <tr>\n",
       "      <th>7</th>\n",
       "      <td>6</td>\n",
       "      <td>51</td>\n",
       "      <td>DATA SCIENCE / COMPUTER VISION</td>\n",
       "    </tr>\n",
       "    <tr>\n",
       "      <th>9</th>\n",
       "      <td>8</td>\n",
       "      <td>48</td>\n",
       "      <td>GOVERNANCE / POLICY</td>\n",
       "    </tr>\n",
       "    <tr>\n",
       "      <th>10</th>\n",
       "      <td>9</td>\n",
       "      <td>39</td>\n",
       "      <td>INDIGENOUS PEOPLE / TRADITION AND HISTORY</td>\n",
       "    </tr>\n",
       "    <tr>\n",
       "      <th>1</th>\n",
       "      <td>0</td>\n",
       "      <td>37</td>\n",
       "      <td>PANDEMIC</td>\n",
       "    </tr>\n",
       "    <tr>\n",
       "      <th>0</th>\n",
       "      <td>-1</td>\n",
       "      <td>25</td>\n",
       "      <td>Outliers</td>\n",
       "    </tr>\n",
       "    <tr>\n",
       "      <th>8</th>\n",
       "      <td>7</td>\n",
       "      <td>21</td>\n",
       "      <td>UTILITIES / TRANSPORTATION</td>\n",
       "    </tr>\n",
       "    <tr>\n",
       "      <th>5</th>\n",
       "      <td>4</td>\n",
       "      <td>20</td>\n",
       "      <td>LIVESTOCK AGRICULTURE</td>\n",
       "    </tr>\n",
       "    <tr>\n",
       "      <th>4</th>\n",
       "      <td>3</td>\n",
       "      <td>18</td>\n",
       "      <td>MARINE BIOLOGY</td>\n",
       "    </tr>\n",
       "    <tr>\n",
       "      <th>3</th>\n",
       "      <td>2</td>\n",
       "      <td>15</td>\n",
       "      <td>BIODIVERSITY / CONSERVATIONISM</td>\n",
       "    </tr>\n",
       "  </tbody>\n",
       "</table>\n",
       "</div>"
      ],
      "text/plain": [
       "    Topic  Size                                      Names\n",
       "2       1   239                                  EDUCATION\n",
       "6       5   203                           CROP CULTIVATION\n",
       "7       6    51             DATA SCIENCE / COMPUTER VISION\n",
       "9       8    48                        GOVERNANCE / POLICY\n",
       "10      9    39  INDIGENOUS PEOPLE / TRADITION AND HISTORY\n",
       "1       0    37                                   PANDEMIC\n",
       "0      -1    25                                   Outliers\n",
       "8       7    21                 UTILITIES / TRANSPORTATION\n",
       "5       4    20                      LIVESTOCK AGRICULTURE\n",
       "4       3    18                             MARINE BIOLOGY\n",
       "3       2    15             BIODIVERSITY / CONSERVATIONISM"
      ]
     },
     "execution_count": 86,
     "metadata": {},
     "output_type": "execute_result"
    }
   ],
   "source": [
    "def extract_top_n_words_per_topic(tf_idf, count, docs_per_topic, n=20):\n",
    "    words = count.get_feature_names()\n",
    "    labels = list(docs_per_topic.Topic)\n",
    "    tf_idf_transposed = tf_idf.T\n",
    "    indices = tf_idf_transposed.argsort()[:, -n:]\n",
    "    top_n_words = {label: [(words[j], tf_idf_transposed[i][j]) for j in indices[i]][::-1] for i, label in enumerate(labels)}\n",
    "    return top_n_words\n",
    "\n",
    "def extract_topic_sizes(df):\n",
    "    topic_sizes = (df.groupby(['Topic'])\n",
    "                     .Doc\n",
    "                     .count()\n",
    "                     .reset_index()\n",
    "                     .rename({\"Topic\": \"Topic\", \"Doc\": \"Size\"}, axis='columns')\n",
    "                     .sort_values(\"Size\", ascending=False))\n",
    "    return topic_sizes\n",
    "\n",
    "top_n_words = extract_top_n_words_per_topic(tf_idf, count, docs_per_topic, n=20)\n",
    "topic_sizes = extract_topic_sizes(docs_df)\n",
    "topic_sizes['Names'] = ['EDUCATION', 'CROP CULTIVATION', 'DATA SCIENCE / COMPUTER VISION',\n",
    "                        'GOVERNANCE / POLICY', 'INDIGENOUS PEOPLE / TRADITION AND HISTORY', 'PANDEMIC',\n",
    "                        'Outliers', 'UTILITIES / TRANSPORTATION', 'LIVESTOCK AGRICULTURE', 'MARINE BIOLOGY',\n",
    "                        'BIODIVERSITY / CONSERVATIONISM']\n",
    "topic_sizes"
   ]
  },
  {
   "cell_type": "code",
   "execution_count": 112,
   "id": "65ac511c-a7d0-4107-95a1-1ed83075e673",
   "metadata": {
    "execution": {
     "iopub.execute_input": "2022-05-22T14:17:31.458546Z",
     "iopub.status.busy": "2022-05-22T14:17:31.457873Z",
     "iopub.status.idle": "2022-05-22T14:17:31.520044Z",
     "shell.execute_reply": "2022-05-22T14:17:31.519211Z",
     "shell.execute_reply.started": "2022-05-22T14:17:31.458482Z"
    },
    "tags": []
   },
   "outputs": [],
   "source": [
    "docs_df['Topic Name'] = docs_df['Topic'].map(topic_sizes[['Topic', 'Names']].set_index('Topic').to_dict()['Names'])\n",
    "docs_df.set_index('index').to_csv('abstract_topic.csv')"
   ]
  },
  {
   "cell_type": "code",
   "execution_count": 46,
   "id": "deaf6791-3835-403d-a29b-d55cc2a5d48c",
   "metadata": {
    "execution": {
     "iopub.execute_input": "2022-05-22T13:51:43.544372Z",
     "iopub.status.busy": "2022-05-22T13:51:43.543832Z",
     "iopub.status.idle": "2022-05-22T13:51:43.557669Z",
     "shell.execute_reply": "2022-05-22T13:51:43.556463Z",
     "shell.execute_reply.started": "2022-05-22T13:51:43.544311Z"
    },
    "tags": []
   },
   "outputs": [
    {
     "name": "stdout",
     "output_type": "stream",
     "text": [
      "EDUCATION\n"
     ]
    },
    {
     "data": {
      "text/plain": [
       "[('teachers', 0.0013559298432959303),\n",
       " ('teaching', 0.0012913610188605249),\n",
       " ('school', 0.0012517247918847716),\n",
       " ('skills', 0.001220519176672448),\n",
       " ('education', 0.001204781812679556),\n",
       " ('academic', 0.001129836782827765),\n",
       " ('learning', 0.0011285940329325975),\n",
       " ('teacher', 0.0011067824243076816),\n",
       " ('respondents', 0.001052147943344061),\n",
       " ('mathematics', 0.0010358107666016939),\n",
       " ('student', 0.0010065063567759973),\n",
       " ('faculty', 0.000922682235347681),\n",
       " ('state', 0.0009125306281367547),\n",
       " ('online', 0.0008950012819248826),\n",
       " ('college', 0.0008901818283336151),\n",
       " ('graduates', 0.0008641252551327857),\n",
       " ('performance', 0.0008366068011360188),\n",
       " ('level', 0.0008310468997841143),\n",
       " ('science', 0.0008282695370881235),\n",
       " ('self', 0.0008253017261968584)]"
      ]
     },
     "execution_count": 46,
     "metadata": {},
     "output_type": "execute_result"
    }
   ],
   "source": [
    "print('EDUCATION')\n",
    "top_n_words[1]"
   ]
  },
  {
   "cell_type": "code",
   "execution_count": 70,
   "id": "92be5fdb-6d5d-46a6-a340-a30e835bc3aa",
   "metadata": {
    "execution": {
     "iopub.execute_input": "2022-05-22T13:59:42.896336Z",
     "iopub.status.busy": "2022-05-22T13:59:42.895644Z",
     "iopub.status.idle": "2022-05-22T13:59:42.909291Z",
     "shell.execute_reply": "2022-05-22T13:59:42.908193Z",
     "shell.execute_reply.started": "2022-05-22T13:59:42.896274Z"
    },
    "tags": []
   },
   "outputs": [
    {
     "name": "stdout",
     "output_type": "stream",
     "text": [
      "CROP CULTIVATION\n"
     ]
    },
    {
     "data": {
      "text/plain": [
       "[('rice', 0.0013302956437845996),\n",
       " ('farmers', 0.001210975748329163),\n",
       " ('water', 0.0011884250192959408),\n",
       " ('yield', 0.0011350522455385787),\n",
       " ('food', 0.001013040624510212),\n",
       " ('growth', 0.0008352629503625336),\n",
       " ('soil', 0.0008284461116480899),\n",
       " ('production', 0.0008138342632938394),\n",
       " ('varieties', 0.0008074583209051551),\n",
       " ('climate', 0.0008006522952036226),\n",
       " ('plant', 0.0007849193906218359),\n",
       " ('plants', 0.0007822339409551462),\n",
       " ('fruit', 0.0007647719218038849),\n",
       " ('agricultural', 0.0007533638102204689),\n",
       " ('products', 0.0007434070428780133),\n",
       " ('banana', 0.0007386906556749264),\n",
       " ('treatments', 0.0007232340792922513),\n",
       " ('seeds', 0.000699512965044899),\n",
       " ('crops', 0.000682619073281407),\n",
       " ('drying', 0.0006769421374912896)]"
      ]
     },
     "execution_count": 70,
     "metadata": {},
     "output_type": "execute_result"
    }
   ],
   "source": [
    "print('CROP CULTIVATION')\n",
    "top_n_words[5]"
   ]
  },
  {
   "cell_type": "code",
   "execution_count": 52,
   "id": "b8a0a28b-8879-4469-a045-1832a3970f92",
   "metadata": {
    "execution": {
     "iopub.execute_input": "2022-05-22T13:52:38.218557Z",
     "iopub.status.busy": "2022-05-22T13:52:38.217995Z",
     "iopub.status.idle": "2022-05-22T13:52:38.231714Z",
     "shell.execute_reply": "2022-05-22T13:52:38.230286Z",
     "shell.execute_reply.started": "2022-05-22T13:52:38.218493Z"
    },
    "tags": []
   },
   "outputs": [
    {
     "name": "stdout",
     "output_type": "stream",
     "text": [
      "DATA SCIENCE\n"
     ]
    },
    {
     "data": {
      "text/plain": [
       "[('algorithm', 0.0036846209799575656),\n",
       " ('model', 0.002129521553521999),\n",
       " ('image', 0.0021008363707202774),\n",
       " ('encryption', 0.002077288223168847),\n",
       " ('accuracy', 0.002019612355221529),\n",
       " ('images', 0.0018323577101344518),\n",
       " ('machine', 0.001803823763470283),\n",
       " ('delay', 0.0017753557627664313),\n",
       " ('algorithms', 0.0017753557627664313),\n",
       " ('detection', 0.0017386629933886155),\n",
       " ('proposed', 0.0015410172721207504),\n",
       " ('classifier', 0.0015408976317364072),\n",
       " ('differential', 0.0015306334275980982),\n",
       " ('feature', 0.0015306334275980982),\n",
       " ('numerical', 0.0014886033674159133),\n",
       " ('predator', 0.0014780925502657553),\n",
       " ('cancer', 0.001468803373713891),\n",
       " ('time', 0.001453105844070956),\n",
       " ('equations', 0.0014424765572477257),\n",
       " ('symmetry', 0.0013974261060491406)]"
      ]
     },
     "execution_count": 52,
     "metadata": {},
     "output_type": "execute_result"
    }
   ],
   "source": [
    "print('DATA SCIENCE')\n",
    "top_n_words[6]"
   ]
  },
  {
   "cell_type": "code",
   "execution_count": 55,
   "id": "fb02c8e5-2617-4fa8-a98d-496135d5efa0",
   "metadata": {
    "execution": {
     "iopub.execute_input": "2022-05-22T13:54:31.349910Z",
     "iopub.status.busy": "2022-05-22T13:54:31.349348Z",
     "iopub.status.idle": "2022-05-22T13:54:31.363611Z",
     "shell.execute_reply": "2022-05-22T13:54:31.362413Z",
     "shell.execute_reply.started": "2022-05-22T13:54:31.349843Z"
    },
    "tags": []
   },
   "outputs": [
    {
     "name": "stdout",
     "output_type": "stream",
     "text": [
      "GOVERNMENT POLICY\n"
     ]
    },
    {
     "data": {
      "text/plain": [
       "[('waste', 0.003206985456856629),\n",
       " ('financial', 0.0023872384968443234),\n",
       " ('firms', 0.0023178881428052777),\n",
       " ('waste management', 0.0019688230569695287),\n",
       " ('solid', 0.0017976210520156567),\n",
       " ('solid waste', 0.0017551186320379632),\n",
       " ('business', 0.0017516752177352182),\n",
       " ('health', 0.0017160179830361445),\n",
       " ('awareness', 0.0016992961335021248),\n",
       " ('entrepreneurial', 0.0016865809872794696),\n",
       " ('solid waste management', 0.0015451286801040683),\n",
       " ('level awareness', 0.001528537452075481),\n",
       " ('humor', 0.001497029651405172),\n",
       " ('economic', 0.0014230315097521888),\n",
       " ('suicide', 0.0014221650717175386),\n",
       " ('ic', 0.0013519875950910598),\n",
       " ('management', 0.0013404065697181153),\n",
       " ('entrepreneurs', 0.0013313277496424943),\n",
       " ('peace', 0.0012974256978844825),\n",
       " ('migration', 0.0012757645620367966)]"
      ]
     },
     "execution_count": 55,
     "metadata": {},
     "output_type": "execute_result"
    }
   ],
   "source": [
    "print('GOVERNMENT POLICY')\n",
    "top_n_words[8]"
   ]
  },
  {
   "cell_type": "code",
   "execution_count": 54,
   "id": "0c3e5d4f-a410-4966-98ae-d6b95900e7bb",
   "metadata": {
    "execution": {
     "iopub.execute_input": "2022-05-22T13:53:25.385772Z",
     "iopub.status.busy": "2022-05-22T13:53:25.385202Z",
     "iopub.status.idle": "2022-05-22T13:53:25.399134Z",
     "shell.execute_reply": "2022-05-22T13:53:25.397980Z",
     "shell.execute_reply.started": "2022-05-22T13:53:25.385709Z"
    },
    "tags": []
   },
   "outputs": [
    {
     "name": "stdout",
     "output_type": "stream",
     "text": [
      "INDIGENOUS PEOPLE\n"
     ]
    },
    {
     "data": {
      "text/plain": [
       "[('indigenous', 0.0034432849439649444),\n",
       " ('cultural', 0.0033126670833700995),\n",
       " ('culture', 0.0026345513517644376),\n",
       " ('woven', 0.002410579993660871),\n",
       " ('oral', 0.0022670611109849343),\n",
       " ('dutertes', 0.0021647407434744817),\n",
       " ('discourse', 0.0020128635062757905),\n",
       " ('identity', 0.00200395539961557),\n",
       " ('tinguian', 0.00200395539961557),\n",
       " ('philosophy', 0.001967946130431347),\n",
       " ('paper', 0.0018734077303976496),\n",
       " ('tradition', 0.0018115771556482113),\n",
       " ('regional', 0.0017358539087914044),\n",
       " ('igorot', 0.0016944205194517404),\n",
       " ('igorots', 0.001526669028952228),\n",
       " ('identities', 0.001526669028952228),\n",
       " ('designs', 0.001511374073989956),\n",
       " ('patterns', 0.0015110911621538112),\n",
       " ('philippine', 0.0014660472901388243),\n",
       " ('textual', 0.0014437621531349727)]"
      ]
     },
     "execution_count": 54,
     "metadata": {},
     "output_type": "execute_result"
    }
   ],
   "source": [
    "print('INDIGENOUS PEOPLE')\n",
    "top_n_words[9]"
   ]
  },
  {
   "cell_type": "code",
   "execution_count": 61,
   "id": "4b85b60b-a7b0-40e6-940d-254c15d28e64",
   "metadata": {
    "execution": {
     "iopub.execute_input": "2022-05-22T13:55:28.877103Z",
     "iopub.status.busy": "2022-05-22T13:55:28.876528Z",
     "iopub.status.idle": "2022-05-22T13:55:28.890855Z",
     "shell.execute_reply": "2022-05-22T13:55:28.889548Z",
     "shell.execute_reply.started": "2022-05-22T13:55:28.877040Z"
    },
    "tags": []
   },
   "outputs": [
    {
     "name": "stdout",
     "output_type": "stream",
     "text": [
      "PANDEMIC\n"
     ]
    },
    {
     "data": {
      "text/plain": [
       "[('face', 0.005464372511452131),\n",
       " ('masks', 0.004015036369485833),\n",
       " ('shall', 0.003997029364393874),\n",
       " ('face masks', 0.0035827021855431847),\n",
       " ('distribution', 0.0034587073938559614),\n",
       " ('mask', 0.003208128207222444),\n",
       " ('alcohol', 0.002924848733447129),\n",
       " ('shields', 0.0025957305690980574),\n",
       " ('face shields', 0.0025957305690980574),\n",
       " ('face mask', 0.0024957482161927593),\n",
       " ('project', 0.0024330362272786195),\n",
       " ('office', 0.002272412652340472),\n",
       " ('fabrication', 0.002146296693800601),\n",
       " ('hospitals', 0.002146296693800601),\n",
       " ('sewing', 0.0020735825229751706),\n",
       " ('layer', 0.0020708065204782205),\n",
       " ('sanitizer', 0.001961735385789137),\n",
       " ('baguio', 0.0019523286470380975),\n",
       " ('products', 0.0018586936586534794),\n",
       " ('production', 0.0018577484025152718)]"
      ]
     },
     "execution_count": 61,
     "metadata": {},
     "output_type": "execute_result"
    }
   ],
   "source": [
    "print('PANDEMIC')\n",
    "top_n_words[0]"
   ]
  },
  {
   "cell_type": "code",
   "execution_count": 63,
   "id": "8cea9495-ea0f-4d07-98ac-39352b8988d2",
   "metadata": {
    "execution": {
     "iopub.execute_input": "2022-05-22T13:55:59.567209Z",
     "iopub.status.busy": "2022-05-22T13:55:59.566646Z",
     "iopub.status.idle": "2022-05-22T13:55:59.580381Z",
     "shell.execute_reply": "2022-05-22T13:55:59.579247Z",
     "shell.execute_reply.started": "2022-05-22T13:55:59.567144Z"
    },
    "tags": []
   },
   "outputs": [
    {
     "name": "stdout",
     "output_type": "stream",
     "text": [
      "UTILITIES / TRANSPORTATION\n"
     ]
    },
    {
     "data": {
      "text/plain": [
       "[('energy', 0.004743004549907382),\n",
       " ('transport', 0.0039069467296666),\n",
       " ('electric', 0.0034482165457389645),\n",
       " ('power', 0.0025343241107352033),\n",
       " ('room', 0.0024979470044486658),\n",
       " ('electricity', 0.0024531224306214676),\n",
       " ('software', 0.002430676654931244),\n",
       " ('optimal', 0.0022577092740469875),\n",
       " ('arduino', 0.0021964153318885394),\n",
       " ('transportation', 0.002193805311532726),\n",
       " ('public', 0.0021816645591674257),\n",
       " ('home', 0.0020571267290749114),\n",
       " ('appliances', 0.0020423158198090183),\n",
       " ('rfid', 0.0020423158198090183),\n",
       " ('generator', 0.0020423158198090183),\n",
       " ('device', 0.0019373783053464012),\n",
       " ('desirability', 0.001916860713192325),\n",
       " ('phone', 0.0018808453885848899),\n",
       " ('transport desirability', 0.001719213360218356),\n",
       " ('tool', 0.0016378157579887036)]"
      ]
     },
     "execution_count": 63,
     "metadata": {},
     "output_type": "execute_result"
    }
   ],
   "source": [
    "print('UTILITIES / TRANSPORTATION')\n",
    "top_n_words[7]"
   ]
  },
  {
   "cell_type": "code",
   "execution_count": 66,
   "id": "e2d7754b-a839-4735-9205-0b4c4f8c3f06",
   "metadata": {
    "execution": {
     "iopub.execute_input": "2022-05-22T13:58:16.608805Z",
     "iopub.status.busy": "2022-05-22T13:58:16.608253Z",
     "iopub.status.idle": "2022-05-22T13:58:16.622497Z",
     "shell.execute_reply": "2022-05-22T13:58:16.621053Z",
     "shell.execute_reply.started": "2022-05-22T13:58:16.608744Z"
    },
    "tags": []
   },
   "outputs": [
    {
     "name": "stdout",
     "output_type": "stream",
     "text": [
      "LIVESTOCK AGRICULTURE\n"
     ]
    },
    {
     "data": {
      "text/plain": [
       "[('feed', 0.00588906940888235),\n",
       " ('weight', 0.005072618159691232),\n",
       " ('egg', 0.0049409725882346225),\n",
       " ('feeding', 0.003933717480375666),\n",
       " ('pigs', 0.0037081557902282685),\n",
       " ('quails', 0.0037081557902282685),\n",
       " ('wslmd', 0.003535421589407751),\n",
       " ('abw', 0.0033586195794668263),\n",
       " ('portulaca', 0.0033586195794668263),\n",
       " ('tilapia', 0.0033586195794668263),\n",
       " ('goats', 0.0031187181809334817),\n",
       " ('cfd', 0.0030640320441533845),\n",
       " ('music', 0.002997844614007972),\n",
       " ('azolla', 0.002991603085547939),\n",
       " ('fed', 0.002991603085547939),\n",
       " ('commercial', 0.002758866638988628),\n",
       " ('blood', 0.0026886189198518508),\n",
       " ('meat', 0.0026553804190921565),\n",
       " ('diet', 0.002638915383866792),\n",
       " ('brood', 0.0026041674739141515)]"
      ]
     },
     "execution_count": 66,
     "metadata": {},
     "output_type": "execute_result"
    }
   ],
   "source": [
    "print('LIVESTOCK AGRICULTURE')\n",
    "top_n_words[4]"
   ]
  },
  {
   "cell_type": "code",
   "execution_count": 114,
   "id": "8cbe4413-b612-453a-8e93-7ca8eec85a29",
   "metadata": {
    "execution": {
     "iopub.execute_input": "2022-05-22T14:36:14.823829Z",
     "iopub.status.busy": "2022-05-22T14:36:14.823237Z",
     "iopub.status.idle": "2022-05-22T14:36:14.837658Z",
     "shell.execute_reply": "2022-05-22T14:36:14.836226Z",
     "shell.execute_reply.started": "2022-05-22T14:36:14.823767Z"
    },
    "tags": []
   },
   "outputs": [
    {
     "name": "stdout",
     "output_type": "stream",
     "text": [
      "FISHERIES\n"
     ]
    },
    {
     "data": {
      "text/plain": [
       "[('reef', 0.005075674643666218),\n",
       " ('marine', 0.0047928016995129625),\n",
       " ('fish', 0.004670484393408557),\n",
       " ('fishes', 0.004418080845826115),\n",
       " ('species', 0.004362681322239745),\n",
       " ('giant', 0.004022054144314482),\n",
       " ('samal', 0.0037684051139193165),\n",
       " ('coral', 0.003705489807682652),\n",
       " ('seagrass', 0.0035799518894414385),\n",
       " ('habitats', 0.00335129120211235),\n",
       " ('island', 0.0033176181111451873),\n",
       " ('fishing', 0.003066233537487793),\n",
       " ('samal island', 0.0029852234896851253),\n",
       " ('reef fishes', 0.0029852234896851253),\n",
       " ('fisheries', 0.0027676944553532193),\n",
       " ('clams', 0.002605271209137005),\n",
       " ('panay', 0.0025598297463196103),\n",
       " ('clam', 0.0025598297463196103),\n",
       " ('giant clams', 0.002391561815464601),\n",
       " ('sites', 0.0023765409571803345)]"
      ]
     },
     "execution_count": 114,
     "metadata": {},
     "output_type": "execute_result"
    }
   ],
   "source": [
    "print('FISHERIES')\n",
    "top_n_words[3]"
   ]
  },
  {
   "cell_type": "code",
   "execution_count": 69,
   "id": "7bcad93d-6f64-4cc2-8c0e-9c5fdfb43f84",
   "metadata": {
    "execution": {
     "iopub.execute_input": "2022-05-22T13:58:46.295444Z",
     "iopub.status.busy": "2022-05-22T13:58:46.294862Z",
     "iopub.status.idle": "2022-05-22T13:58:46.308757Z",
     "shell.execute_reply": "2022-05-22T13:58:46.307434Z",
     "shell.execute_reply.started": "2022-05-22T13:58:46.295345Z"
    },
    "tags": []
   },
   "outputs": [
    {
     "name": "stdout",
     "output_type": "stream",
     "text": [
      "BIODIVERSITY and CONSERVATIONISM\n"
     ]
    },
    {
     "data": {
      "text/plain": [
       "[('species', 0.008520399683356676),\n",
       " ('diversity', 0.00582295301677518),\n",
       " ('biodiversity', 0.005620007118046507),\n",
       " ('island', 0.004285298502081108),\n",
       " ('threatened', 0.00420649228786368),\n",
       " ('conservation', 0.0037463517750657978),\n",
       " ('flora', 0.0035269109214259506),\n",
       " ('forest', 0.0034573685104337722),\n",
       " ('endemic', 0.003365193830290944),\n",
       " ('tree species', 0.0031691014784895406),\n",
       " ('new species', 0.0028902512527848845),\n",
       " ('protected', 0.002826746818423871),\n",
       " ('medicinal value', 0.00279708069985212),\n",
       " ('species diversity', 0.00279708069985212),\n",
       " ('tree', 0.0027898210385259884),\n",
       " ('medicinal', 0.0025815020090459956),\n",
       " ('cordillera', 0.0025302250125721765),\n",
       " ('habitat', 0.002523895372718208),\n",
       " ('families', 0.002522981288792846),\n",
       " ('luzon island', 0.0025003738564151026)]"
      ]
     },
     "execution_count": 69,
     "metadata": {},
     "output_type": "execute_result"
    }
   ],
   "source": [
    "print('BIODIVERSITY / CONSERVATIONISM')\n",
    "top_n_words[2]"
   ]
  }
 ],
 "metadata": {
  "kernelspec": {
   "display_name": "Python 3 (ipykernel)",
   "language": "python",
   "name": "python3"
  },
  "language_info": {
   "codemirror_mode": {
    "name": "ipython",
    "version": 3
   },
   "file_extension": ".py",
   "mimetype": "text/x-python",
   "name": "python",
   "nbconvert_exporter": "python",
   "pygments_lexer": "ipython3",
   "version": "3.9.7"
  },
  "toc": {
   "base_numbering": 1,
   "nav_menu": {},
   "number_sections": true,
   "sideBar": true,
   "skip_h1_title": false,
   "title_cell": "Table of Contents",
   "title_sidebar": "Contents",
   "toc_cell": false,
   "toc_position": {},
   "toc_section_display": true,
   "toc_window_display": false
  }
 },
 "nbformat": 4,
 "nbformat_minor": 5
}
