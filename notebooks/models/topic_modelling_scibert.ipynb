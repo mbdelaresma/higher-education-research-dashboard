{
 "cells": [
  {
   "cell_type": "code",
   "execution_count": 1,
   "id": "9ebf948a-5c6e-4492-8c09-2ded28bd4346",
   "metadata": {
    "execution": {
     "iopub.execute_input": "2022-05-22T10:27:48.965288Z",
     "iopub.status.busy": "2022-05-22T10:27:48.964679Z",
     "iopub.status.idle": "2022-05-22T10:28:05.028525Z",
     "shell.execute_reply": "2022-05-22T10:28:05.026507Z",
     "shell.execute_reply.started": "2022-05-22T10:27:48.965092Z"
    },
    "tags": []
   },
   "outputs": [
    {
     "name": "stderr",
     "output_type": "stream",
     "text": [
      "Matplotlib created a temporary config/cache directory at /tmp/matplotlib-vuboakbp because the default path (/home/casoriano/.cache/matplotlib) is not a writable directory; it is highly recommended to set the MPLCONFIGDIR environment variable to a writable directory, in particular to speed up the import of Matplotlib and to better support multiprocessing.\n"
     ]
    }
   ],
   "source": [
    "import os\n",
    "import re\n",
    "import time\n",
    "import string\n",
    "\n",
    "import pandas as pd\n",
    "import numpy as np\n",
    "import matplotlib.pyplot as plt\n",
    "\n",
    "import torch\n",
    "from sentence_transformers import SentenceTransformer, util\n",
    "import umap.umap_ as umap\n",
    "import hdbscan\n",
    "\n",
    "os.environ['XDG_CACHE_HOME'] = 'home/msds2022/casoriano/ .cache'"
   ]
  },
  {
   "cell_type": "markdown",
   "id": "2a25fbed-0c23-46db-92d2-eb560f822487",
   "metadata": {},
   "source": [
    "### Abstract Preprocessing"
   ]
  },
  {
   "cell_type": "code",
   "execution_count": 2,
   "id": "8ccc8408-707b-45e1-832b-460e58266903",
   "metadata": {
    "execution": {
     "iopub.execute_input": "2022-05-22T10:28:05.033274Z",
     "iopub.status.busy": "2022-05-22T10:28:05.032799Z",
     "iopub.status.idle": "2022-05-22T10:28:05.620007Z",
     "shell.execute_reply": "2022-05-22T10:28:05.619042Z",
     "shell.execute_reply.started": "2022-05-22T10:28:05.033216Z"
    },
    "tags": []
   },
   "outputs": [
    {
     "data": {
      "text/plain": [
       "0    the ched phernet-admu program has been conduct...\n",
       "1    the warm tropical climate of the philippines a...\n",
       "2    the study was conducted to determine the green...\n",
       "3    this study aimed to establish a solid waste ma...\n",
       "4    farming systems refers to the utilization of t...\n",
       "Name: Abstract, dtype: object"
      ]
     },
     "execution_count": 2,
     "metadata": {},
     "output_type": "execute_result"
    }
   ],
   "source": [
    "df = pd.read_excel('research_profile_v1.xlsx').drop([112, 167, 638, 648, 663, 787, 1138, 1204])\n",
    "docs = df['Abstract'].copy().dropna().reset_index(drop=True)\n",
    "\n",
    "length = docs.str.split(' ').apply(lambda x: np.log(len(x)))\n",
    "docs = docs[abs((length - length.mean())/length.std()) < 3].reset_index(drop=True)\n",
    "docs = docs.apply(lambda x: re.sub(r'[^a-zA-Z0-9- ]', '', x)).str.lower()\n",
    "\n",
    "docs.head()"
   ]
  },
  {
   "cell_type": "code",
   "execution_count": 4,
   "id": "5b88c2cd-1d30-4f25-a559-0901b7d7bae4",
   "metadata": {
    "execution": {
     "iopub.execute_input": "2022-05-22T10:28:05.773009Z",
     "iopub.status.busy": "2022-05-22T10:28:05.772623Z",
     "iopub.status.idle": "2022-05-22T10:28:05.917756Z",
     "shell.execute_reply": "2022-05-22T10:28:05.916325Z",
     "shell.execute_reply.started": "2022-05-22T10:28:05.772961Z"
    },
    "tags": []
   },
   "outputs": [
    {
     "data": {
      "image/png": "[encoded data removed]",
      "text/plain": [
       "<Figure size 432x288 with 1 Axes>"
      ]
     },
     "metadata": {
      "needs_background": "light"
     },
     "output_type": "display_data"
    }
   ],
   "source": [
    "docs.str.split(' ').apply(lambda x: len(x)).hist();"
   ]
  },
  {
   "cell_type": "markdown",
   "id": "87f74f78-bd4a-4512-8447-1966dc59e122",
   "metadata": {},
   "source": [
    "### Document Embeddings"
   ]
  },
  {
   "cell_type": "code",
   "execution_count": 5,
   "id": "962398cf-bfdc-48e4-997b-f3af9851639c",
   "metadata": {
    "execution": {
     "iopub.execute_input": "2022-05-22T10:28:05.919548Z",
     "iopub.status.busy": "2022-05-22T10:28:05.919210Z",
     "iopub.status.idle": "2022-05-22T10:28:14.284940Z",
     "shell.execute_reply": "2022-05-22T10:28:14.284093Z",
     "shell.execute_reply.started": "2022-05-22T10:28:05.919528Z"
    },
    "tags": []
   },
   "outputs": [
    {
     "name": "stderr",
     "output_type": "stream",
     "text": [
      "WARNING:root:No sentence-transformers model found with name home/msds2022/casoriano/ .cache/torch/sentence_transformers/allenai_scibert_scivocab_uncased. Creating a new one with MEAN pooling.\n",
      "Some weights of the model checkpoint at home/msds2022/casoriano/ .cache/torch/sentence_transformers/allenai_scibert_scivocab_uncased were not used when initializing BertModel: ['cls.predictions.bias', 'cls.predictions.transform.LayerNorm.bias', 'cls.seq_relationship.weight', 'cls.predictions.transform.dense.bias', 'cls.predictions.transform.dense.weight', 'cls.predictions.transform.LayerNorm.weight', 'cls.predictions.decoder.weight', 'cls.predictions.decoder.bias', 'cls.seq_relationship.bias']\n",
      "- This IS expected if you are initializing BertModel from the checkpoint of a model trained on another task or with another architecture (e.g. initializing a BertForSequenceClassification model from a BertForPreTraining model).\n",
      "- This IS NOT expected if you are initializing BertModel from the checkpoint of a model that you expect to be exactly identical (initializing a BertForSequenceClassification model from a BertForSequenceClassification model).\n"
     ]
    }
   ],
   "source": [
    "model = SentenceTransformer('allenai/scibert_scivocab_uncased')\n",
    "model.max_seq_length = 512"
   ]
  },
  {
   "cell_type": "code",
   "execution_count": 6,
   "id": "a613a9c2-9e8e-4e20-9023-b739bf4eebea",
   "metadata": {
    "execution": {
     "iopub.execute_input": "2022-05-22T10:28:14.286861Z",
     "iopub.status.busy": "2022-05-22T10:28:14.286508Z",
     "iopub.status.idle": "2022-05-22T10:28:23.833371Z",
     "shell.execute_reply": "2022-05-22T10:28:23.832627Z",
     "shell.execute_reply.started": "2022-05-22T10:28:14.286839Z"
    },
    "tags": []
   },
   "outputs": [
    {
     "name": "stdout",
     "output_type": "stream",
     "text": [
      "Time for computing embeddings: 9.498752117156982\n"
     ]
    },
    {
     "data": {
      "text/html": [
       "<div>\n",
       "<style scoped>\n",
       "    .dataframe tbody tr th:only-of-type {\n",
       "        vertical-align: middle;\n",
       "    }\n",
       "\n",
       "    .dataframe tbody tr th {\n",
       "        vertical-align: top;\n",
       "    }\n",
       "\n",
       "    .dataframe thead th {\n",
       "        text-align: right;\n",
       "    }\n",
       "</style>\n",
       "<table border=\"1\" class=\"dataframe\">\n",
       "  <thead>\n",
       "    <tr style=\"text-align: right;\">\n",
       "      <th></th>\n",
       "      <th>0</th>\n",
       "      <th>1</th>\n",
       "      <th>2</th>\n",
       "      <th>3</th>\n",
       "      <th>4</th>\n",
       "      <th>5</th>\n",
       "      <th>6</th>\n",
       "      <th>7</th>\n",
       "      <th>8</th>\n",
       "      <th>9</th>\n",
       "      <th>...</th>\n",
       "      <th>758</th>\n",
       "      <th>759</th>\n",
       "      <th>760</th>\n",
       "      <th>761</th>\n",
       "      <th>762</th>\n",
       "      <th>763</th>\n",
       "      <th>764</th>\n",
       "      <th>765</th>\n",
       "      <th>766</th>\n",
       "      <th>767</th>\n",
       "    </tr>\n",
       "  </thead>\n",
       "  <tbody>\n",
       "    <tr>\n",
       "      <th>0</th>\n",
       "      <td>0.181351</td>\n",
       "      <td>-0.082515</td>\n",
       "      <td>0.048685</td>\n",
       "      <td>0.642390</td>\n",
       "      <td>0.074122</td>\n",
       "      <td>0.023601</td>\n",
       "      <td>0.080963</td>\n",
       "      <td>0.289377</td>\n",
       "      <td>-0.311528</td>\n",
       "      <td>0.069098</td>\n",
       "      <td>...</td>\n",
       "      <td>0.036283</td>\n",
       "      <td>-0.383556</td>\n",
       "      <td>0.358726</td>\n",
       "      <td>-0.258438</td>\n",
       "      <td>-0.076697</td>\n",
       "      <td>0.047899</td>\n",
       "      <td>-0.460318</td>\n",
       "      <td>-0.150287</td>\n",
       "      <td>-0.070753</td>\n",
       "      <td>-0.901719</td>\n",
       "    </tr>\n",
       "    <tr>\n",
       "      <th>1</th>\n",
       "      <td>0.172642</td>\n",
       "      <td>-0.474830</td>\n",
       "      <td>0.071287</td>\n",
       "      <td>0.748413</td>\n",
       "      <td>0.417740</td>\n",
       "      <td>-0.559243</td>\n",
       "      <td>0.224872</td>\n",
       "      <td>0.310863</td>\n",
       "      <td>-0.050578</td>\n",
       "      <td>0.508311</td>\n",
       "      <td>...</td>\n",
       "      <td>-0.025646</td>\n",
       "      <td>-0.050801</td>\n",
       "      <td>0.484620</td>\n",
       "      <td>-0.327638</td>\n",
       "      <td>-0.274964</td>\n",
       "      <td>0.523232</td>\n",
       "      <td>-0.484853</td>\n",
       "      <td>-0.295440</td>\n",
       "      <td>0.007945</td>\n",
       "      <td>-0.373034</td>\n",
       "    </tr>\n",
       "    <tr>\n",
       "      <th>2</th>\n",
       "      <td>-0.167316</td>\n",
       "      <td>-0.138807</td>\n",
       "      <td>-0.018633</td>\n",
       "      <td>0.301282</td>\n",
       "      <td>0.390821</td>\n",
       "      <td>-0.356393</td>\n",
       "      <td>-0.247679</td>\n",
       "      <td>0.274972</td>\n",
       "      <td>-0.210722</td>\n",
       "      <td>0.382693</td>\n",
       "      <td>...</td>\n",
       "      <td>-0.445453</td>\n",
       "      <td>0.354673</td>\n",
       "      <td>0.910121</td>\n",
       "      <td>-0.178316</td>\n",
       "      <td>0.076794</td>\n",
       "      <td>0.510888</td>\n",
       "      <td>-0.554893</td>\n",
       "      <td>-0.061503</td>\n",
       "      <td>0.147558</td>\n",
       "      <td>-0.671171</td>\n",
       "    </tr>\n",
       "    <tr>\n",
       "      <th>3</th>\n",
       "      <td>-0.113860</td>\n",
       "      <td>-0.041213</td>\n",
       "      <td>0.079641</td>\n",
       "      <td>0.343612</td>\n",
       "      <td>0.484763</td>\n",
       "      <td>-0.247096</td>\n",
       "      <td>-0.036519</td>\n",
       "      <td>0.357647</td>\n",
       "      <td>-0.260173</td>\n",
       "      <td>0.302504</td>\n",
       "      <td>...</td>\n",
       "      <td>-0.307838</td>\n",
       "      <td>0.312670</td>\n",
       "      <td>0.656381</td>\n",
       "      <td>-0.422247</td>\n",
       "      <td>0.126761</td>\n",
       "      <td>0.434780</td>\n",
       "      <td>-0.322191</td>\n",
       "      <td>-0.028502</td>\n",
       "      <td>-0.072984</td>\n",
       "      <td>-0.967157</td>\n",
       "    </tr>\n",
       "    <tr>\n",
       "      <th>4</th>\n",
       "      <td>-0.144146</td>\n",
       "      <td>-0.168748</td>\n",
       "      <td>-0.192976</td>\n",
       "      <td>0.652894</td>\n",
       "      <td>0.840897</td>\n",
       "      <td>-0.339490</td>\n",
       "      <td>-0.333297</td>\n",
       "      <td>0.313039</td>\n",
       "      <td>-0.272664</td>\n",
       "      <td>0.328918</td>\n",
       "      <td>...</td>\n",
       "      <td>-0.015351</td>\n",
       "      <td>0.280139</td>\n",
       "      <td>0.665878</td>\n",
       "      <td>-0.629267</td>\n",
       "      <td>-0.287759</td>\n",
       "      <td>0.369765</td>\n",
       "      <td>-0.489733</td>\n",
       "      <td>-0.240963</td>\n",
       "      <td>0.062522</td>\n",
       "      <td>-0.685168</td>\n",
       "    </tr>\n",
       "    <tr>\n",
       "      <th>...</th>\n",
       "      <td>...</td>\n",
       "      <td>...</td>\n",
       "      <td>...</td>\n",
       "      <td>...</td>\n",
       "      <td>...</td>\n",
       "      <td>...</td>\n",
       "      <td>...</td>\n",
       "      <td>...</td>\n",
       "      <td>...</td>\n",
       "      <td>...</td>\n",
       "      <td>...</td>\n",
       "      <td>...</td>\n",
       "      <td>...</td>\n",
       "      <td>...</td>\n",
       "      <td>...</td>\n",
       "      <td>...</td>\n",
       "      <td>...</td>\n",
       "      <td>...</td>\n",
       "      <td>...</td>\n",
       "      <td>...</td>\n",
       "      <td>...</td>\n",
       "    </tr>\n",
       "    <tr>\n",
       "      <th>711</th>\n",
       "      <td>0.109650</td>\n",
       "      <td>-0.243478</td>\n",
       "      <td>0.018300</td>\n",
       "      <td>0.660380</td>\n",
       "      <td>0.490989</td>\n",
       "      <td>-0.420348</td>\n",
       "      <td>-0.182406</td>\n",
       "      <td>0.333824</td>\n",
       "      <td>-0.219407</td>\n",
       "      <td>0.351254</td>\n",
       "      <td>...</td>\n",
       "      <td>-0.097456</td>\n",
       "      <td>-0.156980</td>\n",
       "      <td>0.254438</td>\n",
       "      <td>-0.562201</td>\n",
       "      <td>-0.562341</td>\n",
       "      <td>0.243686</td>\n",
       "      <td>-0.745007</td>\n",
       "      <td>-0.197280</td>\n",
       "      <td>0.473074</td>\n",
       "      <td>-0.589212</td>\n",
       "    </tr>\n",
       "    <tr>\n",
       "      <th>712</th>\n",
       "      <td>0.218530</td>\n",
       "      <td>-0.295555</td>\n",
       "      <td>-0.216086</td>\n",
       "      <td>0.451090</td>\n",
       "      <td>0.243877</td>\n",
       "      <td>-0.230475</td>\n",
       "      <td>-0.146155</td>\n",
       "      <td>0.723723</td>\n",
       "      <td>-0.324037</td>\n",
       "      <td>0.124667</td>\n",
       "      <td>...</td>\n",
       "      <td>0.029086</td>\n",
       "      <td>-0.202334</td>\n",
       "      <td>0.657260</td>\n",
       "      <td>-0.365573</td>\n",
       "      <td>-0.400090</td>\n",
       "      <td>0.445309</td>\n",
       "      <td>-0.405671</td>\n",
       "      <td>-0.147562</td>\n",
       "      <td>0.184796</td>\n",
       "      <td>-0.533516</td>\n",
       "    </tr>\n",
       "    <tr>\n",
       "      <th>713</th>\n",
       "      <td>-0.132586</td>\n",
       "      <td>-0.217568</td>\n",
       "      <td>-0.216702</td>\n",
       "      <td>0.598328</td>\n",
       "      <td>0.380021</td>\n",
       "      <td>-0.317951</td>\n",
       "      <td>-0.167109</td>\n",
       "      <td>0.431046</td>\n",
       "      <td>-0.210011</td>\n",
       "      <td>0.200793</td>\n",
       "      <td>...</td>\n",
       "      <td>0.078332</td>\n",
       "      <td>-0.270864</td>\n",
       "      <td>0.523251</td>\n",
       "      <td>-0.351327</td>\n",
       "      <td>-0.552934</td>\n",
       "      <td>0.348681</td>\n",
       "      <td>-0.501709</td>\n",
       "      <td>-0.044519</td>\n",
       "      <td>0.314308</td>\n",
       "      <td>-0.513044</td>\n",
       "    </tr>\n",
       "    <tr>\n",
       "      <th>714</th>\n",
       "      <td>-0.117475</td>\n",
       "      <td>0.397458</td>\n",
       "      <td>-0.244951</td>\n",
       "      <td>0.496243</td>\n",
       "      <td>0.299950</td>\n",
       "      <td>-0.382393</td>\n",
       "      <td>0.070458</td>\n",
       "      <td>0.429284</td>\n",
       "      <td>-0.171597</td>\n",
       "      <td>0.035465</td>\n",
       "      <td>...</td>\n",
       "      <td>-0.031396</td>\n",
       "      <td>-0.653766</td>\n",
       "      <td>0.022912</td>\n",
       "      <td>-0.411320</td>\n",
       "      <td>-0.041796</td>\n",
       "      <td>0.286902</td>\n",
       "      <td>-0.457902</td>\n",
       "      <td>-0.168661</td>\n",
       "      <td>0.227504</td>\n",
       "      <td>-0.830705</td>\n",
       "    </tr>\n",
       "    <tr>\n",
       "      <th>715</th>\n",
       "      <td>0.093074</td>\n",
       "      <td>-0.074846</td>\n",
       "      <td>0.061127</td>\n",
       "      <td>0.713001</td>\n",
       "      <td>0.133621</td>\n",
       "      <td>-0.380525</td>\n",
       "      <td>0.343353</td>\n",
       "      <td>0.217134</td>\n",
       "      <td>-0.372111</td>\n",
       "      <td>0.098302</td>\n",
       "      <td>...</td>\n",
       "      <td>-0.039036</td>\n",
       "      <td>-0.320138</td>\n",
       "      <td>0.247614</td>\n",
       "      <td>-0.437724</td>\n",
       "      <td>-0.460437</td>\n",
       "      <td>0.242856</td>\n",
       "      <td>-0.389198</td>\n",
       "      <td>-0.216756</td>\n",
       "      <td>0.121055</td>\n",
       "      <td>-0.915041</td>\n",
       "    </tr>\n",
       "  </tbody>\n",
       "</table>\n",
       "<p>716 rows × 768 columns</p>\n",
       "</div>"
      ],
      "text/plain": [
       "          0         1         2         3         4         5         6    \\\n",
       "0    0.181351 -0.082515  0.048685  0.642390  0.074122  0.023601  0.080963   \n",
       "1    0.172642 -0.474830  0.071287  0.748413  0.417740 -0.559243  0.224872   \n",
       "2   -0.167316 -0.138807 -0.018633  0.301282  0.390821 -0.356393 -0.247679   \n",
       "3   -0.113860 -0.041213  0.079641  0.343612  0.484763 -0.247096 -0.036519   \n",
       "4   -0.144146 -0.168748 -0.192976  0.652894  0.840897 -0.339490 -0.333297   \n",
       "..        ...       ...       ...       ...       ...       ...       ...   \n",
       "711  0.109650 -0.243478  0.018300  0.660380  0.490989 -0.420348 -0.182406   \n",
       "712  0.218530 -0.295555 -0.216086  0.451090  0.243877 -0.230475 -0.146155   \n",
       "713 -0.132586 -0.217568 -0.216702  0.598328  0.380021 -0.317951 -0.167109   \n",
       "714 -0.117475  0.397458 -0.244951  0.496243  0.299950 -0.382393  0.070458   \n",
       "715  0.093074 -0.074846  0.061127  0.713001  0.133621 -0.380525  0.343353   \n",
       "\n",
       "          7         8         9    ...       758       759       760  \\\n",
       "0    0.289377 -0.311528  0.069098  ...  0.036283 -0.383556  0.358726   \n",
       "1    0.310863 -0.050578  0.508311  ... -0.025646 -0.050801  0.484620   \n",
       "2    0.274972 -0.210722  0.382693  ... -0.445453  0.354673  0.910121   \n",
       "3    0.357647 -0.260173  0.302504  ... -0.307838  0.312670  0.656381   \n",
       "4    0.313039 -0.272664  0.328918  ... -0.015351  0.280139  0.665878   \n",
       "..        ...       ...       ...  ...       ...       ...       ...   \n",
       "711  0.333824 -0.219407  0.351254  ... -0.097456 -0.156980  0.254438   \n",
       "712  0.723723 -0.324037  0.124667  ...  0.029086 -0.202334  0.657260   \n",
       "713  0.431046 -0.210011  0.200793  ...  0.078332 -0.270864  0.523251   \n",
       "714  0.429284 -0.171597  0.035465  ... -0.031396 -0.653766  0.022912   \n",
       "715  0.217134 -0.372111  0.098302  ... -0.039036 -0.320138  0.247614   \n",
       "\n",
       "          761       762       763       764       765       766       767  \n",
       "0   -0.258438 -0.076697  0.047899 -0.460318 -0.150287 -0.070753 -0.901719  \n",
       "1   -0.327638 -0.274964  0.523232 -0.484853 -0.295440  0.007945 -0.373034  \n",
       "2   -0.178316  0.076794  0.510888 -0.554893 -0.061503  0.147558 -0.671171  \n",
       "3   -0.422247  0.126761  0.434780 -0.322191 -0.028502 -0.072984 -0.967157  \n",
       "4   -0.629267 -0.287759  0.369765 -0.489733 -0.240963  0.062522 -0.685168  \n",
       "..        ...       ...       ...       ...       ...       ...       ...  \n",
       "711 -0.562201 -0.562341  0.243686 -0.745007 -0.197280  0.473074 -0.589212  \n",
       "712 -0.365573 -0.400090  0.445309 -0.405671 -0.147562  0.184796 -0.533516  \n",
       "713 -0.351327 -0.552934  0.348681 -0.501709 -0.044519  0.314308 -0.513044  \n",
       "714 -0.411320 -0.041796  0.286902 -0.457902 -0.168661  0.227504 -0.830705  \n",
       "715 -0.437724 -0.460437  0.242856 -0.389198 -0.216756  0.121055 -0.915041  \n",
       "\n",
       "[716 rows x 768 columns]"
      ]
     },
     "execution_count": 6,
     "metadata": {},
     "output_type": "execute_result"
    }
   ],
   "source": [
    "start = time.time()\n",
    "embeddings = model.encode(docs.tolist(), convert_to_tensor=True)\n",
    "print(\"Time for computing embeddings:\", time.time()-start)\n",
    "embeddings = pd.DataFrame(embeddings.cpu().numpy())\n",
    "embeddings"
   ]
  },
  {
   "cell_type": "markdown",
   "id": "a9c6e3c8-9b67-41e8-b932-c262146934e4",
   "metadata": {},
   "source": [
    "### Clustering"
   ]
  },
  {
   "cell_type": "markdown",
   "id": "16f2ee0b-8eba-4288-99c9-43f6b77d0053",
   "metadata": {},
   "source": [
    "#### kmeans"
   ]
  },
  {
   "cell_type": "code",
   "execution_count": 8,
   "id": "6aa9a532-4f3e-49b2-b11c-095091d1e39f",
   "metadata": {
    "execution": {
     "iopub.execute_input": "2022-05-22T10:28:46.338640Z",
     "iopub.status.busy": "2022-05-22T10:28:46.338092Z",
     "iopub.status.idle": "2022-05-22T10:30:15.560291Z",
     "shell.execute_reply": "2022-05-22T10:30:15.557942Z",
     "shell.execute_reply.started": "2022-05-22T10:28:46.338575Z"
    },
    "tags": []
   },
   "outputs": [],
   "source": [
    "from sklearn.cluster import KMeans\n",
    "from sklearn.metrics import calinski_harabasz_score, silhouette_score, davies_bouldin_score\n",
    "\n",
    "inertias = []\n",
    "ci_scores = []\n",
    "silh_scores = []\n",
    "db_scores = []\n",
    "for k in range(2, 21):\n",
    "    clusterer = KMeans(n_clusters=k, random_state=42).fit(embeddings)\n",
    "    labels = clusterer.labels_\n",
    "    inertias.append(clusterer.inertia_)\n",
    "    ci_scores.append(calinski_harabasz_score(embeddings, labels))\n",
    "    silh_scores.append(silhouette_score(embeddings, labels, metric='cosine'))\n",
    "    db_scores.append(davies_bouldin_score(embeddings, labels))"
   ]
  },
  {
   "cell_type": "code",
   "execution_count": 15,
   "id": "6d48cc8c-83d0-4fd1-89c9-ac82810974a7",
   "metadata": {
    "execution": {
     "iopub.execute_input": "2022-05-22T10:32:48.469020Z",
     "iopub.status.busy": "2022-05-22T10:32:48.468393Z",
     "iopub.status.idle": "2022-05-22T10:32:48.982640Z",
     "shell.execute_reply": "2022-05-22T10:32:48.982034Z",
     "shell.execute_reply.started": "2022-05-22T10:32:48.468966Z"
    },
    "tags": []
   },
   "outputs": [
    {
     "data": {
      "image/png": "[encoded data removed]",
      "text/plain": [
       "<Figure size 432x288 with 1 Axes>"
      ]
     },
     "metadata": {
      "needs_background": "light"
     },
     "output_type": "display_data"
    },
    {
     "data": {
      "image/png": "[encoded data removed]",
      "text/plain": [
       "<Figure size 432x288 with 1 Axes>"
      ]
     },
     "metadata": {
      "needs_background": "light"
     },
     "output_type": "display_data"
    },
    {
     "data": {
      "image/png": "[encoded data removed]",
      "text/plain": [
       "<Figure size 432x288 with 1 Axes>"
      ]
     },
     "metadata": {
      "needs_background": "light"
     },
     "output_type": "display_data"
    },
    {
     "data": {
      "image/png": "[encoded data removed]",
      "text/plain": [
       "<Figure size 432x288 with 1 Axes>"
      ]
     },
     "metadata": {
      "needs_background": "light"
     },
     "output_type": "display_data"
    }
   ],
   "source": [
    "plt.plot(range(2, 21), inertias, label='SSE')\n",
    "plt.legend()\n",
    "plt.show()\n",
    "plt.plot(range(2, 21), ci_scores, label='CI')\n",
    "plt.legend()\n",
    "plt.show()\n",
    "plt.plot(range(2, 21), silh_scores, label='Silhouette')\n",
    "plt.legend()\n",
    "plt.show()\n",
    "plt.plot(range(2, 21), db_scores, label='DB')\n",
    "plt.legend()\n",
    "plt.show()"
   ]
  },
  {
   "cell_type": "markdown",
   "id": "5cd2fb7f-9d83-4d66-864e-3f65bdc232be",
   "metadata": {},
   "source": [
    "#### DBSCAN"
   ]
  },
  {
   "cell_type": "code",
   "execution_count": 17,
   "id": "f0d4340d-9ee7-4c56-8609-d8553ec83662",
   "metadata": {
    "execution": {
     "iopub.execute_input": "2022-05-22T10:39:37.486514Z",
     "iopub.status.busy": "2022-05-22T10:39:37.485944Z",
     "iopub.status.idle": "2022-05-22T10:39:37.842007Z",
     "shell.execute_reply": "2022-05-22T10:39:37.841416Z",
     "shell.execute_reply.started": "2022-05-22T10:39:37.486447Z"
    },
    "tags": []
   },
   "outputs": [
    {
     "data": {
      "image/png": "[encoded data removed]",
      "text/plain": [
       "<Figure size 432x288 with 1 Axes>"
      ]
     },
     "metadata": {
      "needs_background": "light"
     },
     "output_type": "display_data"
    }
   ],
   "source": [
    "from sklearn.neighbors import NearestNeighbors\n",
    "\n",
    "nbrs = NearestNeighbors(n_neighbors=2, metric='cosine').fit(embeddings)\n",
    "distances, indices = nbrs.kneighbors(embeddings)\n",
    "\n",
    "dist_desc = sorted(distances[:,-1], reverse=True)\n",
    "plt.plot(list(range(1,len(dist_desc)+1)), dist_desc)\n",
    "plt.xlabel(\"index\")\n",
    "plt.ylabel(\"distance\")\n",
    "plt.show()"
   ]
  },
  {
   "cell_type": "code",
   "execution_count": 18,
   "id": "40cc4100-45f3-448d-9736-85d04522d17d",
   "metadata": {
    "execution": {
     "iopub.execute_input": "2022-05-22T10:39:37.887307Z",
     "iopub.status.busy": "2022-05-22T10:39:37.886814Z",
     "iopub.status.idle": "2022-05-22T10:39:38.661161Z",
     "shell.execute_reply": "2022-05-22T10:39:38.657541Z",
     "shell.execute_reply.started": "2022-05-22T10:39:37.887246Z"
    },
    "tags": []
   },
   "outputs": [
    {
     "name": "stdout",
     "output_type": "stream",
     "text": [
      "Estimated number of clusters: 3\n",
      "Estimated number of noise points: 35\n",
      "CI Coefficient: 5.25463\n",
      "Silhouette Coefficient: 0.07762\n",
      "DB Coefficient: 3.67182\n"
     ]
    }
   ],
   "source": [
    "from sklearn.cluster import DBSCAN\n",
    "\n",
    "db = DBSCAN(eps=0.120, min_samples=2, metric='cosine', n_jobs=-1).fit(embeddings)\n",
    "core_samples_mask = np.zeros_like(db.labels_, dtype=bool)\n",
    "core_samples_mask[db.core_sample_indices_] = True\n",
    "labels = db.labels_\n",
    "\n",
    "n_clusters_ = len(set(labels)) - (1 if -1 in labels else 0)\n",
    "n_noise_ = list(labels).count(-1)\n",
    "\n",
    "print('Estimated number of clusters: %d' % n_clusters_)\n",
    "print('Estimated number of noise points: %d' % n_noise_)\n",
    "print(\"CI Coefficient: %0.5f\"\n",
    "      % calinski_harabasz_score(embeddings, labels))\n",
    "print(\"Silhouette Coefficient: %0.5f\"\n",
    "      % silhouette_score(embeddings, labels))\n",
    "print(\"DB Coefficient: %0.5f\"\n",
    "      % davies_bouldin_score(embeddings, labels))"
   ]
  },
  {
   "cell_type": "markdown",
   "id": "8c9982d2-ea75-4906-bca8-16b36f7a2cfd",
   "metadata": {},
   "source": [
    "#### Agglomerative Clustering - Complete"
   ]
  },
  {
   "cell_type": "code",
   "execution_count": 19,
   "id": "c9911ab2-b763-4c2a-86ff-0c451e96935f",
   "metadata": {
    "execution": {
     "iopub.execute_input": "2022-05-22T10:39:41.730091Z",
     "iopub.status.busy": "2022-05-22T10:39:41.729467Z",
     "iopub.status.idle": "2022-05-22T10:39:43.815237Z",
     "shell.execute_reply": "2022-05-22T10:39:43.814661Z",
     "shell.execute_reply.started": "2022-05-22T10:39:41.730006Z"
    },
    "tags": []
   },
   "outputs": [
    {
     "data": {
      "image/png": "[encoded data removed]",
      "text/plain": [
       "<Figure size 432x288 with 1 Axes>"
      ]
     },
     "metadata": {
      "needs_background": "light"
     },
     "output_type": "display_data"
    }
   ],
   "source": [
    "from scipy.cluster.hierarchy import linkage, dendrogram\n",
    "\n",
    "def plot_tree(Z, ylabel='$\\Delta$'):\n",
    "    fig, ax = plt.subplots()\n",
    "    dn = dendrogram(Z, ax=ax, truncate_mode='level', p=5)\n",
    "    ax.set_ylabel(f'{ylabel}')\n",
    "\n",
    "Z = linkage(embeddings, method='complete', metric='cosine', optimal_ordering=True)\n",
    "plot_tree(Z)\n",
    "plt.axhline(0.33, color='red')\n",
    "plt.show()"
   ]
  },
  {
   "cell_type": "code",
   "execution_count": 20,
   "id": "2d2cfa23-85a0-43e5-8fde-b4637009bb0f",
   "metadata": {
    "execution": {
     "iopub.execute_input": "2022-05-22T10:39:49.743222Z",
     "iopub.status.busy": "2022-05-22T10:39:49.742667Z",
     "iopub.status.idle": "2022-05-22T10:39:50.155924Z",
     "shell.execute_reply": "2022-05-22T10:39:50.155267Z",
     "shell.execute_reply.started": "2022-05-22T10:39:49.743157Z"
    },
    "tags": []
   },
   "outputs": [
    {
     "data": {
      "image/png": "[encoded data removed]",
      "text/plain": [
       "<Figure size 432x288 with 1 Axes>"
      ]
     },
     "metadata": {
      "needs_background": "light"
     },
     "output_type": "display_data"
    }
   ],
   "source": [
    "Z = linkage(embeddings, method='average', metric='cosine', optimal_ordering=True)\n",
    "plot_tree(Z)"
   ]
  },
  {
   "cell_type": "code",
   "execution_count": 21,
   "id": "f75b9e18-5ff6-41af-8f32-cc741a3e4f27",
   "metadata": {
    "execution": {
     "iopub.execute_input": "2022-05-22T10:39:50.968950Z",
     "iopub.status.busy": "2022-05-22T10:39:50.968141Z",
     "iopub.status.idle": "2022-05-22T10:39:51.299208Z",
     "shell.execute_reply": "2022-05-22T10:39:51.298612Z",
     "shell.execute_reply.started": "2022-05-22T10:39:50.968856Z"
    },
    "tags": []
   },
   "outputs": [
    {
     "data": {
      "image/png": "[encoded data removed]",
      "text/plain": [
       "<Figure size 432x288 with 1 Axes>"
      ]
     },
     "metadata": {
      "needs_background": "light"
     },
     "output_type": "display_data"
    }
   ],
   "source": [
    "Z = linkage(embeddings, method='single', metric='cosine', optimal_ordering=True)\n",
    "plot_tree(Z)"
   ]
  },
  {
   "cell_type": "code",
   "execution_count": 22,
   "id": "6e7c9750-0e71-4792-8a32-df77b4617e01",
   "metadata": {
    "execution": {
     "iopub.execute_input": "2022-05-22T10:39:52.208736Z",
     "iopub.status.busy": "2022-05-22T10:39:52.208037Z",
     "iopub.status.idle": "2022-05-22T10:39:55.212019Z",
     "shell.execute_reply": "2022-05-22T10:39:55.211159Z",
     "shell.execute_reply.started": "2022-05-22T10:39:52.208673Z"
    },
    "tags": []
   },
   "outputs": [
    {
     "data": {
      "image/png": "[encoded data removed]",
      "text/plain": [
       "<Figure size 432x288 with 1 Axes>"
      ]
     },
     "metadata": {
      "needs_background": "light"
     },
     "output_type": "display_data"
    }
   ],
   "source": [
    "Z = linkage(embeddings, method='ward', metric='euclidean', optimal_ordering=True)\n",
    "plot_tree(Z)"
   ]
  },
  {
   "cell_type": "code",
   "execution_count": 23,
   "id": "38c54598-85cd-4d99-8817-4cedd2b662ae",
   "metadata": {
    "execution": {
     "iopub.execute_input": "2022-05-22T10:39:56.336061Z",
     "iopub.status.busy": "2022-05-22T10:39:56.335271Z",
     "iopub.status.idle": "2022-05-22T10:39:57.757410Z",
     "shell.execute_reply": "2022-05-22T10:39:57.681834Z",
     "shell.execute_reply.started": "2022-05-22T10:39:56.335991Z"
    },
    "tags": []
   },
   "outputs": [
    {
     "name": "stdout",
     "output_type": "stream",
     "text": [
      "Estimated number of clusters: 7\n",
      "Estimated number of noise points: 0\n",
      "CI Coefficient: 14.75859\n",
      "Silhouette Coefficient: 0.02380\n",
      "DB Coefficient: 3.74997\n"
     ]
    }
   ],
   "source": [
    "from sklearn.cluster import AgglomerativeClustering\n",
    "from scipy.cluster.hierarchy import fcluster\n",
    "\n",
    "Z = linkage(embeddings, method='complete', metric='cosine', optimal_ordering=True)\n",
    "labels = fcluster(Z, t=0.33, criterion='distance')\n",
    "\n",
    "n_clusters_ = len(set(labels)) - (1 if -1 in labels else 0)\n",
    "n_noise_ = list(labels).count(-1)\n",
    "\n",
    "print('Estimated number of clusters: %d' % n_clusters_)\n",
    "print('Estimated number of noise points: %d' % n_noise_)\n",
    "print(\"CI Coefficient: %0.5f\"\n",
    "      % calinski_harabasz_score(embeddings, labels))\n",
    "print(\"Silhouette Coefficient: %0.5f\"\n",
    "      % silhouette_score(embeddings, labels))\n",
    "print(\"DB Coefficient: %0.5f\"\n",
    "      % davies_bouldin_score(embeddings, labels))"
   ]
  },
  {
   "cell_type": "markdown",
   "id": "488dca17-865d-4473-b2be-e5e506cc1ef2",
   "metadata": {},
   "source": [
    "#### Spectral Co-Clustering"
   ]
  },
  {
   "cell_type": "code",
   "execution_count": 25,
   "id": "b2306dc0-9393-4d06-8f22-5c3d747d3e0c",
   "metadata": {
    "execution": {
     "iopub.execute_input": "2022-05-22T10:40:37.666100Z",
     "iopub.status.busy": "2022-05-22T10:40:37.665261Z",
     "iopub.status.idle": "2022-05-22T10:40:52.657488Z",
     "shell.execute_reply": "2022-05-22T10:40:52.575987Z",
     "shell.execute_reply.started": "2022-05-22T10:40:37.666022Z"
    },
    "tags": []
   },
   "outputs": [
    {
     "data": {
      "text/html": [
       "<div>\n",
       "<style scoped>\n",
       "    .dataframe tbody tr th:only-of-type {\n",
       "        vertical-align: middle;\n",
       "    }\n",
       "\n",
       "    .dataframe tbody tr th {\n",
       "        vertical-align: top;\n",
       "    }\n",
       "\n",
       "    .dataframe thead th {\n",
       "        text-align: right;\n",
       "    }\n",
       "</style>\n",
       "<table border=\"1\" class=\"dataframe\">\n",
       "  <thead>\n",
       "    <tr style=\"text-align: right;\">\n",
       "      <th></th>\n",
       "      <th>run_time</th>\n",
       "      <th>CI Coefficient</th>\n",
       "      <th>Silhouette Coefficient</th>\n",
       "      <th>DB Coefficient</th>\n",
       "    </tr>\n",
       "  </thead>\n",
       "  <tbody>\n",
       "    <tr>\n",
       "      <th>2</th>\n",
       "      <td>0.095593</td>\n",
       "      <td>24.399561</td>\n",
       "      <td>0.033047</td>\n",
       "      <td>5.332490</td>\n",
       "    </tr>\n",
       "    <tr>\n",
       "      <th>3</th>\n",
       "      <td>0.432549</td>\n",
       "      <td>31.395292</td>\n",
       "      <td>0.033718</td>\n",
       "      <td>5.080840</td>\n",
       "    </tr>\n",
       "    <tr>\n",
       "      <th>4</th>\n",
       "      <td>0.530364</td>\n",
       "      <td>24.715913</td>\n",
       "      <td>0.024601</td>\n",
       "      <td>5.346392</td>\n",
       "    </tr>\n",
       "    <tr>\n",
       "      <th>5</th>\n",
       "      <td>0.453813</td>\n",
       "      <td>29.484854</td>\n",
       "      <td>0.036304</td>\n",
       "      <td>4.097890</td>\n",
       "    </tr>\n",
       "    <tr>\n",
       "      <th>6</th>\n",
       "      <td>0.478158</td>\n",
       "      <td>25.672572</td>\n",
       "      <td>0.029652</td>\n",
       "      <td>4.233794</td>\n",
       "    </tr>\n",
       "    <tr>\n",
       "      <th>7</th>\n",
       "      <td>0.486811</td>\n",
       "      <td>22.389588</td>\n",
       "      <td>0.021950</td>\n",
       "      <td>4.430409</td>\n",
       "    </tr>\n",
       "    <tr>\n",
       "      <th>8</th>\n",
       "      <td>0.483459</td>\n",
       "      <td>20.437333</td>\n",
       "      <td>0.021666</td>\n",
       "      <td>4.275405</td>\n",
       "    </tr>\n",
       "    <tr>\n",
       "      <th>9</th>\n",
       "      <td>0.538117</td>\n",
       "      <td>20.162680</td>\n",
       "      <td>0.027419</td>\n",
       "      <td>4.143799</td>\n",
       "    </tr>\n",
       "    <tr>\n",
       "      <th>10</th>\n",
       "      <td>0.585885</td>\n",
       "      <td>18.551256</td>\n",
       "      <td>0.019224</td>\n",
       "      <td>4.203103</td>\n",
       "    </tr>\n",
       "    <tr>\n",
       "      <th>11</th>\n",
       "      <td>0.513455</td>\n",
       "      <td>18.777226</td>\n",
       "      <td>0.019154</td>\n",
       "      <td>4.150026</td>\n",
       "    </tr>\n",
       "    <tr>\n",
       "      <th>12</th>\n",
       "      <td>0.597558</td>\n",
       "      <td>16.082609</td>\n",
       "      <td>0.020027</td>\n",
       "      <td>4.154363</td>\n",
       "    </tr>\n",
       "    <tr>\n",
       "      <th>13</th>\n",
       "      <td>0.552815</td>\n",
       "      <td>16.386667</td>\n",
       "      <td>0.018087</td>\n",
       "      <td>4.104231</td>\n",
       "    </tr>\n",
       "    <tr>\n",
       "      <th>14</th>\n",
       "      <td>0.605642</td>\n",
       "      <td>15.657991</td>\n",
       "      <td>0.022016</td>\n",
       "      <td>3.995084</td>\n",
       "    </tr>\n",
       "    <tr>\n",
       "      <th>15</th>\n",
       "      <td>0.664258</td>\n",
       "      <td>14.050209</td>\n",
       "      <td>0.017131</td>\n",
       "      <td>3.884390</td>\n",
       "    </tr>\n",
       "    <tr>\n",
       "      <th>16</th>\n",
       "      <td>0.688124</td>\n",
       "      <td>13.536353</td>\n",
       "      <td>0.015661</td>\n",
       "      <td>3.984867</td>\n",
       "    </tr>\n",
       "    <tr>\n",
       "      <th>17</th>\n",
       "      <td>0.655537</td>\n",
       "      <td>14.227598</td>\n",
       "      <td>0.020304</td>\n",
       "      <td>3.747665</td>\n",
       "    </tr>\n",
       "    <tr>\n",
       "      <th>18</th>\n",
       "      <td>0.659552</td>\n",
       "      <td>13.614683</td>\n",
       "      <td>0.017593</td>\n",
       "      <td>3.697230</td>\n",
       "    </tr>\n",
       "    <tr>\n",
       "      <th>19</th>\n",
       "      <td>0.762716</td>\n",
       "      <td>13.365568</td>\n",
       "      <td>0.020066</td>\n",
       "      <td>3.689059</td>\n",
       "    </tr>\n",
       "    <tr>\n",
       "      <th>20</th>\n",
       "      <td>0.781809</td>\n",
       "      <td>12.648406</td>\n",
       "      <td>0.008284</td>\n",
       "      <td>3.550129</td>\n",
       "    </tr>\n",
       "  </tbody>\n",
       "</table>\n",
       "</div>"
      ],
      "text/plain": [
       "    run_time  CI Coefficient  Silhouette Coefficient  DB Coefficient\n",
       "2   0.095593       24.399561                0.033047        5.332490\n",
       "3   0.432549       31.395292                0.033718        5.080840\n",
       "4   0.530364       24.715913                0.024601        5.346392\n",
       "5   0.453813       29.484854                0.036304        4.097890\n",
       "6   0.478158       25.672572                0.029652        4.233794\n",
       "7   0.486811       22.389588                0.021950        4.430409\n",
       "8   0.483459       20.437333                0.021666        4.275405\n",
       "9   0.538117       20.162680                0.027419        4.143799\n",
       "10  0.585885       18.551256                0.019224        4.203103\n",
       "11  0.513455       18.777226                0.019154        4.150026\n",
       "12  0.597558       16.082609                0.020027        4.154363\n",
       "13  0.552815       16.386667                0.018087        4.104231\n",
       "14  0.605642       15.657991                0.022016        3.995084\n",
       "15  0.664258       14.050209                0.017131        3.884390\n",
       "16  0.688124       13.536353                0.015661        3.984867\n",
       "17  0.655537       14.227598                0.020304        3.747665\n",
       "18  0.659552       13.614683                0.017593        3.697230\n",
       "19  0.762716       13.365568                0.020066        3.689059\n",
       "20  0.781809       12.648406                0.008284        3.550129"
      ]
     },
     "execution_count": 25,
     "metadata": {},
     "output_type": "execute_result"
    }
   ],
   "source": [
    "from sklearn.cluster import SpectralCoclustering\n",
    "\n",
    "scoring = ['run_time', 'CI Coefficient', 'Silhouette Coefficient', 'DB Coefficient']\n",
    "results = pd.DataFrame(columns=scoring)\n",
    "for i in range(2, 21):\n",
    "    start_time = time.time()\n",
    "    scc = SpectralCoclustering(n_clusters=i, svd_method='arpack', random_state=42).fit(embeddings)\n",
    "    labels = scc.row_labels_\n",
    "    results.loc[i] = {\"run_time\": time.time() - start_time,\n",
    "                                    'CI Coefficient': calinski_harabasz_score(embeddings, labels),\n",
    "                                    'Silhouette Coefficient': silhouette_score(embeddings, labels),\n",
    "                                    'DB Coefficient': davies_bouldin_score(embeddings, labels)}\n",
    "results"
   ]
  },
  {
   "cell_type": "code",
   "execution_count": 27,
   "id": "dc4d503e-059b-4bbe-89d5-fa701371d336",
   "metadata": {
    "execution": {
     "iopub.execute_input": "2022-05-22T10:47:32.602440Z",
     "iopub.status.busy": "2022-05-22T10:47:32.601882Z",
     "iopub.status.idle": "2022-05-22T10:47:32.765916Z",
     "shell.execute_reply": "2022-05-22T10:47:32.765346Z",
     "shell.execute_reply.started": "2022-05-22T10:47:32.602380Z"
    },
    "tags": []
   },
   "outputs": [
    {
     "data": {
      "text/plain": [
       "<AxesSubplot:>"
      ]
     },
     "execution_count": 27,
     "metadata": {},
     "output_type": "execute_result"
    },
    {
     "data": {
      "image/png": "[encoded data removed]",
      "text/plain": [
       "<Figure size 432x288 with 1 Axes>"
      ]
     },
     "metadata": {
      "needs_background": "light"
     },
     "output_type": "display_data"
    }
   ],
   "source": [
    "results[['CI Coefficient', 'DB Coefficient']].plot()"
   ]
  },
  {
   "cell_type": "markdown",
   "id": "5a660ff1-1bab-4acb-9369-bed1427e065e",
   "metadata": {},
   "source": [
    "#### HDBSCAN w/o UMAP"
   ]
  },
  {
   "cell_type": "code",
   "execution_count": 16,
   "id": "985301af-43e4-4a16-b1da-8a9c66ecc258",
   "metadata": {
    "execution": {
     "iopub.execute_input": "2022-05-22T10:39:12.090600Z",
     "iopub.status.busy": "2022-05-22T10:39:12.090014Z",
     "iopub.status.idle": "2022-05-22T10:39:12.568257Z",
     "shell.execute_reply": "2022-05-22T10:39:12.566354Z",
     "shell.execute_reply.started": "2022-05-22T10:39:12.090538Z"
    },
    "tags": []
   },
   "outputs": [
    {
     "name": "stdout",
     "output_type": "stream",
     "text": [
      "Estimated number of clusters: 3\n",
      "Estimated number of noise points: 563\n",
      "CI Coefficient: 11.10711\n",
      "Silhouette Coefficient: -0.07908\n",
      "DB Coefficient: 3.69437\n"
     ]
    }
   ],
   "source": [
    "from sklearn.metrics.pairwise import cosine_distances\n",
    "\n",
    "cos_dist = cosine_distances(embeddings).astype('double')\n",
    "\n",
    "clusterer = hdbscan.HDBSCAN(min_cluster_size=10,\n",
    "                          min_samples=2,\n",
    "                          metric='precomputed').fit(cos_dist)\n",
    "labels = clusterer.labels_\n",
    "\n",
    "n_clusters_ = len(set(labels)) - (1 if -1 in labels else 0)\n",
    "n_noise_ = list(labels).count(-1)\n",
    "\n",
    "print('Estimated number of clusters: %d' % n_clusters_)\n",
    "print('Estimated number of noise points: %d' % n_noise_)\n",
    "print(\"CI Coefficient: %0.5f\"\n",
    "      % calinski_harabasz_score(embeddings, labels))\n",
    "print(\"Silhouette Coefficient: %0.5f\"\n",
    "      % silhouette_score(embeddings, labels))\n",
    "print(\"DB Coefficient: %0.5f\"\n",
    "      % davies_bouldin_score(embeddings, labels))"
   ]
  },
  {
   "cell_type": "markdown",
   "id": "be7801a6-e94b-4d6d-b2fd-4a29da3e9fcc",
   "metadata": {},
   "source": [
    "#### HDBSCAN w/ UMAP"
   ]
  },
  {
   "cell_type": "code",
   "execution_count": 121,
   "id": "caf6cf64-ed2a-4dfe-8b0e-7b3b24824ecb",
   "metadata": {
    "execution": {
     "iopub.execute_input": "2022-05-22T11:28:02.527028Z",
     "iopub.status.busy": "2022-05-22T11:28:02.526264Z",
     "iopub.status.idle": "2022-05-22T11:28:17.379376Z",
     "shell.execute_reply": "2022-05-22T11:28:17.378150Z",
     "shell.execute_reply.started": "2022-05-22T11:28:02.526933Z"
    },
    "tags": []
   },
   "outputs": [],
   "source": [
    "umap_embeddings = umap.UMAP(n_neighbors=20, \n",
    "                            n_components=10, \n",
    "                            metric='cosine').fit_transform(embeddings)"
   ]
  },
  {
   "cell_type": "code",
   "execution_count": 122,
   "id": "07b9300f-3587-4845-b554-13581b375462",
   "metadata": {
    "execution": {
     "iopub.execute_input": "2022-05-22T11:28:30.539302Z",
     "iopub.status.busy": "2022-05-22T11:28:30.538751Z",
     "iopub.status.idle": "2022-05-22T11:28:44.387109Z",
     "shell.execute_reply": "2022-05-22T11:28:44.385520Z",
     "shell.execute_reply.started": "2022-05-22T11:28:30.539239Z"
    },
    "tags": []
   },
   "outputs": [],
   "source": [
    "temp = umap.UMAP(n_neighbors=20, n_components=2, metric='cosine').fit_transform(embeddings)"
   ]
  },
  {
   "cell_type": "code",
   "execution_count": 123,
   "id": "5d4b96e1-0216-42a0-a8bd-533cc5cdddb9",
   "metadata": {
    "execution": {
     "iopub.execute_input": "2022-05-22T11:28:44.389749Z",
     "iopub.status.busy": "2022-05-22T11:28:44.389499Z",
     "iopub.status.idle": "2022-05-22T11:28:44.503078Z",
     "shell.execute_reply": "2022-05-22T11:28:44.502492Z",
     "shell.execute_reply.started": "2022-05-22T11:28:44.389719Z"
    },
    "tags": []
   },
   "outputs": [
    {
     "data": {
      "image/png": "[encoded data removed]",
      "text/plain": [
       "<Figure size 432x288 with 1 Axes>"
      ]
     },
     "metadata": {
      "needs_background": "light"
     },
     "output_type": "display_data"
    }
   ],
   "source": [
    "result = pd.DataFrame(temp, columns=['x', 'y'])\n",
    "\n",
    "plt.scatter(result.x, result.y);"
   ]
  },
  {
   "cell_type": "code",
   "execution_count": 126,
   "id": "4d66c81e-fc0a-4400-84d8-5297d37381ed",
   "metadata": {
    "execution": {
     "iopub.execute_input": "2022-05-22T11:30:59.679241Z",
     "iopub.status.busy": "2022-05-22T11:30:59.678566Z",
     "iopub.status.idle": "2022-05-22T11:32:23.862145Z",
     "shell.execute_reply": "2022-05-22T11:32:23.859758Z",
     "shell.execute_reply.started": "2022-05-22T11:30:59.679175Z"
    },
    "tags": []
   },
   "outputs": [],
   "source": [
    "results = []\n",
    "\n",
    "for i in range(2, 21):\n",
    "    for j in range(2, 21):\n",
    "        clusterer = hdbscan.HDBSCAN(min_cluster_size=i,\n",
    "                                    min_samples=j,\n",
    "                                    metric='euclidean').fit(umap_embeddings)\n",
    "        labels = clusterer.labels_\n",
    "\n",
    "        n_clusters_ = len(set(labels)) - (1 if -1 in labels else 0)\n",
    "        n_noise_ = list(labels).count(-1)\n",
    "        \n",
    "        results.append([i, j, n_clusters_, n_noise_,\n",
    "                        calinski_harabasz_score(umap_embeddings, labels),\n",
    "                        silhouette_score(umap_embeddings, labels),\n",
    "                        davies_bouldin_score(umap_embeddings, labels)])"
   ]
  },
  {
   "cell_type": "code",
   "execution_count": 127,
   "id": "6c83dffc-d5d6-4d45-9e23-3ec0f4cbacbb",
   "metadata": {
    "execution": {
     "iopub.execute_input": "2022-05-22T11:35:49.231950Z",
     "iopub.status.busy": "2022-05-22T11:35:49.231109Z",
     "iopub.status.idle": "2022-05-22T11:35:49.271502Z",
     "shell.execute_reply": "2022-05-22T11:35:49.270650Z",
     "shell.execute_reply.started": "2022-05-22T11:35:49.231870Z"
    },
    "tags": []
   },
   "outputs": [
    {
     "data": {
      "text/html": [
       "<div>\n",
       "<style scoped>\n",
       "    .dataframe tbody tr th:only-of-type {\n",
       "        vertical-align: middle;\n",
       "    }\n",
       "\n",
       "    .dataframe tbody tr th {\n",
       "        vertical-align: top;\n",
       "    }\n",
       "\n",
       "    .dataframe thead th {\n",
       "        text-align: right;\n",
       "    }\n",
       "</style>\n",
       "<table border=\"1\" class=\"dataframe\">\n",
       "  <thead>\n",
       "    <tr style=\"text-align: right;\">\n",
       "      <th></th>\n",
       "      <th>min_cluster_size</th>\n",
       "      <th>min_samples</th>\n",
       "      <th>clusters</th>\n",
       "      <th>noise</th>\n",
       "      <th>CI</th>\n",
       "      <th>Silh</th>\n",
       "      <th>DB</th>\n",
       "    </tr>\n",
       "  </thead>\n",
       "  <tbody>\n",
       "    <tr>\n",
       "      <th>286</th>\n",
       "      <td>17</td>\n",
       "      <td>3</td>\n",
       "      <td>12</td>\n",
       "      <td>158</td>\n",
       "      <td>335.675097</td>\n",
       "      <td>0.266535</td>\n",
       "      <td>1.368163</td>\n",
       "    </tr>\n",
       "    <tr>\n",
       "      <th>305</th>\n",
       "      <td>18</td>\n",
       "      <td>3</td>\n",
       "      <td>12</td>\n",
       "      <td>158</td>\n",
       "      <td>335.675097</td>\n",
       "      <td>0.266535</td>\n",
       "      <td>1.368163</td>\n",
       "    </tr>\n",
       "    <tr>\n",
       "      <th>267</th>\n",
       "      <td>16</td>\n",
       "      <td>3</td>\n",
       "      <td>13</td>\n",
       "      <td>173</td>\n",
       "      <td>321.047999</td>\n",
       "      <td>0.253363</td>\n",
       "      <td>1.222996</td>\n",
       "    </tr>\n",
       "    <tr>\n",
       "      <th>342</th>\n",
       "      <td>20</td>\n",
       "      <td>2</td>\n",
       "      <td>14</td>\n",
       "      <td>184</td>\n",
       "      <td>314.613214</td>\n",
       "      <td>0.226770</td>\n",
       "      <td>1.233490</td>\n",
       "    </tr>\n",
       "    <tr>\n",
       "      <th>326</th>\n",
       "      <td>19</td>\n",
       "      <td>5</td>\n",
       "      <td>11</td>\n",
       "      <td>188</td>\n",
       "      <td>286.395433</td>\n",
       "      <td>0.236700</td>\n",
       "      <td>1.360697</td>\n",
       "    </tr>\n",
       "    <tr>\n",
       "      <th>...</th>\n",
       "      <td>...</td>\n",
       "      <td>...</td>\n",
       "      <td>...</td>\n",
       "      <td>...</td>\n",
       "      <td>...</td>\n",
       "      <td>...</td>\n",
       "      <td>...</td>\n",
       "    </tr>\n",
       "    <tr>\n",
       "      <th>280</th>\n",
       "      <td>16</td>\n",
       "      <td>16</td>\n",
       "      <td>9</td>\n",
       "      <td>334</td>\n",
       "      <td>176.038513</td>\n",
       "      <td>0.082179</td>\n",
       "      <td>1.329785</td>\n",
       "    </tr>\n",
       "    <tr>\n",
       "      <th>299</th>\n",
       "      <td>17</td>\n",
       "      <td>16</td>\n",
       "      <td>9</td>\n",
       "      <td>334</td>\n",
       "      <td>176.038513</td>\n",
       "      <td>0.082179</td>\n",
       "      <td>1.329785</td>\n",
       "    </tr>\n",
       "    <tr>\n",
       "      <th>33</th>\n",
       "      <td>3</td>\n",
       "      <td>16</td>\n",
       "      <td>12</td>\n",
       "      <td>339</td>\n",
       "      <td>133.432392</td>\n",
       "      <td>0.007347</td>\n",
       "      <td>1.299830</td>\n",
       "    </tr>\n",
       "    <tr>\n",
       "      <th>52</th>\n",
       "      <td>4</td>\n",
       "      <td>16</td>\n",
       "      <td>12</td>\n",
       "      <td>339</td>\n",
       "      <td>133.432392</td>\n",
       "      <td>0.007347</td>\n",
       "      <td>1.299830</td>\n",
       "    </tr>\n",
       "    <tr>\n",
       "      <th>71</th>\n",
       "      <td>5</td>\n",
       "      <td>16</td>\n",
       "      <td>12</td>\n",
       "      <td>339</td>\n",
       "      <td>133.432392</td>\n",
       "      <td>0.007347</td>\n",
       "      <td>1.299830</td>\n",
       "    </tr>\n",
       "  </tbody>\n",
       "</table>\n",
       "<p>254 rows × 7 columns</p>\n",
       "</div>"
      ],
      "text/plain": [
       "     min_cluster_size  min_samples  clusters  noise          CI      Silh  \\\n",
       "286                17            3        12    158  335.675097  0.266535   \n",
       "305                18            3        12    158  335.675097  0.266535   \n",
       "267                16            3        13    173  321.047999  0.253363   \n",
       "342                20            2        14    184  314.613214  0.226770   \n",
       "326                19            5        11    188  286.395433  0.236700   \n",
       "..                ...          ...       ...    ...         ...       ...   \n",
       "280                16           16         9    334  176.038513  0.082179   \n",
       "299                17           16         9    334  176.038513  0.082179   \n",
       "33                  3           16        12    339  133.432392  0.007347   \n",
       "52                  4           16        12    339  133.432392  0.007347   \n",
       "71                  5           16        12    339  133.432392  0.007347   \n",
       "\n",
       "           DB  \n",
       "286  1.368163  \n",
       "305  1.368163  \n",
       "267  1.222996  \n",
       "342  1.233490  \n",
       "326  1.360697  \n",
       "..        ...  \n",
       "280  1.329785  \n",
       "299  1.329785  \n",
       "33   1.299830  \n",
       "52   1.299830  \n",
       "71   1.299830  \n",
       "\n",
       "[254 rows x 7 columns]"
      ]
     },
     "execution_count": 127,
     "metadata": {},
     "output_type": "execute_result"
    }
   ],
   "source": [
    "temp = pd.DataFrame(results, columns=['min_cluster_size', 'min_samples', 'clusters',\n",
    "                                      'noise', 'CI', 'Silh', 'DB'])\n",
    "temp[(temp['clusters'] < 20) & (temp['clusters'] > 6)].sort_values(['noise', 'CI', 'Silh', 'DB'], ascending=[True, False, False, True])"
   ]
  },
  {
   "cell_type": "markdown",
   "id": "707d5c00-1dd1-46f6-998d-d0eb8acb2f86",
   "metadata": {},
   "source": [
    "### c-TF-IDF"
   ]
  },
  {
   "cell_type": "code",
   "execution_count": 159,
   "id": "68f62477-57ff-4755-a078-945195675ebd",
   "metadata": {
    "execution": {
     "iopub.execute_input": "2022-05-22T11:52:52.954678Z",
     "iopub.status.busy": "2022-05-22T11:52:52.953891Z",
     "iopub.status.idle": "2022-05-22T11:52:52.988798Z",
     "shell.execute_reply": "2022-05-22T11:52:52.986734Z",
     "shell.execute_reply.started": "2022-05-22T11:52:52.954605Z"
    },
    "tags": []
   },
   "outputs": [],
   "source": [
    "docs_df = pd.DataFrame(docs.tolist(), columns=[\"Doc\"])\n",
    "docs_df['Topic'] = labels\n",
    "docs_df['Doc_ID'] = range(len(docs_df))\n",
    "docs_per_topic = docs_df.groupby(['Topic'], as_index = False).agg({'Doc': ' '.join})"
   ]
  },
  {
   "cell_type": "code",
   "execution_count": 163,
   "id": "22a3e7b4-9de3-4892-bb55-c79b86963834",
   "metadata": {
    "execution": {
     "iopub.execute_input": "2022-05-22T11:53:44.309244Z",
     "iopub.status.busy": "2022-05-22T11:53:44.308657Z",
     "iopub.status.idle": "2022-05-22T11:53:46.809298Z",
     "shell.execute_reply": "2022-05-22T11:53:46.808706Z",
     "shell.execute_reply.started": "2022-05-22T11:53:44.309178Z"
    },
    "tags": []
   },
   "outputs": [],
   "source": [
    "import numpy as np\n",
    "from sklearn.feature_extraction.text import CountVectorizer\n",
    "\n",
    "def c_tf_idf(documents, m, ngram_range=(1, 6)):\n",
    "    count = CountVectorizer(ngram_range=ngram_range, stop_words=\"english\").fit(documents)\n",
    "    t = count.transform(documents).toarray()\n",
    "    w = t.sum(axis=1)\n",
    "    tf = np.divide(t.T, w)\n",
    "    sum_t = t.sum(axis=0)\n",
    "    idf = np.log(np.divide(m, sum_t)).reshape(-1, 1)\n",
    "    tf_idf = np.multiply(tf, idf)\n",
    "\n",
    "    return tf_idf, count\n",
    "\n",
    "tf_idf, count = c_tf_idf(docs_per_topic.Doc.values, m=len(docs.tolist()))"
   ]
  },
  {
   "cell_type": "code",
   "execution_count": 164,
   "id": "9d49fae9-bf83-4176-81f8-9bca6342d5a4",
   "metadata": {
    "execution": {
     "iopub.execute_input": "2022-05-22T11:53:49.172092Z",
     "iopub.status.busy": "2022-05-22T11:53:49.171301Z",
     "iopub.status.idle": "2022-05-22T11:53:49.750015Z",
     "shell.execute_reply": "2022-05-22T11:53:49.749400Z",
     "shell.execute_reply.started": "2022-05-22T11:53:49.172026Z"
    },
    "tags": []
   },
   "outputs": [
    {
     "data": {
      "text/html": [
       "<div>\n",
       "<style scoped>\n",
       "    .dataframe tbody tr th:only-of-type {\n",
       "        vertical-align: middle;\n",
       "    }\n",
       "\n",
       "    .dataframe tbody tr th {\n",
       "        vertical-align: top;\n",
       "    }\n",
       "\n",
       "    .dataframe thead th {\n",
       "        text-align: right;\n",
       "    }\n",
       "</style>\n",
       "<table border=\"1\" class=\"dataframe\">\n",
       "  <thead>\n",
       "    <tr style=\"text-align: right;\">\n",
       "      <th></th>\n",
       "      <th>Topic</th>\n",
       "      <th>Size</th>\n",
       "    </tr>\n",
       "  </thead>\n",
       "  <tbody>\n",
       "    <tr>\n",
       "      <th>6</th>\n",
       "      <td>7</td>\n",
       "      <td>165</td>\n",
       "    </tr>\n",
       "    <tr>\n",
       "      <th>2</th>\n",
       "      <td>3</td>\n",
       "      <td>98</td>\n",
       "    </tr>\n",
       "    <tr>\n",
       "      <th>9</th>\n",
       "      <td>10</td>\n",
       "      <td>70</td>\n",
       "    </tr>\n",
       "    <tr>\n",
       "      <th>4</th>\n",
       "      <td>5</td>\n",
       "      <td>67</td>\n",
       "    </tr>\n",
       "    <tr>\n",
       "      <th>10</th>\n",
       "      <td>11</td>\n",
       "      <td>65</td>\n",
       "    </tr>\n",
       "    <tr>\n",
       "      <th>5</th>\n",
       "      <td>6</td>\n",
       "      <td>64</td>\n",
       "    </tr>\n",
       "    <tr>\n",
       "      <th>1</th>\n",
       "      <td>2</td>\n",
       "      <td>55</td>\n",
       "    </tr>\n",
       "    <tr>\n",
       "      <th>8</th>\n",
       "      <td>9</td>\n",
       "      <td>47</td>\n",
       "    </tr>\n",
       "    <tr>\n",
       "      <th>7</th>\n",
       "      <td>8</td>\n",
       "      <td>34</td>\n",
       "    </tr>\n",
       "    <tr>\n",
       "      <th>0</th>\n",
       "      <td>1</td>\n",
       "      <td>26</td>\n",
       "    </tr>\n",
       "    <tr>\n",
       "      <th>3</th>\n",
       "      <td>4</td>\n",
       "      <td>25</td>\n",
       "    </tr>\n",
       "  </tbody>\n",
       "</table>\n",
       "</div>"
      ],
      "text/plain": [
       "    Topic  Size\n",
       "6       7   165\n",
       "2       3    98\n",
       "9      10    70\n",
       "4       5    67\n",
       "10     11    65\n",
       "5       6    64\n",
       "1       2    55\n",
       "8       9    47\n",
       "7       8    34\n",
       "0       1    26\n",
       "3       4    25"
      ]
     },
     "execution_count": 164,
     "metadata": {},
     "output_type": "execute_result"
    }
   ],
   "source": [
    "def extract_top_n_words_per_topic(tf_idf, count, docs_per_topic, n=20):\n",
    "    words = count.get_feature_names()\n",
    "    labels = list(docs_per_topic.Topic)\n",
    "    tf_idf_transposed = tf_idf.T\n",
    "    indices = tf_idf_transposed.argsort()[:, -n:]\n",
    "    top_n_words = {label: [(words[j], tf_idf_transposed[i][j]) for j in indices[i]][::-1] for i, label in enumerate(labels)}\n",
    "    return top_n_words\n",
    "\n",
    "def extract_topic_sizes(df):\n",
    "    topic_sizes = (df.groupby(['Topic'])\n",
    "                     .Doc\n",
    "                     .count()\n",
    "                     .reset_index()\n",
    "                     .rename({\"Topic\": \"Topic\", \"Doc\": \"Size\"}, axis='columns')\n",
    "                     .sort_values(\"Size\", ascending=False))\n",
    "    return topic_sizes\n",
    "\n",
    "top_n_words = extract_top_n_words_per_topic(tf_idf, count, docs_per_topic, n=20)\n",
    "topic_sizes = extract_topic_sizes(docs_df)\n",
    "# topic_sizes['Names'] = ['Outliers', 'EDUCATION', 'DATA SCIENCE / TECHNOLOGY',\n",
    "#                         'GOVERNANCE / POLICY', 'COVID19 PANDEMIC', 'IPS / HISTORY',\n",
    "#                         'AGRICULTURE / YIELD', 'MICROBIOLOGY', 'BOTANY / MARINE BIOLOGY',\n",
    "#                         'NUTRITION']\n",
    "topic_sizes"
   ]
  },
  {
   "cell_type": "code",
   "execution_count": 175,
   "id": "deaf6791-3835-403d-a29b-d55cc2a5d48c",
   "metadata": {
    "execution": {
     "iopub.execute_input": "2022-05-22T11:56:05.449068Z",
     "iopub.status.busy": "2022-05-22T11:56:05.448488Z",
     "iopub.status.idle": "2022-05-22T11:56:05.463902Z",
     "shell.execute_reply": "2022-05-22T11:56:05.462360Z",
     "shell.execute_reply.started": "2022-05-22T11:56:05.449002Z"
    },
    "tags": []
   },
   "outputs": [
    {
     "name": "stdout",
     "output_type": "stream",
     "text": [
      "EDUCATION\n"
     ]
    },
    {
     "data": {
      "text/plain": [
       "[('skills', 0.0015277360115963105),\n",
       " ('mathematics', 0.0014499591101786093),\n",
       " ('teachers', 0.0014492915674128107),\n",
       " ('teaching', 0.0014128867485484837),\n",
       " ('school', 0.0012976030681524878),\n",
       " ('level', 0.001294414605417509),\n",
       " ('performance', 0.0012165872982043632),\n",
       " ('relationship', 0.001213738830391135),\n",
       " ('academic', 0.0011770747165806244),\n",
       " ('graduates', 0.0011739330825448144),\n",
       " ('respondents', 0.0011491608591160459),\n",
       " ('teacher', 0.0010779050415001658),\n",
       " ('self', 0.0010311126782372542),\n",
       " ('satisfaction', 0.0010285725364286046),\n",
       " ('student', 0.0010231367418612324),\n",
       " ('academic performance', 0.0010022007056343396),\n",
       " ('state', 0.0009899805121625488),\n",
       " ('science', 0.0009882775891107045),\n",
       " ('high school', 0.0009786963393765282),\n",
       " ('mean', 0.0009440393130590955)]"
      ]
     },
     "execution_count": 175,
     "metadata": {},
     "output_type": "execute_result"
    }
   ],
   "source": [
    "print('EDUCATION')\n",
    "top_n_words[7]"
   ]
  },
  {
   "cell_type": "code",
   "execution_count": 180,
   "id": "04046ed9-aa01-4af2-93b1-7661c4fffc8e",
   "metadata": {
    "execution": {
     "iopub.execute_input": "2022-05-22T11:56:32.698136Z",
     "iopub.status.busy": "2022-05-22T11:56:32.697474Z",
     "iopub.status.idle": "2022-05-22T11:56:32.712269Z",
     "shell.execute_reply": "2022-05-22T11:56:32.710810Z",
     "shell.execute_reply.started": "2022-05-22T11:56:32.698070Z"
    },
    "tags": []
   },
   "outputs": [
    {
     "name": "stdout",
     "output_type": "stream",
     "text": [
      "AGRICULTURE YIELD\n"
     ]
    },
    {
     "data": {
      "text/plain": [
       "[('yield', 0.002102165430071601),\n",
       " ('weight', 0.002072094293207206),\n",
       " ('treatments', 0.0019705725783650506),\n",
       " ('treatment', 0.0015570676694412076),\n",
       " ('rice', 0.0015125827383347845),\n",
       " ('highest', 0.001439090268449257),\n",
       " ('acceptability', 0.0014280550168679841),\n",
       " ('drying', 0.0013985513420749077),\n",
       " ('seeds', 0.00138446035580459),\n",
       " ('randomized', 0.001379530721582164),\n",
       " ('banana', 0.0013567802673287858),\n",
       " ('feed', 0.0013531518706493427),\n",
       " ('varieties', 0.0013424068397591726),\n",
       " ('days', 0.0013379707188912791),\n",
       " ('dried', 0.0012627016862195696),\n",
       " ('soil', 0.0012532895326050025),\n",
       " ('sensory', 0.0012316143816712758),\n",
       " ('color', 0.0012258456389202437),\n",
       " ('egg', 0.0011807165563600145),\n",
       " ('length', 0.0011781453889160869)]"
      ]
     },
     "execution_count": 180,
     "metadata": {},
     "output_type": "execute_result"
    }
   ],
   "source": [
    "print('AGRICULTURE YIELD')\n",
    "top_n_words[3]"
   ]
  },
  {
   "cell_type": "code",
   "execution_count": 181,
   "id": "364ef7db-3135-47ad-ad75-8d83316b5447",
   "metadata": {
    "execution": {
     "iopub.execute_input": "2022-05-22T11:56:33.074667Z",
     "iopub.status.busy": "2022-05-22T11:56:33.074075Z",
     "iopub.status.idle": "2022-05-22T11:56:33.086613Z",
     "shell.execute_reply": "2022-05-22T11:56:33.085619Z",
     "shell.execute_reply.started": "2022-05-22T11:56:33.074602Z"
    },
    "tags": []
   },
   "outputs": [
    {
     "name": "stdout",
     "output_type": "stream",
     "text": [
      "GOVERNMENT\n"
     ]
    },
    {
     "data": {
      "text/plain": [
       "[('government', 0.002192158788810809),\n",
       " ('economic', 0.0018175195447891921),\n",
       " ('community', 0.0017010898089180311),\n",
       " ('sustainable', 0.0015663135799271546),\n",
       " ('farmers', 0.0015356691973652768),\n",
       " ('local', 0.001520140786005993),\n",
       " ('climate', 0.001439919103563701),\n",
       " ('development', 0.001415613688160073),\n",
       " ('communities', 0.0014040790162603708),\n",
       " ('practices', 0.0013824263692265022),\n",
       " ('water', 0.0013775580396467133),\n",
       " ('program', 0.0013725573771698801),\n",
       " ('pes', 0.0013403471367335429),\n",
       " ('health', 0.001321124178743334),\n",
       " ('barmm', 0.0012029060896865042),\n",
       " ('climate change', 0.001188328273771763),\n",
       " ('local government', 0.0011756894732403227),\n",
       " ('change', 0.0011483216420599513),\n",
       " ('ip', 0.0011325458118337085),\n",
       " ('tourism', 0.00112542824805375)]"
      ]
     },
     "execution_count": 181,
     "metadata": {},
     "output_type": "execute_result"
    }
   ],
   "source": [
    "print('GOVERNMENT')\n",
    "top_n_words[10]"
   ]
  },
  {
   "cell_type": "code",
   "execution_count": 183,
   "id": "5853b50b-dd4f-43b3-b066-0718c1d19328",
   "metadata": {
    "execution": {
     "iopub.execute_input": "2022-05-22T11:57:19.806337Z",
     "iopub.status.busy": "2022-05-22T11:57:19.805768Z",
     "iopub.status.idle": "2022-05-22T11:57:19.820416Z",
     "shell.execute_reply": "2022-05-22T11:57:19.819011Z",
     "shell.execute_reply.started": "2022-05-22T11:57:19.806272Z"
    },
    "tags": []
   },
   "outputs": [
    {
     "name": "stdout",
     "output_type": "stream",
     "text": [
      "DATA SCIENCE\n"
     ]
    },
    {
     "data": {
      "text/plain": [
       "[('algorithm', 0.0017762050309509533),\n",
       " ('image', 0.0017514224480708134),\n",
       " ('accuracy', 0.0016581969967341952),\n",
       " ('password', 0.001443159050000835),\n",
       " ('encryption', 0.001443159050000835),\n",
       " ('images', 0.0013478801632724258),\n",
       " ('model', 0.0013186377461004936),\n",
       " ('classification', 0.0013141915363553557),\n",
       " ('energy', 0.0012916955443758287),\n",
       " ('users', 0.0012615301672353303),\n",
       " ('machine', 0.0012531744799898715),\n",
       " ('power', 0.0011676149653805422),\n",
       " ('algorithms', 0.0011563095401093994),\n",
       " ('classifier', 0.0011528582432941005),\n",
       " ('room', 0.0010933125238909807),\n",
       " ('feature', 0.0010633803526321941),\n",
       " ('signal', 0.0010517400128954952),\n",
       " ('training', 0.001028254890220613),\n",
       " ('user', 0.0010176039608166766),\n",
       " ('models', 0.0010133367038840631)]"
      ]
     },
     "execution_count": 183,
     "metadata": {},
     "output_type": "execute_result"
    }
   ],
   "source": [
    "print('DATA SCIENCE')\n",
    "top_n_words[5]"
   ]
  },
  {
   "cell_type": "code",
   "execution_count": 185,
   "id": "7a401594-beb5-4ba7-9827-5ce4fed628ff",
   "metadata": {
    "execution": {
     "iopub.execute_input": "2022-05-22T11:57:49.233691Z",
     "iopub.status.busy": "2022-05-22T11:57:49.233113Z",
     "iopub.status.idle": "2022-05-22T11:57:49.247572Z",
     "shell.execute_reply": "2022-05-22T11:57:49.246329Z",
     "shell.execute_reply.started": "2022-05-22T11:57:49.233625Z"
    },
    "tags": []
   },
   "outputs": [
    {
     "name": "stdout",
     "output_type": "stream",
     "text": [
      "PANDEMIC\n"
     ]
    },
    {
     "data": {
      "text/plain": [
       "[('face', 0.0018943367464429445),\n",
       " ('shall', 0.0017049028519430646),\n",
       " ('project', 0.001697549686623918),\n",
       " ('distribution', 0.0015891115783607224),\n",
       " ('products', 0.0014139996228930338),\n",
       " ('soap', 0.0014054567728769038),\n",
       " ('product', 0.001385432226685677),\n",
       " ('masks', 0.001366457991111631),\n",
       " ('production', 0.0012530705825884668),\n",
       " ('face masks', 0.0012049745382921326),\n",
       " ('mask', 0.0011560645942682922),\n",
       " ('alcohol', 0.0010539834588643767),\n",
       " ('produced', 0.0010464477441666862),\n",
       " ('hand', 0.0010158070740466881),\n",
       " ('fisheries', 0.0009748469643019776),\n",
       " ('nutri', 0.0009706989767649193),\n",
       " ('beneficiaries', 0.0009681494327413601),\n",
       " ('chip', 0.0009574621818628094),\n",
       " ('materials', 0.0009539822724433093),\n",
       " ('fruit', 0.0009458668265996622)]"
      ]
     },
     "execution_count": 185,
     "metadata": {},
     "output_type": "execute_result"
    }
   ],
   "source": [
    "print('PANDEMIC')\n",
    "top_n_words[11]"
   ]
  },
  {
   "cell_type": "code",
   "execution_count": 187,
   "id": "79b19099-5230-4c71-b99e-e7c919973d04",
   "metadata": {
    "execution": {
     "iopub.execute_input": "2022-05-22T11:58:01.549983Z",
     "iopub.status.busy": "2022-05-22T11:58:01.549314Z",
     "iopub.status.idle": "2022-05-22T11:58:01.564335Z",
     "shell.execute_reply": "2022-05-22T11:58:01.562889Z",
     "shell.execute_reply.started": "2022-05-22T11:58:01.549913Z"
    },
    "tags": []
   },
   "outputs": [
    {
     "name": "stdout",
     "output_type": "stream",
     "text": [
      "ONLINE LEARNING\n"
     ]
    },
    {
     "data": {
      "text/plain": [
       "[('internet', 0.0020676330575443696),\n",
       " ('steam', 0.0017727069824572672),\n",
       " ('connection', 0.0016868234169038782),\n",
       " ('internet connection', 0.001581059758282668),\n",
       " ('bullying', 0.0015390689299463883),\n",
       " ('experiences', 0.001480096743416043),\n",
       " ('online', 0.0014223167304147797),\n",
       " ('election', 0.001394026008706775),\n",
       " ('learning', 0.001336934780733892),\n",
       " ('education', 0.0013278150166319191),\n",
       " ('pandemic', 0.0013241466266956747),\n",
       " ('participants', 0.0012803678197115945),\n",
       " ('challenges', 0.0012336682934377177),\n",
       " ('flexible learning', 0.001194264825302155),\n",
       " ('work', 0.0011871304371760308),\n",
       " ('classes', 0.0011709474030781627),\n",
       " ('respondents', 0.0011641727190835074),\n",
       " ('employees', 0.0011186377840805665),\n",
       " ('flexible', 0.0011100210935841802),\n",
       " ('life', 0.0011088734905117259)]"
      ]
     },
     "execution_count": 187,
     "metadata": {},
     "output_type": "execute_result"
    }
   ],
   "source": [
    "print('ONLINE LEARNING')\n",
    "top_n_words[6]"
   ]
  },
  {
   "cell_type": "code",
   "execution_count": 193,
   "id": "9fe46396-3eaa-4128-ae50-2d449e36b30d",
   "metadata": {
    "execution": {
     "iopub.execute_input": "2022-05-22T11:59:03.519489Z",
     "iopub.status.busy": "2022-05-22T11:59:03.518864Z",
     "iopub.status.idle": "2022-05-22T11:59:03.533916Z",
     "shell.execute_reply": "2022-05-22T11:59:03.531985Z",
     "shell.execute_reply.started": "2022-05-22T11:59:03.519365Z"
    },
    "tags": []
   },
   "outputs": [
    {
     "name": "stdout",
     "output_type": "stream",
     "text": [
      "MICROBIOLOGY / BOTANY\n"
     ]
    },
    {
     "data": {
      "text/plain": [
       "[('salt', 0.0021689892521764716),\n",
       " ('plant', 0.001981968810818019),\n",
       " ('bacterial', 0.0018421144070861612),\n",
       " ('bacteria', 0.0018172647793571045),\n",
       " ('isolates', 0.0016806938293840957),\n",
       " ('stress', 0.0016093097879909973),\n",
       " ('rice', 0.0016031957212784772),\n",
       " ('plant growth', 0.001397620662197721),\n",
       " ('potential', 0.001375576839878627),\n",
       " ('emission', 0.0013543130999662573),\n",
       " ('optical', 0.0012696685312183664),\n",
       " ('species', 0.0012341229921691915),\n",
       " ('growth', 0.00120307208607922),\n",
       " ('endophytes', 0.0011975985412728582),\n",
       " ('nanoparticles', 0.0011275487120779443)]"
      ]
     },
     "execution_count": 193,
     "metadata": {},
     "output_type": "execute_result"
    }
   ],
   "source": [
    "print('MICROBIOLOGY / BOTANY')\n",
    "top_n_words[2][:15]"
   ]
  },
  {
   "cell_type": "code",
   "execution_count": 195,
   "id": "94eb8781-1711-4230-bb68-fe917e8e2573",
   "metadata": {
    "execution": {
     "iopub.execute_input": "2022-05-22T11:59:19.582511Z",
     "iopub.status.busy": "2022-05-22T11:59:19.581976Z",
     "iopub.status.idle": "2022-05-22T11:59:19.594959Z",
     "shell.execute_reply": "2022-05-22T11:59:19.593879Z",
     "shell.execute_reply.started": "2022-05-22T11:59:19.582448Z"
    },
    "tags": []
   },
   "outputs": [
    {
     "name": "stdout",
     "output_type": "stream",
     "text": [
      "INDIGENOUS PEOPLE\n"
     ]
    },
    {
     "data": {
      "text/plain": [
       "[('cultural', 0.0032144316128052152),\n",
       " ('indigenous', 0.0028191173062465623),\n",
       " ('humor', 0.0022373133266919984),\n",
       " ('oral', 0.001856108720684852),\n",
       " ('paper', 0.0018405759292190174),\n",
       " ('culture', 0.0017818560547444976),\n",
       " ('dutertes', 0.00177233606651175),\n",
       " ('discourse', 0.0016479897650062121),\n",
       " ('tinguian', 0.0016406964395741324),\n",
       " ('identity', 0.0016406964395741324),\n",
       " ('philosophy', 0.0016112146059197728),\n",
       " ('tradition', 0.0014831907885055908),\n",
       " ('regional', 0.0014211939688484319),\n",
       " ('igorot', 0.0013872712506172195),\n",
       " ('textual', 0.0013509142538486482)]"
      ]
     },
     "execution_count": 195,
     "metadata": {},
     "output_type": "execute_result"
    }
   ],
   "source": [
    "print('INDIGENOUS PEOPLE')\n",
    "top_n_words[9][:15]"
   ]
  },
  {
   "cell_type": "code",
   "execution_count": 197,
   "id": "a7aa7d22-477e-4fd7-ac9b-4d297e50a182",
   "metadata": {
    "execution": {
     "iopub.execute_input": "2022-05-22T11:59:42.316876Z",
     "iopub.status.busy": "2022-05-22T11:59:42.316345Z",
     "iopub.status.idle": "2022-05-22T11:59:42.329697Z",
     "shell.execute_reply": "2022-05-22T11:59:42.328566Z",
     "shell.execute_reply.started": "2022-05-22T11:59:42.316813Z"
    },
    "tags": []
   },
   "outputs": [
    {
     "name": "stdout",
     "output_type": "stream",
     "text": [
      "AGRICULTURE\n"
     ]
    },
    {
     "data": {
      "text/plain": [
       "[('crops', 0.0021947185077629567),\n",
       " ('farm', 0.0021665480045680073),\n",
       " ('biodiversity', 0.002021150261234202),\n",
       " ('adoption', 0.0019747322294156764),\n",
       " ('farming', 0.0019359171457477297),\n",
       " ('farmers', 0.001859326376751294),\n",
       " ('women', 0.0017466282406808575),\n",
       " ('climate', 0.0017384290816686652),\n",
       " ('tubers', 0.0016294065387421333),\n",
       " ('food', 0.0016130257977746342),\n",
       " ('public', 0.0015777734459746402),\n",
       " ('yam', 0.0015473300271588593),\n",
       " ('household', 0.001541142565306639),\n",
       " ('traditional', 0.0015283556413797866),\n",
       " ('peanut', 0.0015128011064602669)]"
      ]
     },
     "execution_count": 197,
     "metadata": {},
     "output_type": "execute_result"
    }
   ],
   "source": [
    "print('AGRICULTURE')\n",
    "top_n_words[8][:15]"
   ]
  },
  {
   "cell_type": "code",
   "execution_count": 199,
   "id": "7de95b51-53ab-46b3-b54e-713f5f514340",
   "metadata": {
    "execution": {
     "iopub.execute_input": "2022-05-22T12:00:02.060601Z",
     "iopub.status.busy": "2022-05-22T12:00:02.059911Z",
     "iopub.status.idle": "2022-05-22T12:00:02.073630Z",
     "shell.execute_reply": "2022-05-22T12:00:02.072086Z",
     "shell.execute_reply.started": "2022-05-22T12:00:02.060536Z"
    },
    "tags": []
   },
   "outputs": [
    {
     "name": "stdout",
     "output_type": "stream",
     "text": [
      "MARINE BIOLOGY\n"
     ]
    },
    {
     "data": {
      "text/plain": [
       "[('species', 0.007029170419403452),\n",
       " ('reef', 0.004396746368411423),\n",
       " ('island', 0.0038317994239855124),\n",
       " ('diversity', 0.003537180032109197),\n",
       " ('giant', 0.0034840593997954696),\n",
       " ('fish', 0.003296540987091988),\n",
       " ('samal', 0.0032643387652917036),\n",
       " ('coral', 0.003209839085222821),\n",
       " ('seagrass', 0.003101093268188674),\n",
       " ('habitats', 0.002903018506271617),\n",
       " ('fishes', 0.002819978072830781),\n",
       " ('fishing', 0.0026560904937974815),\n",
       " ('reef fishes', 0.002585916446308902),\n",
       " ('samal island', 0.002585916446308902),\n",
       " ('abundance', 0.002301848514987697)]"
      ]
     },
     "execution_count": 199,
     "metadata": {},
     "output_type": "execute_result"
    }
   ],
   "source": [
    "print('MARINE BIOLOGY')\n",
    "top_n_words[1][:15]"
   ]
  },
  {
   "cell_type": "code",
   "execution_count": 200,
   "id": "c6cdf2e2-c657-4697-9ed1-be7129bec8bd",
   "metadata": {
    "execution": {
     "iopub.execute_input": "2022-05-22T12:00:10.832961Z",
     "iopub.status.busy": "2022-05-22T12:00:10.832430Z",
     "iopub.status.idle": "2022-05-22T12:00:10.845887Z",
     "shell.execute_reply": "2022-05-22T12:00:10.844749Z",
     "shell.execute_reply.started": "2022-05-22T12:00:10.832900Z"
    },
    "tags": []
   },
   "outputs": [
    {
     "name": "stdout",
     "output_type": "stream",
     "text": [
      "DATA SCIENCE\n"
     ]
    },
    {
     "data": {
      "text/plain": [
       "[('delay', 0.005025405862115775),\n",
       " ('equations', 0.004397230129351303),\n",
       " ('stability', 0.004240961408210749),\n",
       " ('numerical', 0.004213710990139953),\n",
       " ('predator', 0.004183958574748167),\n",
       " ('algorithm', 0.004044232262133845),\n",
       " ('differential', 0.0040232058873816545),\n",
       " ('model', 0.003931254961747292),\n",
       " ('solutions', 0.003869758607913037),\n",
       " ('desa', 0.0036421037554076915),\n",
       " ('derivatives', 0.0036421037554076915),\n",
       " ('equilibrium', 0.0036421037554076915),\n",
       " ('prey', 0.0036421037554076915),\n",
       " ('symmetry', 0.003625985300967237),\n",
       " ('fluid', 0.003358753330486897)]"
      ]
     },
     "execution_count": 200,
     "metadata": {},
     "output_type": "execute_result"
    }
   ],
   "source": [
    "print('DATA SCIENCE')\n",
    "top_n_words[4][:15]"
   ]
  },
  {
   "cell_type": "code",
   "execution_count": null,
   "id": "3e7b8f79-aa58-4738-adbc-8d235c1458d4",
   "metadata": {},
   "outputs": [],
   "source": []
  }
 ],
 "metadata": {
  "kernelspec": {
   "display_name": "Python 3 (ipykernel)",
   "language": "python",
   "name": "python3"
  },
  "language_info": {
   "codemirror_mode": {
    "name": "ipython",
    "version": 3
   },
   "file_extension": ".py",
   "mimetype": "text/x-python",
   "name": "python",
   "nbconvert_exporter": "python",
   "pygments_lexer": "ipython3",
   "version": "3.9.7"
  },
  "toc": {
   "base_numbering": 1,
   "nav_menu": {},
   "number_sections": true,
   "sideBar": true,
   "skip_h1_title": false,
   "title_cell": "Table of Contents",
   "title_sidebar": "Contents",
   "toc_cell": false,
   "toc_position": {},
   "toc_section_display": true,
   "toc_window_display": false
  }
 },
 "nbformat": 4,
 "nbformat_minor": 5
}
