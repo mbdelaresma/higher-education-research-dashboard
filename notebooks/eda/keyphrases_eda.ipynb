{
 "cells": [
  {
   "cell_type": "markdown",
   "id": "63aa9ccc",
   "metadata": {},
   "source": [
    "# Import Packages"
   ]
  },
  {
   "cell_type": "code",
   "execution_count": 1,
   "id": "afa3203c",
   "metadata": {
    "ExecuteTime": {
     "end_time": "2022-07-03T14:04:41.275387Z",
     "start_time": "2022-07-03T14:04:41.261881Z"
    }
   },
   "outputs": [],
   "source": [
    "import os\n",
    "os.environ['XDG_CACHE_HOME'] = 'home/msds2022/mpingol/ .cache'"
   ]
  },
  {
   "cell_type": "code",
   "execution_count": 2,
   "id": "75b5948a",
   "metadata": {
    "ExecuteTime": {
     "end_time": "2022-07-03T14:04:42.626764Z",
     "start_time": "2022-07-03T14:04:41.278165Z"
    }
   },
   "outputs": [],
   "source": [
    "import pandas as pd\n",
    "import numpy as np\n",
    "import matplotlib.pyplot as plt\n",
    "import itertools\n",
    "import re\n",
    "from itertools import chain"
   ]
  },
  {
   "cell_type": "markdown",
   "id": "987cad44",
   "metadata": {},
   "source": [
    "# Load Data"
   ]
  },
  {
   "cell_type": "code",
   "execution_count": 3,
   "id": "59aa1cab",
   "metadata": {
    "ExecuteTime": {
     "end_time": "2022-07-03T14:04:43.193642Z",
     "start_time": "2022-07-03T14:04:42.628999Z"
    }
   },
   "outputs": [],
   "source": [
    "df = pd.ExcelFile('research_profile_v4.xlsx').parse('research_profile')"
   ]
  },
  {
   "cell_type": "code",
   "execution_count": 4,
   "id": "f2b259cb",
   "metadata": {
    "ExecuteTime": {
     "end_time": "2022-07-03T14:04:43.201076Z",
     "start_time": "2022-07-03T14:04:43.196501Z"
    }
   },
   "outputs": [],
   "source": [
    "kp_df = df[['Research Title', 'Abstract', 'Keywords']].copy()\n",
    "kp_df.columns = ['title', 'abstract', 'keywords']"
   ]
  },
  {
   "cell_type": "markdown",
   "id": "15d996a2",
   "metadata": {},
   "source": [
    "# EDA"
   ]
  },
  {
   "cell_type": "markdown",
   "id": "8d29b8b7",
   "metadata": {},
   "source": [
    "Number of abstracts with keywords"
   ]
  },
  {
   "cell_type": "code",
   "execution_count": 5,
   "id": "25f922e4",
   "metadata": {
    "ExecuteTime": {
     "end_time": "2022-07-03T14:04:43.209986Z",
     "start_time": "2022-07-03T14:04:43.203032Z"
    }
   },
   "outputs": [
    {
     "data": {
      "text/plain": [
       "814"
      ]
     },
     "execution_count": 5,
     "metadata": {},
     "output_type": "execute_result"
    }
   ],
   "source": [
    "kp_df['keywords'].notnull().sum()"
   ]
  },
  {
   "cell_type": "markdown",
   "id": "99c92b9d",
   "metadata": {},
   "source": [
    "Number of abstracts without keywords"
   ]
  },
  {
   "cell_type": "code",
   "execution_count": 6,
   "id": "2e95e7f8",
   "metadata": {
    "ExecuteTime": {
     "end_time": "2022-07-03T14:04:43.217710Z",
     "start_time": "2022-07-03T14:04:43.211723Z"
    }
   },
   "outputs": [
    {
     "data": {
      "text/plain": [
       "465"
      ]
     },
     "execution_count": 6,
     "metadata": {},
     "output_type": "execute_result"
    }
   ],
   "source": [
    "kp_df['keywords'].isnull().sum()"
   ]
  },
  {
   "cell_type": "markdown",
   "id": "13293169",
   "metadata": {},
   "source": [
    "Proportion of abstracts without keywords"
   ]
  },
  {
   "cell_type": "code",
   "execution_count": 7,
   "id": "610213b6",
   "metadata": {
    "ExecuteTime": {
     "end_time": "2022-07-03T14:04:43.224493Z",
     "start_time": "2022-07-03T14:04:43.219530Z"
    }
   },
   "outputs": [
    {
     "data": {
      "text/plain": [
       "0.3635652853792025"
      ]
     },
     "execution_count": 7,
     "metadata": {},
     "output_type": "execute_result"
    }
   ],
   "source": [
    "kp_df['keywords'].isnull().sum()/len(kp_df['keywords'])"
   ]
  },
  {
   "cell_type": "markdown",
   "id": "c75a8efa",
   "metadata": {},
   "source": [
    "Average keyword count per abstract"
   ]
  },
  {
   "cell_type": "code",
   "execution_count": 8,
   "id": "5acb764c",
   "metadata": {
    "ExecuteTime": {
     "end_time": "2022-07-03T14:04:43.235376Z",
     "start_time": "2022-07-03T14:04:43.226408Z"
    }
   },
   "outputs": [
    {
     "data": {
      "text/plain": [
       "4.12039312039312"
      ]
     },
     "execution_count": 8,
     "metadata": {},
     "output_type": "execute_result"
    }
   ],
   "source": [
    "origkw_count = []\n",
    "kw_idx = kp_df['keywords'][kp_df['keywords'].notnull()].index\n",
    "for kw in kp_df['keywords'].loc[kw_idx]:\n",
    "    try:\n",
    "        kw = re.sub(r\", \", \"; \", kw)\n",
    "        kw = kw.split(\";\")\n",
    "        origkw_count.append(len(kw))\n",
    "    except:\n",
    "        print(kw)\n",
    "        \n",
    "np.mean(origkw_count)"
   ]
  },
  {
   "cell_type": "code",
   "execution_count": 9,
   "id": "3ef2bfa3",
   "metadata": {
    "ExecuteTime": {
     "end_time": "2022-07-03T14:04:43.395158Z",
     "start_time": "2022-07-03T14:04:43.236989Z"
    }
   },
   "outputs": [
    {
     "data": {
      "image/png": "[encoded data removed]",
      "text/plain": [
       "<Figure size 432x288 with 1 Axes>"
      ]
     },
     "metadata": {
      "needs_background": "light"
     },
     "output_type": "display_data"
    }
   ],
   "source": [
    "pd.Series(origkw_count).hist();"
   ]
  },
  {
   "cell_type": "markdown",
   "id": "7e64cd78",
   "metadata": {},
   "source": [
    "Average word count per keyphrase"
   ]
  },
  {
   "cell_type": "code",
   "execution_count": 10,
   "id": "e9a0470e",
   "metadata": {
    "ExecuteTime": {
     "end_time": "2022-07-03T14:04:43.409219Z",
     "start_time": "2022-07-03T14:04:43.397819Z"
    }
   },
   "outputs": [
    {
     "data": {
      "text/plain": [
       "2.133571854502087"
      ]
     },
     "execution_count": 10,
     "metadata": {},
     "output_type": "execute_result"
    }
   ],
   "source": [
    "origkw_wordcount = []\n",
    "kw_idx = kp_df['keywords'][kp_df['keywords'].notnull()].index\n",
    "for kw in kp_df['keywords'].loc[kw_idx]:\n",
    "    try:\n",
    "        kw = re.sub(r\", \", \"; \", kw)\n",
    "        kw = kw.split(\";\")\n",
    "        origkw_wordcount.append([len(p.split(\" \")) for p in kw])\n",
    "    except:\n",
    "        print(kw)\n",
    "        \n",
    "origkw_wordcount = list(itertools.chain.from_iterable(origkw_wordcount))\n",
    "\n",
    "np.mean(origkw_wordcount)"
   ]
  },
  {
   "cell_type": "code",
   "execution_count": 11,
   "id": "578d1d20",
   "metadata": {
    "ExecuteTime": {
     "end_time": "2022-07-03T14:04:43.531309Z",
     "start_time": "2022-07-03T14:04:43.410751Z"
    }
   },
   "outputs": [
    {
     "data": {
      "image/png": "[encoded data removed]",
      "text/plain": [
       "<Figure size 432x288 with 1 Axes>"
      ]
     },
     "metadata": {
      "needs_background": "light"
     },
     "output_type": "display_data"
    }
   ],
   "source": [
    "pd.Series(origkw_wordcount).hist();"
   ]
  }
 ],
 "metadata": {
  "kernelspec": {
   "display_name": "Python 3 (ipykernel)",
   "language": "python",
   "name": "python3"
  },
  "language_info": {
   "codemirror_mode": {
    "name": "ipython",
    "version": 3
   },
   "file_extension": ".py",
   "mimetype": "text/x-python",
   "name": "python",
   "nbconvert_exporter": "python",
   "pygments_lexer": "ipython3",
   "version": "3.9.7"
  },
  "toc": {
   "base_numbering": 1,
   "nav_menu": {},
   "number_sections": true,
   "sideBar": true,
   "skip_h1_title": false,
   "title_cell": "Table of Contents",
   "title_sidebar": "Contents",
   "toc_cell": false,
   "toc_position": {},
   "toc_section_display": true,
   "toc_window_display": false
  }
 },
 "nbformat": 4,
 "nbformat_minor": 5
}
